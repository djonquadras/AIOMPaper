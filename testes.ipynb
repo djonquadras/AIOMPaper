{
 "cells": [
  {
   "cell_type": "code",
   "execution_count": 1,
   "metadata": {},
   "outputs": [],
   "source": [
    "# importing modules\n",
    "import pandas as pd"
   ]
  },
  {
   "cell_type": "code",
   "execution_count": 8,
   "metadata": {},
   "outputs": [
    {
     "name": "stdout",
     "output_type": "stream",
     "text": [
      "        Date  ID  Price\n",
      "0 2000-01-02   1    140\n",
      "1 2000-01-02   2    120\n",
      "2 2000-01-09   3    230\n",
      "3 2000-01-10   4     40\n",
      "4 2000-01-10   5    100\n",
      "5 2000-01-11   6    450\n"
     ]
    }
   ],
   "source": [
    "# creating a dataframe df\n",
    "df = pd.DataFrame(\n",
    "    {\n",
    "        \"Date\": [\n",
    "            pd.Timestamp(\"2000-01-02\"),\n",
    "            pd.Timestamp(\"2000-01-02\"),\n",
    "            pd.Timestamp(\"2000-01-09\"),\n",
    "            pd.Timestamp(\"2000-01-10\"),\n",
    "            pd.Timestamp(\"2000-01-10\"),\n",
    "            pd.Timestamp(\"2000-01-11\")\n",
    "        ],\n",
    "        \"ID\": [1, 2, 3, 4, 5, 6],\n",
    "        \"Price\": [140, 120, 230, 40, 100, 450]\n",
    "    }\n",
    ")\n",
    "  \n",
    "# show df\n",
    "print(df)"
   ]
  },
  {
   "cell_type": "code",
   "execution_count": 9,
   "metadata": {},
   "outputs": [
    {
     "data": {
      "text/html": [
       "<div>\n",
       "<style scoped>\n",
       "    .dataframe tbody tr th:only-of-type {\n",
       "        vertical-align: middle;\n",
       "    }\n",
       "\n",
       "    .dataframe tbody tr th {\n",
       "        vertical-align: top;\n",
       "    }\n",
       "\n",
       "    .dataframe thead th {\n",
       "        text-align: right;\n",
       "    }\n",
       "</style>\n",
       "<table border=\"1\" class=\"dataframe\">\n",
       "  <thead>\n",
       "    <tr style=\"text-align: right;\">\n",
       "      <th></th>\n",
       "      <th>ID</th>\n",
       "      <th>Price</th>\n",
       "    </tr>\n",
       "    <tr>\n",
       "      <th>Date</th>\n",
       "      <th></th>\n",
       "      <th></th>\n",
       "    </tr>\n",
       "  </thead>\n",
       "  <tbody>\n",
       "    <tr>\n",
       "      <th>2000-01-02</th>\n",
       "      <td>3</td>\n",
       "      <td>260</td>\n",
       "    </tr>\n",
       "    <tr>\n",
       "      <th>2000-01-04</th>\n",
       "      <td>0</td>\n",
       "      <td>0</td>\n",
       "    </tr>\n",
       "    <tr>\n",
       "      <th>2000-01-06</th>\n",
       "      <td>0</td>\n",
       "      <td>0</td>\n",
       "    </tr>\n",
       "    <tr>\n",
       "      <th>2000-01-08</th>\n",
       "      <td>3</td>\n",
       "      <td>230</td>\n",
       "    </tr>\n",
       "    <tr>\n",
       "      <th>2000-01-10</th>\n",
       "      <td>15</td>\n",
       "      <td>590</td>\n",
       "    </tr>\n",
       "  </tbody>\n",
       "</table>\n",
       "</div>"
      ],
      "text/plain": [
       "            ID  Price\n",
       "Date                 \n",
       "2000-01-02   3    260\n",
       "2000-01-04   0      0\n",
       "2000-01-06   0      0\n",
       "2000-01-08   3    230\n",
       "2000-01-10  15    590"
      ]
     },
     "execution_count": 9,
     "metadata": {},
     "output_type": "execute_result"
    }
   ],
   "source": [
    "# applying the groupby function on df\n",
    "df.groupby(pd.Grouper(key='Date', axis=0, \n",
    "                      freq='2D')).sum()"
   ]
  }
 ],
 "metadata": {
  "interpreter": {
   "hash": "299a4ebd501d73f02436330372354c2b2698d2b56eaf76676afa2b5587f88ae4"
  },
  "kernelspec": {
   "display_name": "Python 3.9.0 ('.env': venv)",
   "language": "python",
   "name": "python3"
  },
  "language_info": {
   "codemirror_mode": {
    "name": "ipython",
    "version": 3
   },
   "file_extension": ".py",
   "mimetype": "text/x-python",
   "name": "python",
   "nbconvert_exporter": "python",
   "pygments_lexer": "ipython3",
   "version": "3.9.0"
  },
  "orig_nbformat": 4
 },
 "nbformat": 4,
 "nbformat_minor": 2
}

{
 "cells": [
  {
   "cell_type": "markdown",
   "metadata": {},
   "source": [
    "# Predictive Maintenance using the Condition monitoring of hydraulic systems Data Set"
   ]
  },
  {
   "cell_type": "markdown",
   "metadata": {},
   "source": [
    "In this notebook, we will use the dateset (https://archive.ics.uci.edu/ml/datasets/Condition+monitoring+of+hydraulic+systems) to demonstrate the training of machine learning models to predict faults.\n",
    "\n",
    "Creator of the dataset: ZeMA gGmbH, Eschberger Weg 46, 66121 Saarbrücken\n",
    "\n",
    "For more information, refer to: Nikolai Helwig, Eliseo Pignanelli, Andreas Schätze, Condition Monitoring of a Complex Hydraulic System Using Multivariate Statistics, in Proc. I2MTC-2015 - 2015 IEEE International Instrumentation and Measurement Technology Conference, paper PPS1-39, Pisa, Italy, May 11-14, 2015, doi: 10.1109/I2MTC.2015.7151267.\n",
    "\n",
    "Data Set Information:\n",
    "The data set was experimentally obtained with a hydraulic test rig. This test rig consists of a primary working and a secondary cooling-filtration circuit which are connected via the oil tank. The system cyclically repeats constant load cycles (duration 60 seconds) and measures process values such as pressures, volume flows and temperatures while the condition of four hydraulic components (cooler, valve, pump and accumulator) is quantitatively varied.\n",
    "\n",
    "Attribute Information:\n",
    "The data set contains raw process sensor data (i.e. without feature extraction) which are structured as matrices (tab-delimited) with the rows representing the cycles and the columns the data points within a cycle. The sensors involved are:\n",
    "Sensor Physical quantity Unit Sampling rate\n",
    "PS1 Pressure bar 100 Hz\n",
    "PS2 Pressure bar 100 Hz\n",
    "PS3 Pressure bar 100 Hz\n",
    "PS4 Pressure bar 100 Hz\n",
    "PS5 Pressure bar 100 Hz\n",
    "PS6 Pressure bar 100 Hz\n",
    "EPS1 Motor power W 100 Hz\n",
    "FS1 Volume flow l/min 10 Hz\n",
    "FS2 Volume flow l/min 10 Hz\n",
    "TS1 Temperature Â°C 1 Hz\n",
    "TS2 Temperature Â°C 1 Hz\n",
    "TS3 Temperature Â°C 1 Hz\n",
    "TS4 Temperature Â°C 1 Hz\n",
    "VS1 Vibration mm/s 1 Hz\n",
    "CE Cooling efficiency (virtual) % 1 Hz\n",
    "CP Cooling power (virtual) kW 1 Hz\n",
    "SE Efficiency factor % 1 Hz\n",
    "\n",
    "The target condition values are cycle-wise annotated in profile.txt (tab-delimited). As before, the row number represents the cycle number. The columns are\n",
    "\n",
    "1: Cooler condition / %:\n",
    "3: close to total failure\n",
    "20: reduced effifiency\n",
    "100: full efficiency\n",
    "\n",
    "2: Valve condition / %:\n",
    "100: optimal switching behavior\n",
    "90: small lag\n",
    "80: severe lag\n",
    "73: close to total failure\n",
    "\n",
    "3: Internal pump leakage:\n",
    "0: no leakage\n",
    "1: weak leakage\n",
    "2: severe leakage\n",
    "\n",
    "4: Hydraulic accumulator / bar:\n",
    "130: optimal pressure\n",
    "115: slightly reduced pressure\n",
    "100: severely reduced pressure\n",
    "90: close to total failure\n",
    "\n",
    "5: stable flag:\n",
    "0: conditions were stable\n",
    "1: static conditions might not have been reached yet"
   ]
  },
  {
   "cell_type": "markdown",
   "metadata": {},
   "source": [
    "## Goal"
   ]
  },
  {
   "attachments": {
    "grafik.png": {
     "image/png": "[encoded data removed]"
    }
   },
   "cell_type": "markdown",
   "metadata": {},
   "source": [
    "Our goal is to find a model that is able to predict the correct condition of the cooler (3,20,100) based on a feature matrix describing the condition of the complete hydraulic system.\n",
    "\n",
    "Since we have labels (cooler conditions) for 2205 measurement cycles, we need a feature matrix of the shape (2205 x F), where F is the number of different features which have to be extracted from the given measurement datasets for each measurement cycle.\n",
    "\n",
    "We will use the measurements of four different temperature sensors. Four each of the 2205 measurement cycles, we have 4 time series representing the measurements of the different temperature sensors. Each of the time series consists of 60 measurements. This means, we have to extract features describing the different time series.\n",
    "\n",
    "![grafik.png](attachment:grafik.png)"
   ]
  },
  {
   "cell_type": "code",
   "execution_count": 1,
   "metadata": {},
   "outputs": [],
   "source": [
    "import os\n",
    "import random\n",
    "import itertools\n",
    "import numpy as np\n",
    "import pandas as pd\n",
    "import matplotlib.pyplot as plt\n",
    "\n",
    "from sklearn.manifold import TSNE\n",
    "from sklearn.preprocessing import StandardScaler\n",
    "from sklearn.model_selection import train_test_split\n",
    "from sklearn.metrics import accuracy_score, confusion_matrix, classification_report"
   ]
  },
  {
   "cell_type": "code",
   "execution_count": 2,
   "metadata": {},
   "outputs": [
    {
     "name": "stdout",
     "output_type": "stream",
     "text": [
      "(8820, 60)\n"
     ]
    },
    {
     "data": {
      "text/html": [
       "<div>\n",
       "<style scoped>\n",
       "    .dataframe tbody tr th:only-of-type {\n",
       "        vertical-align: middle;\n",
       "    }\n",
       "\n",
       "    .dataframe tbody tr th {\n",
       "        vertical-align: top;\n",
       "    }\n",
       "\n",
       "    .dataframe thead th {\n",
       "        text-align: right;\n",
       "    }\n",
       "</style>\n",
       "<table border=\"1\" class=\"dataframe\">\n",
       "  <thead>\n",
       "    <tr style=\"text-align: right;\">\n",
       "      <th></th>\n",
       "      <th>0</th>\n",
       "      <th>1</th>\n",
       "      <th>2</th>\n",
       "      <th>3</th>\n",
       "      <th>4</th>\n",
       "      <th>5</th>\n",
       "      <th>6</th>\n",
       "      <th>7</th>\n",
       "      <th>8</th>\n",
       "      <th>9</th>\n",
       "      <th>...</th>\n",
       "      <th>50</th>\n",
       "      <th>51</th>\n",
       "      <th>52</th>\n",
       "      <th>53</th>\n",
       "      <th>54</th>\n",
       "      <th>55</th>\n",
       "      <th>56</th>\n",
       "      <th>57</th>\n",
       "      <th>58</th>\n",
       "      <th>59</th>\n",
       "    </tr>\n",
       "  </thead>\n",
       "  <tbody>\n",
       "    <tr>\n",
       "      <th>0</th>\n",
       "      <td>35.570</td>\n",
       "      <td>35.492</td>\n",
       "      <td>35.469</td>\n",
       "      <td>35.422</td>\n",
       "      <td>35.414</td>\n",
       "      <td>35.320</td>\n",
       "      <td>35.227</td>\n",
       "      <td>35.242</td>\n",
       "      <td>35.160</td>\n",
       "      <td>35.176</td>\n",
       "      <td>...</td>\n",
       "      <td>36.008</td>\n",
       "      <td>35.984</td>\n",
       "      <td>35.996</td>\n",
       "      <td>36.039</td>\n",
       "      <td>36.008</td>\n",
       "      <td>36.008</td>\n",
       "      <td>36.094</td>\n",
       "      <td>36.102</td>\n",
       "      <td>36.090</td>\n",
       "      <td>36.152</td>\n",
       "    </tr>\n",
       "    <tr>\n",
       "      <th>1</th>\n",
       "      <td>36.156</td>\n",
       "      <td>36.094</td>\n",
       "      <td>35.992</td>\n",
       "      <td>36.008</td>\n",
       "      <td>35.992</td>\n",
       "      <td>35.902</td>\n",
       "      <td>35.824</td>\n",
       "      <td>35.820</td>\n",
       "      <td>35.727</td>\n",
       "      <td>35.727</td>\n",
       "      <td>...</td>\n",
       "      <td>37.328</td>\n",
       "      <td>37.324</td>\n",
       "      <td>37.340</td>\n",
       "      <td>37.332</td>\n",
       "      <td>37.316</td>\n",
       "      <td>37.410</td>\n",
       "      <td>37.418</td>\n",
       "      <td>37.422</td>\n",
       "      <td>37.488</td>\n",
       "      <td>37.477</td>\n",
       "    </tr>\n",
       "    <tr>\n",
       "      <th>2</th>\n",
       "      <td>37.488</td>\n",
       "      <td>37.391</td>\n",
       "      <td>37.340</td>\n",
       "      <td>37.312</td>\n",
       "      <td>37.223</td>\n",
       "      <td>37.145</td>\n",
       "      <td>37.059</td>\n",
       "      <td>36.973</td>\n",
       "      <td>36.898</td>\n",
       "      <td>36.879</td>\n",
       "      <td>...</td>\n",
       "      <td>38.457</td>\n",
       "      <td>38.461</td>\n",
       "      <td>38.457</td>\n",
       "      <td>38.469</td>\n",
       "      <td>38.469</td>\n",
       "      <td>38.555</td>\n",
       "      <td>38.527</td>\n",
       "      <td>38.543</td>\n",
       "      <td>38.527</td>\n",
       "      <td>38.621</td>\n",
       "    </tr>\n",
       "    <tr>\n",
       "      <th>3</th>\n",
       "      <td>38.633</td>\n",
       "      <td>38.535</td>\n",
       "      <td>38.469</td>\n",
       "      <td>38.379</td>\n",
       "      <td>38.297</td>\n",
       "      <td>38.223</td>\n",
       "      <td>38.125</td>\n",
       "      <td>38.062</td>\n",
       "      <td>37.977</td>\n",
       "      <td>37.969</td>\n",
       "      <td>...</td>\n",
       "      <td>39.441</td>\n",
       "      <td>39.363</td>\n",
       "      <td>39.367</td>\n",
       "      <td>39.457</td>\n",
       "      <td>39.461</td>\n",
       "      <td>39.461</td>\n",
       "      <td>39.473</td>\n",
       "      <td>39.441</td>\n",
       "      <td>39.453</td>\n",
       "      <td>39.461</td>\n",
       "    </tr>\n",
       "    <tr>\n",
       "      <th>4</th>\n",
       "      <td>39.461</td>\n",
       "      <td>39.461</td>\n",
       "      <td>39.375</td>\n",
       "      <td>39.281</td>\n",
       "      <td>39.203</td>\n",
       "      <td>39.113</td>\n",
       "      <td>39.043</td>\n",
       "      <td>38.969</td>\n",
       "      <td>38.875</td>\n",
       "      <td>38.883</td>\n",
       "      <td>...</td>\n",
       "      <td>40.324</td>\n",
       "      <td>40.320</td>\n",
       "      <td>40.312</td>\n",
       "      <td>40.340</td>\n",
       "      <td>40.320</td>\n",
       "      <td>40.387</td>\n",
       "      <td>40.391</td>\n",
       "      <td>40.391</td>\n",
       "      <td>40.387</td>\n",
       "      <td>40.391</td>\n",
       "    </tr>\n",
       "  </tbody>\n",
       "</table>\n",
       "<p>5 rows × 60 columns</p>\n",
       "</div>"
      ],
      "text/plain": [
       "       0       1       2       3       4       5       6       7       8   \\\n",
       "0  35.570  35.492  35.469  35.422  35.414  35.320  35.227  35.242  35.160   \n",
       "1  36.156  36.094  35.992  36.008  35.992  35.902  35.824  35.820  35.727   \n",
       "2  37.488  37.391  37.340  37.312  37.223  37.145  37.059  36.973  36.898   \n",
       "3  38.633  38.535  38.469  38.379  38.297  38.223  38.125  38.062  37.977   \n",
       "4  39.461  39.461  39.375  39.281  39.203  39.113  39.043  38.969  38.875   \n",
       "\n",
       "       9   ...      50      51      52      53      54      55      56  \\\n",
       "0  35.176  ...  36.008  35.984  35.996  36.039  36.008  36.008  36.094   \n",
       "1  35.727  ...  37.328  37.324  37.340  37.332  37.316  37.410  37.418   \n",
       "2  36.879  ...  38.457  38.461  38.457  38.469  38.469  38.555  38.527   \n",
       "3  37.969  ...  39.441  39.363  39.367  39.457  39.461  39.461  39.473   \n",
       "4  38.883  ...  40.324  40.320  40.312  40.340  40.320  40.387  40.391   \n",
       "\n",
       "       57      58      59  \n",
       "0  36.102  36.090  36.152  \n",
       "1  37.422  37.488  37.477  \n",
       "2  38.543  38.527  38.621  \n",
       "3  39.441  39.453  39.461  \n",
       "4  40.391  40.387  40.391  \n",
       "\n",
       "[5 rows x 60 columns]"
      ]
     },
     "execution_count": 2,
     "metadata": {},
     "output_type": "execute_result"
    }
   ],
   "source": [
    "### LOAD DATA ###\n",
    "\n",
    "label = pd.read_csv('profile.txt', sep='\\t', header=None)\n",
    "label.columns = ['Cooler','Valve','Pump','Accumulator','Flag']\n",
    "\n",
    "data = ['TS1.txt','TS2.txt','TS3.txt','TS4.txt']\n",
    "df = pd.DataFrame()\n",
    "\n",
    "for txt in data:\n",
    "    read_df = pd.read_csv(txt, sep='\\t', header=None)\n",
    "    df = df.append(read_df)    \n",
    "\n",
    "print(df.shape)\n",
    "df.head()"
   ]
  },
  {
   "cell_type": "code",
   "execution_count": 3,
   "metadata": {},
   "outputs": [
    {
     "name": "stdout",
     "output_type": "stream",
     "text": [
      "2205 measurement cycles\n",
      "60 measurements per cycle\n",
      "4 temperature sensors\n"
     ]
    }
   ],
   "source": [
    "n=int(len(df)/len(data))\n",
    "m=len(df.columns)\n",
    "print(n,'measurement cycles')\n",
    "print(m,'measurements per cycle')\n",
    "print(len(data),'temperature sensors')"
   ]
  },
  {
   "cell_type": "code",
   "execution_count": 4,
   "metadata": {},
   "outputs": [
    {
     "data": {
      "text/plain": [
       "0"
      ]
     },
     "execution_count": 4,
     "metadata": {},
     "output_type": "execute_result"
    }
   ],
   "source": [
    "df.isnull().sum().sum()"
   ]
  },
  {
   "cell_type": "code",
   "execution_count": 5,
   "metadata": {},
   "outputs": [
    {
     "data": {
      "text/plain": [
       "0"
      ]
     },
     "execution_count": 5,
     "metadata": {},
     "output_type": "execute_result"
    }
   ],
   "source": [
    "df.duplicated().sum()"
   ]
  },
  {
   "cell_type": "code",
   "execution_count": 6,
   "metadata": {},
   "outputs": [
    {
     "data": {
      "text/html": [
       "<div>\n",
       "<style scoped>\n",
       "    .dataframe tbody tr th:only-of-type {\n",
       "        vertical-align: middle;\n",
       "    }\n",
       "\n",
       "    .dataframe tbody tr th {\n",
       "        vertical-align: top;\n",
       "    }\n",
       "\n",
       "    .dataframe thead th {\n",
       "        text-align: right;\n",
       "    }\n",
       "</style>\n",
       "<table border=\"1\" class=\"dataframe\">\n",
       "  <thead>\n",
       "    <tr style=\"text-align: right;\">\n",
       "      <th></th>\n",
       "      <th>0</th>\n",
       "      <th>1</th>\n",
       "      <th>2</th>\n",
       "      <th>3</th>\n",
       "      <th>4</th>\n",
       "      <th>5</th>\n",
       "      <th>6</th>\n",
       "      <th>7</th>\n",
       "      <th>8</th>\n",
       "      <th>9</th>\n",
       "      <th>...</th>\n",
       "      <th>50</th>\n",
       "      <th>51</th>\n",
       "      <th>52</th>\n",
       "      <th>53</th>\n",
       "      <th>54</th>\n",
       "      <th>55</th>\n",
       "      <th>56</th>\n",
       "      <th>57</th>\n",
       "      <th>58</th>\n",
       "      <th>59</th>\n",
       "    </tr>\n",
       "  </thead>\n",
       "  <tbody>\n",
       "    <tr>\n",
       "      <th>0</th>\n",
       "      <td>35.570</td>\n",
       "      <td>35.492</td>\n",
       "      <td>35.469</td>\n",
       "      <td>35.422</td>\n",
       "      <td>35.414</td>\n",
       "      <td>35.320</td>\n",
       "      <td>35.227</td>\n",
       "      <td>35.242</td>\n",
       "      <td>35.160</td>\n",
       "      <td>35.176</td>\n",
       "      <td>...</td>\n",
       "      <td>36.008</td>\n",
       "      <td>35.984</td>\n",
       "      <td>35.996</td>\n",
       "      <td>36.039</td>\n",
       "      <td>36.008</td>\n",
       "      <td>36.008</td>\n",
       "      <td>36.094</td>\n",
       "      <td>36.102</td>\n",
       "      <td>36.090</td>\n",
       "      <td>36.152</td>\n",
       "    </tr>\n",
       "    <tr>\n",
       "      <th>0</th>\n",
       "      <td>40.961</td>\n",
       "      <td>40.949</td>\n",
       "      <td>40.965</td>\n",
       "      <td>40.922</td>\n",
       "      <td>40.879</td>\n",
       "      <td>40.879</td>\n",
       "      <td>40.828</td>\n",
       "      <td>40.812</td>\n",
       "      <td>40.809</td>\n",
       "      <td>40.785</td>\n",
       "      <td>...</td>\n",
       "      <td>41.211</td>\n",
       "      <td>41.129</td>\n",
       "      <td>41.195</td>\n",
       "      <td>41.211</td>\n",
       "      <td>41.207</td>\n",
       "      <td>41.191</td>\n",
       "      <td>41.207</td>\n",
       "      <td>41.207</td>\n",
       "      <td>41.129</td>\n",
       "      <td>41.250</td>\n",
       "    </tr>\n",
       "    <tr>\n",
       "      <th>0</th>\n",
       "      <td>38.320</td>\n",
       "      <td>38.332</td>\n",
       "      <td>38.320</td>\n",
       "      <td>38.324</td>\n",
       "      <td>38.332</td>\n",
       "      <td>38.324</td>\n",
       "      <td>38.348</td>\n",
       "      <td>38.332</td>\n",
       "      <td>38.336</td>\n",
       "      <td>38.316</td>\n",
       "      <td>...</td>\n",
       "      <td>38.523</td>\n",
       "      <td>38.539</td>\n",
       "      <td>38.578</td>\n",
       "      <td>38.531</td>\n",
       "      <td>38.523</td>\n",
       "      <td>38.566</td>\n",
       "      <td>38.613</td>\n",
       "      <td>38.590</td>\n",
       "      <td>38.578</td>\n",
       "      <td>38.594</td>\n",
       "    </tr>\n",
       "    <tr>\n",
       "      <th>0</th>\n",
       "      <td>30.363</td>\n",
       "      <td>30.375</td>\n",
       "      <td>30.367</td>\n",
       "      <td>30.367</td>\n",
       "      <td>30.379</td>\n",
       "      <td>30.379</td>\n",
       "      <td>30.367</td>\n",
       "      <td>30.367</td>\n",
       "      <td>30.375</td>\n",
       "      <td>30.473</td>\n",
       "      <td>...</td>\n",
       "      <td>33.180</td>\n",
       "      <td>33.172</td>\n",
       "      <td>33.363</td>\n",
       "      <td>33.340</td>\n",
       "      <td>33.324</td>\n",
       "      <td>33.410</td>\n",
       "      <td>33.504</td>\n",
       "      <td>33.582</td>\n",
       "      <td>33.594</td>\n",
       "      <td>33.555</td>\n",
       "    </tr>\n",
       "    <tr>\n",
       "      <th>1</th>\n",
       "      <td>41.258</td>\n",
       "      <td>41.277</td>\n",
       "      <td>41.262</td>\n",
       "      <td>41.223</td>\n",
       "      <td>41.211</td>\n",
       "      <td>41.176</td>\n",
       "      <td>41.129</td>\n",
       "      <td>41.129</td>\n",
       "      <td>41.070</td>\n",
       "      <td>41.031</td>\n",
       "      <td>...</td>\n",
       "      <td>41.949</td>\n",
       "      <td>41.941</td>\n",
       "      <td>41.980</td>\n",
       "      <td>41.957</td>\n",
       "      <td>41.980</td>\n",
       "      <td>42.020</td>\n",
       "      <td>42.023</td>\n",
       "      <td>42.031</td>\n",
       "      <td>42.078</td>\n",
       "      <td>42.105</td>\n",
       "    </tr>\n",
       "    <tr>\n",
       "      <th>...</th>\n",
       "      <td>...</td>\n",
       "      <td>...</td>\n",
       "      <td>...</td>\n",
       "      <td>...</td>\n",
       "      <td>...</td>\n",
       "      <td>...</td>\n",
       "      <td>...</td>\n",
       "      <td>...</td>\n",
       "      <td>...</td>\n",
       "      <td>...</td>\n",
       "      <td>...</td>\n",
       "      <td>...</td>\n",
       "      <td>...</td>\n",
       "      <td>...</td>\n",
       "      <td>...</td>\n",
       "      <td>...</td>\n",
       "      <td>...</td>\n",
       "      <td>...</td>\n",
       "      <td>...</td>\n",
       "      <td>...</td>\n",
       "      <td>...</td>\n",
       "    </tr>\n",
       "    <tr>\n",
       "      <th>2203</th>\n",
       "      <td>35.449</td>\n",
       "      <td>35.359</td>\n",
       "      <td>35.277</td>\n",
       "      <td>35.184</td>\n",
       "      <td>35.195</td>\n",
       "      <td>35.184</td>\n",
       "      <td>35.105</td>\n",
       "      <td>35.016</td>\n",
       "      <td>35.012</td>\n",
       "      <td>35.008</td>\n",
       "      <td>...</td>\n",
       "      <td>35.437</td>\n",
       "      <td>35.531</td>\n",
       "      <td>35.426</td>\n",
       "      <td>35.516</td>\n",
       "      <td>35.422</td>\n",
       "      <td>35.441</td>\n",
       "      <td>35.461</td>\n",
       "      <td>35.414</td>\n",
       "      <td>35.426</td>\n",
       "      <td>35.441</td>\n",
       "    </tr>\n",
       "    <tr>\n",
       "      <th>2204</th>\n",
       "      <td>40.840</td>\n",
       "      <td>40.895</td>\n",
       "      <td>40.883</td>\n",
       "      <td>40.867</td>\n",
       "      <td>40.840</td>\n",
       "      <td>40.816</td>\n",
       "      <td>40.816</td>\n",
       "      <td>40.812</td>\n",
       "      <td>40.812</td>\n",
       "      <td>40.789</td>\n",
       "      <td>...</td>\n",
       "      <td>40.934</td>\n",
       "      <td>40.879</td>\n",
       "      <td>40.918</td>\n",
       "      <td>40.937</td>\n",
       "      <td>40.895</td>\n",
       "      <td>40.910</td>\n",
       "      <td>40.895</td>\n",
       "      <td>40.883</td>\n",
       "      <td>40.879</td>\n",
       "      <td>40.891</td>\n",
       "    </tr>\n",
       "    <tr>\n",
       "      <th>2204</th>\n",
       "      <td>35.422</td>\n",
       "      <td>35.336</td>\n",
       "      <td>35.250</td>\n",
       "      <td>35.176</td>\n",
       "      <td>35.195</td>\n",
       "      <td>35.094</td>\n",
       "      <td>35.102</td>\n",
       "      <td>35.094</td>\n",
       "      <td>35.012</td>\n",
       "      <td>35.012</td>\n",
       "      <td>...</td>\n",
       "      <td>35.437</td>\n",
       "      <td>35.453</td>\n",
       "      <td>35.520</td>\n",
       "      <td>35.437</td>\n",
       "      <td>35.437</td>\n",
       "      <td>35.441</td>\n",
       "      <td>35.437</td>\n",
       "      <td>35.434</td>\n",
       "      <td>35.434</td>\n",
       "      <td>35.426</td>\n",
       "    </tr>\n",
       "    <tr>\n",
       "      <th>2204</th>\n",
       "      <td>38.184</td>\n",
       "      <td>38.187</td>\n",
       "      <td>38.187</td>\n",
       "      <td>38.176</td>\n",
       "      <td>38.184</td>\n",
       "      <td>38.176</td>\n",
       "      <td>38.184</td>\n",
       "      <td>38.184</td>\n",
       "      <td>38.187</td>\n",
       "      <td>38.148</td>\n",
       "      <td>...</td>\n",
       "      <td>38.195</td>\n",
       "      <td>38.195</td>\n",
       "      <td>38.195</td>\n",
       "      <td>38.184</td>\n",
       "      <td>38.195</td>\n",
       "      <td>38.195</td>\n",
       "      <td>38.184</td>\n",
       "      <td>38.184</td>\n",
       "      <td>38.184</td>\n",
       "      <td>38.187</td>\n",
       "    </tr>\n",
       "    <tr>\n",
       "      <th>2204</th>\n",
       "      <td>30.355</td>\n",
       "      <td>30.379</td>\n",
       "      <td>30.379</td>\n",
       "      <td>30.375</td>\n",
       "      <td>30.367</td>\n",
       "      <td>30.375</td>\n",
       "      <td>30.367</td>\n",
       "      <td>30.363</td>\n",
       "      <td>30.367</td>\n",
       "      <td>30.383</td>\n",
       "      <td>...</td>\n",
       "      <td>30.395</td>\n",
       "      <td>30.402</td>\n",
       "      <td>30.395</td>\n",
       "      <td>30.402</td>\n",
       "      <td>30.391</td>\n",
       "      <td>30.395</td>\n",
       "      <td>30.391</td>\n",
       "      <td>30.395</td>\n",
       "      <td>30.402</td>\n",
       "      <td>30.375</td>\n",
       "    </tr>\n",
       "  </tbody>\n",
       "</table>\n",
       "<p>8820 rows × 60 columns</p>\n",
       "</div>"
      ],
      "text/plain": [
       "          0       1       2       3       4       5       6       7       8   \\\n",
       "0     35.570  35.492  35.469  35.422  35.414  35.320  35.227  35.242  35.160   \n",
       "0     40.961  40.949  40.965  40.922  40.879  40.879  40.828  40.812  40.809   \n",
       "0     38.320  38.332  38.320  38.324  38.332  38.324  38.348  38.332  38.336   \n",
       "0     30.363  30.375  30.367  30.367  30.379  30.379  30.367  30.367  30.375   \n",
       "1     41.258  41.277  41.262  41.223  41.211  41.176  41.129  41.129  41.070   \n",
       "...      ...     ...     ...     ...     ...     ...     ...     ...     ...   \n",
       "2203  35.449  35.359  35.277  35.184  35.195  35.184  35.105  35.016  35.012   \n",
       "2204  40.840  40.895  40.883  40.867  40.840  40.816  40.816  40.812  40.812   \n",
       "2204  35.422  35.336  35.250  35.176  35.195  35.094  35.102  35.094  35.012   \n",
       "2204  38.184  38.187  38.187  38.176  38.184  38.176  38.184  38.184  38.187   \n",
       "2204  30.355  30.379  30.379  30.375  30.367  30.375  30.367  30.363  30.367   \n",
       "\n",
       "          9   ...      50      51      52      53      54      55      56  \\\n",
       "0     35.176  ...  36.008  35.984  35.996  36.039  36.008  36.008  36.094   \n",
       "0     40.785  ...  41.211  41.129  41.195  41.211  41.207  41.191  41.207   \n",
       "0     38.316  ...  38.523  38.539  38.578  38.531  38.523  38.566  38.613   \n",
       "0     30.473  ...  33.180  33.172  33.363  33.340  33.324  33.410  33.504   \n",
       "1     41.031  ...  41.949  41.941  41.980  41.957  41.980  42.020  42.023   \n",
       "...      ...  ...     ...     ...     ...     ...     ...     ...     ...   \n",
       "2203  35.008  ...  35.437  35.531  35.426  35.516  35.422  35.441  35.461   \n",
       "2204  40.789  ...  40.934  40.879  40.918  40.937  40.895  40.910  40.895   \n",
       "2204  35.012  ...  35.437  35.453  35.520  35.437  35.437  35.441  35.437   \n",
       "2204  38.148  ...  38.195  38.195  38.195  38.184  38.195  38.195  38.184   \n",
       "2204  30.383  ...  30.395  30.402  30.395  30.402  30.391  30.395  30.391   \n",
       "\n",
       "          57      58      59  \n",
       "0     36.102  36.090  36.152  \n",
       "0     41.207  41.129  41.250  \n",
       "0     38.590  38.578  38.594  \n",
       "0     33.582  33.594  33.555  \n",
       "1     42.031  42.078  42.105  \n",
       "...      ...     ...     ...  \n",
       "2203  35.414  35.426  35.441  \n",
       "2204  40.883  40.879  40.891  \n",
       "2204  35.434  35.434  35.426  \n",
       "2204  38.184  38.184  38.187  \n",
       "2204  30.395  30.402  30.375  \n",
       "\n",
       "[8820 rows x 60 columns]"
      ]
     },
     "execution_count": 6,
     "metadata": {},
     "output_type": "execute_result"
    }
   ],
   "source": [
    "df1 = df.sort_index()\n",
    "df1"
   ]
  },
  {
   "cell_type": "markdown",
   "metadata": {},
   "source": [
    "For plotting, we need the data in the following format: (number of measurement cycles x number of measurements per cycle x number of sensors) = (2205 x 60 x 4)"
   ]
  },
  {
   "cell_type": "code",
   "execution_count": 7,
   "metadata": {},
   "outputs": [
    {
     "data": {
      "text/plain": [
       "(2205, 4, 60)"
      ]
     },
     "execution_count": 7,
     "metadata": {},
     "output_type": "execute_result"
    }
   ],
   "source": [
    "df1 = df.sort_index().values.reshape(-1,len(data),len(df.columns))\n",
    "df1.shape"
   ]
  },
  {
   "cell_type": "code",
   "execution_count": 8,
   "metadata": {},
   "outputs": [
    {
     "data": {
      "text/plain": [
       "(2205, 60, 4)"
      ]
     },
     "execution_count": 8,
     "metadata": {},
     "output_type": "execute_result"
    }
   ],
   "source": [
    "### RESHAPE DATA AMONG SENSORS ###\n",
    "\n",
    "df = df.sort_index().values.reshape(-1,len(data),len(df.columns)).transpose(0,2,1)\n",
    "df.shape"
   ]
  },
  {
   "cell_type": "code",
   "execution_count": 9,
   "metadata": {},
   "outputs": [
    {
     "data": {
      "image/png": "[encoded data removed]",
      "text/plain": [
       "<Figure size 576x360 with 1 Axes>"
      ]
     },
     "metadata": {
      "needs_background": "light"
     },
     "output_type": "display_data"
    }
   ],
   "source": [
    "### PLOT ORIGINAL TEMPERATURE DATA ###\n",
    "# Measurements of the 4 sensors of the first measurement cycle\n",
    "\n",
    "plt.figure(figsize=(8,5))\n",
    "plt.plot(df[0])\n",
    "plt.title('Original Temperature Data')\n",
    "plt.ylabel('Temperature'); plt.xlabel('Time')\n",
    "plt.legend(['TS1','TS2','TS3','TS4'])\n",
    "np.set_printoptions(False)"
   ]
  },
  {
   "cell_type": "code",
   "execution_count": 10,
   "metadata": {},
   "outputs": [
    {
     "data": {
      "text/html": [
       "<div>\n",
       "<style scoped>\n",
       "    .dataframe tbody tr th:only-of-type {\n",
       "        vertical-align: middle;\n",
       "    }\n",
       "\n",
       "    .dataframe tbody tr th {\n",
       "        vertical-align: top;\n",
       "    }\n",
       "\n",
       "    .dataframe thead th {\n",
       "        text-align: right;\n",
       "    }\n",
       "</style>\n",
       "<table border=\"1\" class=\"dataframe\">\n",
       "  <thead>\n",
       "    <tr style=\"text-align: right;\">\n",
       "      <th></th>\n",
       "      <th>Cooler</th>\n",
       "      <th>Valve</th>\n",
       "      <th>Pump</th>\n",
       "      <th>Accumulator</th>\n",
       "      <th>Flag</th>\n",
       "    </tr>\n",
       "  </thead>\n",
       "  <tbody>\n",
       "    <tr>\n",
       "      <th>0</th>\n",
       "      <td>3</td>\n",
       "      <td>100</td>\n",
       "      <td>0</td>\n",
       "      <td>130</td>\n",
       "      <td>1</td>\n",
       "    </tr>\n",
       "    <tr>\n",
       "      <th>1</th>\n",
       "      <td>3</td>\n",
       "      <td>100</td>\n",
       "      <td>0</td>\n",
       "      <td>130</td>\n",
       "      <td>1</td>\n",
       "    </tr>\n",
       "    <tr>\n",
       "      <th>2</th>\n",
       "      <td>3</td>\n",
       "      <td>100</td>\n",
       "      <td>0</td>\n",
       "      <td>130</td>\n",
       "      <td>1</td>\n",
       "    </tr>\n",
       "    <tr>\n",
       "      <th>3</th>\n",
       "      <td>3</td>\n",
       "      <td>100</td>\n",
       "      <td>0</td>\n",
       "      <td>130</td>\n",
       "      <td>1</td>\n",
       "    </tr>\n",
       "    <tr>\n",
       "      <th>4</th>\n",
       "      <td>3</td>\n",
       "      <td>100</td>\n",
       "      <td>0</td>\n",
       "      <td>130</td>\n",
       "      <td>1</td>\n",
       "    </tr>\n",
       "    <tr>\n",
       "      <th>...</th>\n",
       "      <td>...</td>\n",
       "      <td>...</td>\n",
       "      <td>...</td>\n",
       "      <td>...</td>\n",
       "      <td>...</td>\n",
       "    </tr>\n",
       "    <tr>\n",
       "      <th>2200</th>\n",
       "      <td>100</td>\n",
       "      <td>100</td>\n",
       "      <td>0</td>\n",
       "      <td>90</td>\n",
       "      <td>0</td>\n",
       "    </tr>\n",
       "    <tr>\n",
       "      <th>2201</th>\n",
       "      <td>100</td>\n",
       "      <td>100</td>\n",
       "      <td>0</td>\n",
       "      <td>90</td>\n",
       "      <td>0</td>\n",
       "    </tr>\n",
       "    <tr>\n",
       "      <th>2202</th>\n",
       "      <td>100</td>\n",
       "      <td>100</td>\n",
       "      <td>0</td>\n",
       "      <td>90</td>\n",
       "      <td>0</td>\n",
       "    </tr>\n",
       "    <tr>\n",
       "      <th>2203</th>\n",
       "      <td>100</td>\n",
       "      <td>100</td>\n",
       "      <td>0</td>\n",
       "      <td>90</td>\n",
       "      <td>0</td>\n",
       "    </tr>\n",
       "    <tr>\n",
       "      <th>2204</th>\n",
       "      <td>100</td>\n",
       "      <td>100</td>\n",
       "      <td>0</td>\n",
       "      <td>90</td>\n",
       "      <td>0</td>\n",
       "    </tr>\n",
       "  </tbody>\n",
       "</table>\n",
       "<p>2205 rows × 5 columns</p>\n",
       "</div>"
      ],
      "text/plain": [
       "      Cooler  Valve  Pump  Accumulator  Flag\n",
       "0          3    100     0          130     1\n",
       "1          3    100     0          130     1\n",
       "2          3    100     0          130     1\n",
       "3          3    100     0          130     1\n",
       "4          3    100     0          130     1\n",
       "...      ...    ...   ...          ...   ...\n",
       "2200     100    100     0           90     0\n",
       "2201     100    100     0           90     0\n",
       "2202     100    100     0           90     0\n",
       "2203     100    100     0           90     0\n",
       "2204     100    100     0           90     0\n",
       "\n",
       "[2205 rows x 5 columns]"
      ]
     },
     "execution_count": 10,
     "metadata": {},
     "output_type": "execute_result"
    }
   ],
   "source": [
    "label"
   ]
  },
  {
   "cell_type": "code",
   "execution_count": 11,
   "metadata": {},
   "outputs": [
    {
     "data": {
      "text/plain": [
       "100    741\n",
       "3      732\n",
       "20     732\n",
       "Name: Cooler, dtype: int64"
      ]
     },
     "execution_count": 11,
     "metadata": {},
     "output_type": "execute_result"
    }
   ],
   "source": [
    "### LABEL DISTRIBUTION ### We only want to consider the cooler conditions\n",
    "# Cooler condition / %:\n",
    "#   3: close to total failure\n",
    "#  20: reduced effifiency\n",
    "# 100: full efficiency\n",
    "\n",
    "label = label.Cooler\n",
    "label.value_counts()"
   ]
  },
  {
   "cell_type": "code",
   "execution_count": 12,
   "metadata": {},
   "outputs": [
    {
     "data": {
      "text/plain": [
       "0         3\n",
       "1         3\n",
       "2         3\n",
       "3         3\n",
       "4         3\n",
       "       ... \n",
       "2200    100\n",
       "2201    100\n",
       "2202    100\n",
       "2203    100\n",
       "2204    100\n",
       "Name: Cooler, Length: 2205, dtype: int64"
      ]
     },
     "execution_count": 12,
     "metadata": {},
     "output_type": "execute_result"
    }
   ],
   "source": [
    "label"
   ]
  },
  {
   "cell_type": "code",
   "execution_count": 13,
   "metadata": {},
   "outputs": [
    {
     "data": {
      "text/plain": [
       "array([  3,  20, 100], dtype=int64)"
      ]
     },
     "execution_count": 13,
     "metadata": {},
     "output_type": "execute_result"
    }
   ],
   "source": [
    "label.unique()"
   ]
  },
  {
   "cell_type": "code",
   "execution_count": 14,
   "metadata": {},
   "outputs": [
    {
     "name": "stdout",
     "output_type": "stream",
     "text": [
      "0 3\n",
      "1 20\n",
      "2 100\n"
     ]
    }
   ],
   "source": [
    "for i,j in enumerate(label.unique()):\n",
    "    print(i,j)"
   ]
  },
  {
   "cell_type": "code",
   "execution_count": 15,
   "metadata": {},
   "outputs": [
    {
     "name": "stdout",
     "output_type": "stream",
     "text": [
      "{3: 0, 20: 1, 100: 2}\n",
      "{0: 3, 1: 20, 2: 100}\n"
     ]
    }
   ],
   "source": [
    "### MAPPING LABEL ###\n",
    "\n",
    "diz_label, diz_reverse_label = {}, {}\n",
    "for i,lab in enumerate(label.unique()):\n",
    "    diz_label[lab] = i\n",
    "    diz_reverse_label[i] = lab\n",
    "\n",
    "print(diz_label)\n",
    "print(diz_reverse_label)\n",
    "label = label.map(diz_label)\n",
    "y = label.astype(\"category\")"
   ]
  },
  {
   "cell_type": "code",
   "execution_count": 16,
   "metadata": {},
   "outputs": [
    {
     "data": {
      "text/plain": [
       "0       0\n",
       "1       0\n",
       "2       0\n",
       "3       0\n",
       "4       0\n",
       "       ..\n",
       "2200    2\n",
       "2201    2\n",
       "2202    2\n",
       "2203    2\n",
       "2204    2\n",
       "Name: Cooler, Length: 2205, dtype: int64"
      ]
     },
     "execution_count": 16,
     "metadata": {},
     "output_type": "execute_result"
    }
   ],
   "source": [
    "label"
   ]
  },
  {
   "cell_type": "markdown",
   "metadata": {},
   "source": [
    "## Extract Features with the tsfresh package"
   ]
  },
  {
   "cell_type": "markdown",
   "metadata": {},
   "source": [
    "For applying the tsfresh package, we need two columns specifying the ids (measurement cycle number) and the times (time points of each measurement cycle)."
   ]
  },
  {
   "cell_type": "code",
   "execution_count": 17,
   "metadata": {},
   "outputs": [
    {
     "data": {
      "text/html": [
       "<div>\n",
       "<style scoped>\n",
       "    .dataframe tbody tr th:only-of-type {\n",
       "        vertical-align: middle;\n",
       "    }\n",
       "\n",
       "    .dataframe tbody tr th {\n",
       "        vertical-align: top;\n",
       "    }\n",
       "\n",
       "    .dataframe thead th {\n",
       "        text-align: right;\n",
       "    }\n",
       "</style>\n",
       "<table border=\"1\" class=\"dataframe\">\n",
       "  <thead>\n",
       "    <tr style=\"text-align: right;\">\n",
       "      <th></th>\n",
       "      <th>0</th>\n",
       "      <th>1</th>\n",
       "      <th>2</th>\n",
       "      <th>3</th>\n",
       "    </tr>\n",
       "  </thead>\n",
       "  <tbody>\n",
       "    <tr>\n",
       "      <th>0</th>\n",
       "      <td>35.570</td>\n",
       "      <td>40.961</td>\n",
       "      <td>38.320</td>\n",
       "      <td>30.363</td>\n",
       "    </tr>\n",
       "    <tr>\n",
       "      <th>1</th>\n",
       "      <td>35.492</td>\n",
       "      <td>40.949</td>\n",
       "      <td>38.332</td>\n",
       "      <td>30.375</td>\n",
       "    </tr>\n",
       "    <tr>\n",
       "      <th>2</th>\n",
       "      <td>35.469</td>\n",
       "      <td>40.965</td>\n",
       "      <td>38.320</td>\n",
       "      <td>30.367</td>\n",
       "    </tr>\n",
       "    <tr>\n",
       "      <th>3</th>\n",
       "      <td>35.422</td>\n",
       "      <td>40.922</td>\n",
       "      <td>38.324</td>\n",
       "      <td>30.367</td>\n",
       "    </tr>\n",
       "    <tr>\n",
       "      <th>4</th>\n",
       "      <td>35.414</td>\n",
       "      <td>40.879</td>\n",
       "      <td>38.332</td>\n",
       "      <td>30.379</td>\n",
       "    </tr>\n",
       "    <tr>\n",
       "      <th>...</th>\n",
       "      <td>...</td>\n",
       "      <td>...</td>\n",
       "      <td>...</td>\n",
       "      <td>...</td>\n",
       "    </tr>\n",
       "    <tr>\n",
       "      <th>132295</th>\n",
       "      <td>40.910</td>\n",
       "      <td>35.441</td>\n",
       "      <td>38.195</td>\n",
       "      <td>30.395</td>\n",
       "    </tr>\n",
       "    <tr>\n",
       "      <th>132296</th>\n",
       "      <td>40.895</td>\n",
       "      <td>35.437</td>\n",
       "      <td>38.184</td>\n",
       "      <td>30.391</td>\n",
       "    </tr>\n",
       "    <tr>\n",
       "      <th>132297</th>\n",
       "      <td>40.883</td>\n",
       "      <td>35.434</td>\n",
       "      <td>38.184</td>\n",
       "      <td>30.395</td>\n",
       "    </tr>\n",
       "    <tr>\n",
       "      <th>132298</th>\n",
       "      <td>40.879</td>\n",
       "      <td>35.434</td>\n",
       "      <td>38.184</td>\n",
       "      <td>30.402</td>\n",
       "    </tr>\n",
       "    <tr>\n",
       "      <th>132299</th>\n",
       "      <td>40.891</td>\n",
       "      <td>35.426</td>\n",
       "      <td>38.187</td>\n",
       "      <td>30.375</td>\n",
       "    </tr>\n",
       "  </tbody>\n",
       "</table>\n",
       "<p>132300 rows × 4 columns</p>\n",
       "</div>"
      ],
      "text/plain": [
       "             0       1       2       3\n",
       "0       35.570  40.961  38.320  30.363\n",
       "1       35.492  40.949  38.332  30.375\n",
       "2       35.469  40.965  38.320  30.367\n",
       "3       35.422  40.922  38.324  30.367\n",
       "4       35.414  40.879  38.332  30.379\n",
       "...        ...     ...     ...     ...\n",
       "132295  40.910  35.441  38.195  30.395\n",
       "132296  40.895  35.437  38.184  30.391\n",
       "132297  40.883  35.434  38.184  30.395\n",
       "132298  40.879  35.434  38.184  30.402\n",
       "132299  40.891  35.426  38.187  30.375\n",
       "\n",
       "[132300 rows x 4 columns]"
      ]
     },
     "execution_count": 17,
     "metadata": {},
     "output_type": "execute_result"
    }
   ],
   "source": [
    "df2=pd.DataFrame(df.reshape(-1,4))\n",
    "df2"
   ]
  },
  {
   "cell_type": "code",
   "execution_count": 18,
   "metadata": {},
   "outputs": [
    {
     "data": {
      "text/html": [
       "<div>\n",
       "<style scoped>\n",
       "    .dataframe tbody tr th:only-of-type {\n",
       "        vertical-align: middle;\n",
       "    }\n",
       "\n",
       "    .dataframe tbody tr th {\n",
       "        vertical-align: top;\n",
       "    }\n",
       "\n",
       "    .dataframe thead th {\n",
       "        text-align: right;\n",
       "    }\n",
       "</style>\n",
       "<table border=\"1\" class=\"dataframe\">\n",
       "  <thead>\n",
       "    <tr style=\"text-align: right;\">\n",
       "      <th></th>\n",
       "      <th>0</th>\n",
       "    </tr>\n",
       "  </thead>\n",
       "  <tbody>\n",
       "    <tr>\n",
       "      <th>55</th>\n",
       "      <td>55</td>\n",
       "    </tr>\n",
       "    <tr>\n",
       "      <th>56</th>\n",
       "      <td>56</td>\n",
       "    </tr>\n",
       "    <tr>\n",
       "      <th>57</th>\n",
       "      <td>57</td>\n",
       "    </tr>\n",
       "    <tr>\n",
       "      <th>58</th>\n",
       "      <td>58</td>\n",
       "    </tr>\n",
       "    <tr>\n",
       "      <th>59</th>\n",
       "      <td>59</td>\n",
       "    </tr>\n",
       "    <tr>\n",
       "      <th>0</th>\n",
       "      <td>0</td>\n",
       "    </tr>\n",
       "    <tr>\n",
       "      <th>1</th>\n",
       "      <td>1</td>\n",
       "    </tr>\n",
       "    <tr>\n",
       "      <th>2</th>\n",
       "      <td>2</td>\n",
       "    </tr>\n",
       "    <tr>\n",
       "      <th>3</th>\n",
       "      <td>3</td>\n",
       "    </tr>\n",
       "    <tr>\n",
       "      <th>4</th>\n",
       "      <td>4</td>\n",
       "    </tr>\n",
       "  </tbody>\n",
       "</table>\n",
       "</div>"
      ],
      "text/plain": [
       "     0\n",
       "55  55\n",
       "56  56\n",
       "57  57\n",
       "58  58\n",
       "59  59\n",
       "0    0\n",
       "1    1\n",
       "2    2\n",
       "3    3\n",
       "4    4"
      ]
     },
     "execution_count": 18,
     "metadata": {},
     "output_type": "execute_result"
    }
   ],
   "source": [
    "tmp=pd.DataFrame()\n",
    "for i in range(n):\n",
    "    tmp=tmp.append(pd.DataFrame(np.arange(m)))\n",
    "tmp[55:65]"
   ]
  },
  {
   "cell_type": "code",
   "execution_count": 19,
   "metadata": {},
   "outputs": [
    {
     "data": {
      "text/html": [
       "<div>\n",
       "<style scoped>\n",
       "    .dataframe tbody tr th:only-of-type {\n",
       "        vertical-align: middle;\n",
       "    }\n",
       "\n",
       "    .dataframe tbody tr th {\n",
       "        vertical-align: top;\n",
       "    }\n",
       "\n",
       "    .dataframe thead th {\n",
       "        text-align: right;\n",
       "    }\n",
       "</style>\n",
       "<table border=\"1\" class=\"dataframe\">\n",
       "  <thead>\n",
       "    <tr style=\"text-align: right;\">\n",
       "      <th></th>\n",
       "      <th>0</th>\n",
       "      <th>1</th>\n",
       "      <th>2</th>\n",
       "      <th>3</th>\n",
       "      <th>time</th>\n",
       "    </tr>\n",
       "  </thead>\n",
       "  <tbody>\n",
       "    <tr>\n",
       "      <th>0</th>\n",
       "      <td>35.570</td>\n",
       "      <td>40.961</td>\n",
       "      <td>38.320</td>\n",
       "      <td>30.363</td>\n",
       "      <td>0</td>\n",
       "    </tr>\n",
       "    <tr>\n",
       "      <th>1</th>\n",
       "      <td>35.492</td>\n",
       "      <td>40.949</td>\n",
       "      <td>38.332</td>\n",
       "      <td>30.375</td>\n",
       "      <td>1</td>\n",
       "    </tr>\n",
       "    <tr>\n",
       "      <th>2</th>\n",
       "      <td>35.469</td>\n",
       "      <td>40.965</td>\n",
       "      <td>38.320</td>\n",
       "      <td>30.367</td>\n",
       "      <td>2</td>\n",
       "    </tr>\n",
       "    <tr>\n",
       "      <th>3</th>\n",
       "      <td>35.422</td>\n",
       "      <td>40.922</td>\n",
       "      <td>38.324</td>\n",
       "      <td>30.367</td>\n",
       "      <td>3</td>\n",
       "    </tr>\n",
       "    <tr>\n",
       "      <th>4</th>\n",
       "      <td>35.414</td>\n",
       "      <td>40.879</td>\n",
       "      <td>38.332</td>\n",
       "      <td>30.379</td>\n",
       "      <td>4</td>\n",
       "    </tr>\n",
       "    <tr>\n",
       "      <th>...</th>\n",
       "      <td>...</td>\n",
       "      <td>...</td>\n",
       "      <td>...</td>\n",
       "      <td>...</td>\n",
       "      <td>...</td>\n",
       "    </tr>\n",
       "    <tr>\n",
       "      <th>132295</th>\n",
       "      <td>40.910</td>\n",
       "      <td>35.441</td>\n",
       "      <td>38.195</td>\n",
       "      <td>30.395</td>\n",
       "      <td>55</td>\n",
       "    </tr>\n",
       "    <tr>\n",
       "      <th>132296</th>\n",
       "      <td>40.895</td>\n",
       "      <td>35.437</td>\n",
       "      <td>38.184</td>\n",
       "      <td>30.391</td>\n",
       "      <td>56</td>\n",
       "    </tr>\n",
       "    <tr>\n",
       "      <th>132297</th>\n",
       "      <td>40.883</td>\n",
       "      <td>35.434</td>\n",
       "      <td>38.184</td>\n",
       "      <td>30.395</td>\n",
       "      <td>57</td>\n",
       "    </tr>\n",
       "    <tr>\n",
       "      <th>132298</th>\n",
       "      <td>40.879</td>\n",
       "      <td>35.434</td>\n",
       "      <td>38.184</td>\n",
       "      <td>30.402</td>\n",
       "      <td>58</td>\n",
       "    </tr>\n",
       "    <tr>\n",
       "      <th>132299</th>\n",
       "      <td>40.891</td>\n",
       "      <td>35.426</td>\n",
       "      <td>38.187</td>\n",
       "      <td>30.375</td>\n",
       "      <td>59</td>\n",
       "    </tr>\n",
       "  </tbody>\n",
       "</table>\n",
       "<p>132300 rows × 5 columns</p>\n",
       "</div>"
      ],
      "text/plain": [
       "             0       1       2       3  time\n",
       "0       35.570  40.961  38.320  30.363     0\n",
       "1       35.492  40.949  38.332  30.375     1\n",
       "2       35.469  40.965  38.320  30.367     2\n",
       "3       35.422  40.922  38.324  30.367     3\n",
       "4       35.414  40.879  38.332  30.379     4\n",
       "...        ...     ...     ...     ...   ...\n",
       "132295  40.910  35.441  38.195  30.395    55\n",
       "132296  40.895  35.437  38.184  30.391    56\n",
       "132297  40.883  35.434  38.184  30.395    57\n",
       "132298  40.879  35.434  38.184  30.402    58\n",
       "132299  40.891  35.426  38.187  30.375    59\n",
       "\n",
       "[132300 rows x 5 columns]"
      ]
     },
     "execution_count": 19,
     "metadata": {},
     "output_type": "execute_result"
    }
   ],
   "source": [
    "df2['time']=tmp.values\n",
    "df2"
   ]
  },
  {
   "cell_type": "code",
   "execution_count": 20,
   "metadata": {},
   "outputs": [
    {
     "data": {
      "text/html": [
       "<div>\n",
       "<style scoped>\n",
       "    .dataframe tbody tr th:only-of-type {\n",
       "        vertical-align: middle;\n",
       "    }\n",
       "\n",
       "    .dataframe tbody tr th {\n",
       "        vertical-align: top;\n",
       "    }\n",
       "\n",
       "    .dataframe thead th {\n",
       "        text-align: right;\n",
       "    }\n",
       "</style>\n",
       "<table border=\"1\" class=\"dataframe\">\n",
       "  <thead>\n",
       "    <tr style=\"text-align: right;\">\n",
       "      <th></th>\n",
       "      <th>0</th>\n",
       "      <th>1</th>\n",
       "      <th>2</th>\n",
       "      <th>3</th>\n",
       "      <th>time</th>\n",
       "      <th>id</th>\n",
       "    </tr>\n",
       "  </thead>\n",
       "  <tbody>\n",
       "    <tr>\n",
       "      <th>0</th>\n",
       "      <td>35.570</td>\n",
       "      <td>40.961</td>\n",
       "      <td>38.320</td>\n",
       "      <td>30.363</td>\n",
       "      <td>0</td>\n",
       "      <td>0</td>\n",
       "    </tr>\n",
       "    <tr>\n",
       "      <th>1</th>\n",
       "      <td>35.492</td>\n",
       "      <td>40.949</td>\n",
       "      <td>38.332</td>\n",
       "      <td>30.375</td>\n",
       "      <td>1</td>\n",
       "      <td>0</td>\n",
       "    </tr>\n",
       "    <tr>\n",
       "      <th>2</th>\n",
       "      <td>35.469</td>\n",
       "      <td>40.965</td>\n",
       "      <td>38.320</td>\n",
       "      <td>30.367</td>\n",
       "      <td>2</td>\n",
       "      <td>0</td>\n",
       "    </tr>\n",
       "    <tr>\n",
       "      <th>3</th>\n",
       "      <td>35.422</td>\n",
       "      <td>40.922</td>\n",
       "      <td>38.324</td>\n",
       "      <td>30.367</td>\n",
       "      <td>3</td>\n",
       "      <td>0</td>\n",
       "    </tr>\n",
       "    <tr>\n",
       "      <th>4</th>\n",
       "      <td>35.414</td>\n",
       "      <td>40.879</td>\n",
       "      <td>38.332</td>\n",
       "      <td>30.379</td>\n",
       "      <td>4</td>\n",
       "      <td>0</td>\n",
       "    </tr>\n",
       "    <tr>\n",
       "      <th>...</th>\n",
       "      <td>...</td>\n",
       "      <td>...</td>\n",
       "      <td>...</td>\n",
       "      <td>...</td>\n",
       "      <td>...</td>\n",
       "      <td>...</td>\n",
       "    </tr>\n",
       "    <tr>\n",
       "      <th>132295</th>\n",
       "      <td>40.910</td>\n",
       "      <td>35.441</td>\n",
       "      <td>38.195</td>\n",
       "      <td>30.395</td>\n",
       "      <td>55</td>\n",
       "      <td>2204</td>\n",
       "    </tr>\n",
       "    <tr>\n",
       "      <th>132296</th>\n",
       "      <td>40.895</td>\n",
       "      <td>35.437</td>\n",
       "      <td>38.184</td>\n",
       "      <td>30.391</td>\n",
       "      <td>56</td>\n",
       "      <td>2204</td>\n",
       "    </tr>\n",
       "    <tr>\n",
       "      <th>132297</th>\n",
       "      <td>40.883</td>\n",
       "      <td>35.434</td>\n",
       "      <td>38.184</td>\n",
       "      <td>30.395</td>\n",
       "      <td>57</td>\n",
       "      <td>2204</td>\n",
       "    </tr>\n",
       "    <tr>\n",
       "      <th>132298</th>\n",
       "      <td>40.879</td>\n",
       "      <td>35.434</td>\n",
       "      <td>38.184</td>\n",
       "      <td>30.402</td>\n",
       "      <td>58</td>\n",
       "      <td>2204</td>\n",
       "    </tr>\n",
       "    <tr>\n",
       "      <th>132299</th>\n",
       "      <td>40.891</td>\n",
       "      <td>35.426</td>\n",
       "      <td>38.187</td>\n",
       "      <td>30.375</td>\n",
       "      <td>59</td>\n",
       "      <td>2204</td>\n",
       "    </tr>\n",
       "  </tbody>\n",
       "</table>\n",
       "<p>132300 rows × 6 columns</p>\n",
       "</div>"
      ],
      "text/plain": [
       "             0       1       2       3  time    id\n",
       "0       35.570  40.961  38.320  30.363     0     0\n",
       "1       35.492  40.949  38.332  30.375     1     0\n",
       "2       35.469  40.965  38.320  30.367     2     0\n",
       "3       35.422  40.922  38.324  30.367     3     0\n",
       "4       35.414  40.879  38.332  30.379     4     0\n",
       "...        ...     ...     ...     ...   ...   ...\n",
       "132295  40.910  35.441  38.195  30.395    55  2204\n",
       "132296  40.895  35.437  38.184  30.391    56  2204\n",
       "132297  40.883  35.434  38.184  30.395    57  2204\n",
       "132298  40.879  35.434  38.184  30.402    58  2204\n",
       "132299  40.891  35.426  38.187  30.375    59  2204\n",
       "\n",
       "[132300 rows x 6 columns]"
      ]
     },
     "execution_count": 20,
     "metadata": {},
     "output_type": "execute_result"
    }
   ],
   "source": [
    "df2['id']=np.repeat(range(n),m)\n",
    "df2"
   ]
  },
  {
   "cell_type": "code",
   "execution_count": 23,
   "metadata": {},
   "outputs": [
    {
     "data": {
      "text/html": [
       "<div>\n",
       "<style scoped>\n",
       "    .dataframe tbody tr th:only-of-type {\n",
       "        vertical-align: middle;\n",
       "    }\n",
       "\n",
       "    .dataframe tbody tr th {\n",
       "        vertical-align: top;\n",
       "    }\n",
       "\n",
       "    .dataframe thead th {\n",
       "        text-align: right;\n",
       "    }\n",
       "</style>\n",
       "<table border=\"1\" class=\"dataframe\">\n",
       "  <thead>\n",
       "    <tr style=\"text-align: right;\">\n",
       "      <th></th>\n",
       "      <th>0</th>\n",
       "      <th>1</th>\n",
       "      <th>2</th>\n",
       "      <th>3</th>\n",
       "      <th>time</th>\n",
       "      <th>id</th>\n",
       "    </tr>\n",
       "  </thead>\n",
       "  <tbody>\n",
       "    <tr>\n",
       "      <th>0</th>\n",
       "      <td>35.570</td>\n",
       "      <td>40.961</td>\n",
       "      <td>38.320</td>\n",
       "      <td>30.363</td>\n",
       "      <td>0</td>\n",
       "      <td>0</td>\n",
       "    </tr>\n",
       "    <tr>\n",
       "      <th>1</th>\n",
       "      <td>35.492</td>\n",
       "      <td>40.949</td>\n",
       "      <td>38.332</td>\n",
       "      <td>30.375</td>\n",
       "      <td>1</td>\n",
       "      <td>0</td>\n",
       "    </tr>\n",
       "    <tr>\n",
       "      <th>2</th>\n",
       "      <td>35.469</td>\n",
       "      <td>40.965</td>\n",
       "      <td>38.320</td>\n",
       "      <td>30.367</td>\n",
       "      <td>2</td>\n",
       "      <td>0</td>\n",
       "    </tr>\n",
       "    <tr>\n",
       "      <th>3</th>\n",
       "      <td>35.422</td>\n",
       "      <td>40.922</td>\n",
       "      <td>38.324</td>\n",
       "      <td>30.367</td>\n",
       "      <td>3</td>\n",
       "      <td>0</td>\n",
       "    </tr>\n",
       "    <tr>\n",
       "      <th>4</th>\n",
       "      <td>35.414</td>\n",
       "      <td>40.879</td>\n",
       "      <td>38.332</td>\n",
       "      <td>30.379</td>\n",
       "      <td>4</td>\n",
       "      <td>0</td>\n",
       "    </tr>\n",
       "    <tr>\n",
       "      <th>...</th>\n",
       "      <td>...</td>\n",
       "      <td>...</td>\n",
       "      <td>...</td>\n",
       "      <td>...</td>\n",
       "      <td>...</td>\n",
       "      <td>...</td>\n",
       "    </tr>\n",
       "    <tr>\n",
       "      <th>61</th>\n",
       "      <td>41.277</td>\n",
       "      <td>38.672</td>\n",
       "      <td>33.723</td>\n",
       "      <td>36.094</td>\n",
       "      <td>1</td>\n",
       "      <td>1</td>\n",
       "    </tr>\n",
       "    <tr>\n",
       "      <th>62</th>\n",
       "      <td>41.262</td>\n",
       "      <td>38.668</td>\n",
       "      <td>33.723</td>\n",
       "      <td>35.992</td>\n",
       "      <td>2</td>\n",
       "      <td>1</td>\n",
       "    </tr>\n",
       "    <tr>\n",
       "      <th>63</th>\n",
       "      <td>41.223</td>\n",
       "      <td>38.668</td>\n",
       "      <td>33.734</td>\n",
       "      <td>36.008</td>\n",
       "      <td>3</td>\n",
       "      <td>1</td>\n",
       "    </tr>\n",
       "    <tr>\n",
       "      <th>64</th>\n",
       "      <td>41.211</td>\n",
       "      <td>38.742</td>\n",
       "      <td>33.754</td>\n",
       "      <td>35.992</td>\n",
       "      <td>4</td>\n",
       "      <td>1</td>\n",
       "    </tr>\n",
       "    <tr>\n",
       "      <th>65</th>\n",
       "      <td>41.176</td>\n",
       "      <td>38.742</td>\n",
       "      <td>33.805</td>\n",
       "      <td>35.902</td>\n",
       "      <td>5</td>\n",
       "      <td>1</td>\n",
       "    </tr>\n",
       "  </tbody>\n",
       "</table>\n",
       "<p>66 rows × 6 columns</p>\n",
       "</div>"
      ],
      "text/plain": [
       "         0       1       2       3  time  id\n",
       "0   35.570  40.961  38.320  30.363     0   0\n",
       "1   35.492  40.949  38.332  30.375     1   0\n",
       "2   35.469  40.965  38.320  30.367     2   0\n",
       "3   35.422  40.922  38.324  30.367     3   0\n",
       "4   35.414  40.879  38.332  30.379     4   0\n",
       "..     ...     ...     ...     ...   ...  ..\n",
       "61  41.277  38.672  33.723  36.094     1   1\n",
       "62  41.262  38.668  33.723  35.992     2   1\n",
       "63  41.223  38.668  33.734  36.008     3   1\n",
       "64  41.211  38.742  33.754  35.992     4   1\n",
       "65  41.176  38.742  33.805  35.902     5   1\n",
       "\n",
       "[66 rows x 6 columns]"
      ]
     },
     "execution_count": 23,
     "metadata": {},
     "output_type": "execute_result"
    }
   ],
   "source": [
    "df2.head(66)"
   ]
  },
  {
   "cell_type": "code",
   "execution_count": 25,
   "metadata": {},
   "outputs": [
    {
     "name": "stderr",
     "output_type": "stream",
     "text": [
      "Feature Extraction: 100%|██████████████████████| 20/20 [06:13<00:00, 18.67s/it]\n"
     ]
    }
   ],
   "source": [
    "from tsfresh import extract_features\n",
    "extracted_features = extract_features(df2, column_id=\"id\", column_sort=\"time\")"
   ]
  },
  {
   "cell_type": "code",
   "execution_count": 26,
   "metadata": {},
   "outputs": [
    {
     "data": {
      "text/plain": [
       "(2205, 3156)"
      ]
     },
     "execution_count": 26,
     "metadata": {},
     "output_type": "execute_result"
    }
   ],
   "source": [
    "extracted_features.shape"
   ]
  },
  {
   "cell_type": "code",
   "execution_count": 27,
   "metadata": {},
   "outputs": [
    {
     "data": {
      "text/html": [
       "<div>\n",
       "<style scoped>\n",
       "    .dataframe tbody tr th:only-of-type {\n",
       "        vertical-align: middle;\n",
       "    }\n",
       "\n",
       "    .dataframe tbody tr th {\n",
       "        vertical-align: top;\n",
       "    }\n",
       "\n",
       "    .dataframe thead th {\n",
       "        text-align: right;\n",
       "    }\n",
       "</style>\n",
       "<table border=\"1\" class=\"dataframe\">\n",
       "  <thead>\n",
       "    <tr style=\"text-align: right;\">\n",
       "      <th></th>\n",
       "      <th>2__has_duplicate_max</th>\n",
       "      <th>2__has_duplicate_min</th>\n",
       "      <th>2__has_duplicate</th>\n",
       "      <th>2__sum_values</th>\n",
       "      <th>2__abs_energy</th>\n",
       "      <th>2__mean_abs_change</th>\n",
       "      <th>2__mean_change</th>\n",
       "      <th>2__mean_second_derivative_central</th>\n",
       "      <th>2__median</th>\n",
       "    </tr>\n",
       "  </thead>\n",
       "  <tbody>\n",
       "    <tr>\n",
       "      <th>0</th>\n",
       "      <td>0.0</td>\n",
       "      <td>0.0</td>\n",
       "      <td>1.0</td>\n",
       "      <td>2308.261</td>\n",
       "      <td>88801.570263</td>\n",
       "      <td>0.016712</td>\n",
       "      <td>0.004644</td>\n",
       "      <td>0.000034</td>\n",
       "      <td>38.4960</td>\n",
       "    </tr>\n",
       "    <tr>\n",
       "      <th>1</th>\n",
       "      <td>0.0</td>\n",
       "      <td>0.0</td>\n",
       "      <td>1.0</td>\n",
       "      <td>2069.632</td>\n",
       "      <td>71400.790578</td>\n",
       "      <td>0.030051</td>\n",
       "      <td>0.024966</td>\n",
       "      <td>-0.000819</td>\n",
       "      <td>34.5530</td>\n",
       "    </tr>\n",
       "    <tr>\n",
       "      <th>2</th>\n",
       "      <td>0.0</td>\n",
       "      <td>0.0</td>\n",
       "      <td>1.0</td>\n",
       "      <td>2377.917</td>\n",
       "      <td>94245.208655</td>\n",
       "      <td>0.022898</td>\n",
       "      <td>0.013712</td>\n",
       "      <td>-0.000172</td>\n",
       "      <td>39.6270</td>\n",
       "    </tr>\n",
       "    <tr>\n",
       "      <th>3</th>\n",
       "      <td>0.0</td>\n",
       "      <td>0.0</td>\n",
       "      <td>1.0</td>\n",
       "      <td>2332.743</td>\n",
       "      <td>90710.551541</td>\n",
       "      <td>0.045051</td>\n",
       "      <td>0.014034</td>\n",
       "      <td>0.000914</td>\n",
       "      <td>39.0550</td>\n",
       "    </tr>\n",
       "    <tr>\n",
       "      <th>4</th>\n",
       "      <td>0.0</td>\n",
       "      <td>0.0</td>\n",
       "      <td>1.0</td>\n",
       "      <td>2478.633</td>\n",
       "      <td>102398.777617</td>\n",
       "      <td>0.027186</td>\n",
       "      <td>0.013966</td>\n",
       "      <td>0.000103</td>\n",
       "      <td>41.3400</td>\n",
       "    </tr>\n",
       "    <tr>\n",
       "      <th>...</th>\n",
       "      <td>...</td>\n",
       "      <td>...</td>\n",
       "      <td>...</td>\n",
       "      <td>...</td>\n",
       "      <td>...</td>\n",
       "      <td>...</td>\n",
       "      <td>...</td>\n",
       "      <td>...</td>\n",
       "      <td>...</td>\n",
       "    </tr>\n",
       "    <tr>\n",
       "      <th>2200</th>\n",
       "      <td>1.0</td>\n",
       "      <td>0.0</td>\n",
       "      <td>1.0</td>\n",
       "      <td>2452.488</td>\n",
       "      <td>100245.262350</td>\n",
       "      <td>0.021305</td>\n",
       "      <td>-0.000254</td>\n",
       "      <td>0.000164</td>\n",
       "      <td>40.8790</td>\n",
       "    </tr>\n",
       "    <tr>\n",
       "      <th>2201</th>\n",
       "      <td>0.0</td>\n",
       "      <td>0.0</td>\n",
       "      <td>1.0</td>\n",
       "      <td>2119.296</td>\n",
       "      <td>74858.045014</td>\n",
       "      <td>0.033186</td>\n",
       "      <td>-0.000610</td>\n",
       "      <td>0.000845</td>\n",
       "      <td>35.3765</td>\n",
       "    </tr>\n",
       "    <tr>\n",
       "      <th>2202</th>\n",
       "      <td>0.0</td>\n",
       "      <td>0.0</td>\n",
       "      <td>1.0</td>\n",
       "      <td>2119.151</td>\n",
       "      <td>74848.046529</td>\n",
       "      <td>0.040119</td>\n",
       "      <td>0.000051</td>\n",
       "      <td>0.000707</td>\n",
       "      <td>35.4060</td>\n",
       "    </tr>\n",
       "    <tr>\n",
       "      <th>2203</th>\n",
       "      <td>0.0</td>\n",
       "      <td>0.0</td>\n",
       "      <td>1.0</td>\n",
       "      <td>2452.564</td>\n",
       "      <td>100251.411218</td>\n",
       "      <td>0.016780</td>\n",
       "      <td>-0.000136</td>\n",
       "      <td>-0.000172</td>\n",
       "      <td>40.8930</td>\n",
       "    </tr>\n",
       "    <tr>\n",
       "      <th>2204</th>\n",
       "      <td>0.0</td>\n",
       "      <td>0.0</td>\n",
       "      <td>1.0</td>\n",
       "      <td>2294.935</td>\n",
       "      <td>87779.102079</td>\n",
       "      <td>0.014966</td>\n",
       "      <td>0.000051</td>\n",
       "      <td>0.000000</td>\n",
       "      <td>38.1950</td>\n",
       "    </tr>\n",
       "  </tbody>\n",
       "</table>\n",
       "<p>2205 rows × 9 columns</p>\n",
       "</div>"
      ],
      "text/plain": [
       "      2__has_duplicate_max  2__has_duplicate_min  2__has_duplicate  \\\n",
       "0                      0.0                   0.0               1.0   \n",
       "1                      0.0                   0.0               1.0   \n",
       "2                      0.0                   0.0               1.0   \n",
       "3                      0.0                   0.0               1.0   \n",
       "4                      0.0                   0.0               1.0   \n",
       "...                    ...                   ...               ...   \n",
       "2200                   1.0                   0.0               1.0   \n",
       "2201                   0.0                   0.0               1.0   \n",
       "2202                   0.0                   0.0               1.0   \n",
       "2203                   0.0                   0.0               1.0   \n",
       "2204                   0.0                   0.0               1.0   \n",
       "\n",
       "      2__sum_values  2__abs_energy  2__mean_abs_change  2__mean_change  \\\n",
       "0          2308.261   88801.570263            0.016712        0.004644   \n",
       "1          2069.632   71400.790578            0.030051        0.024966   \n",
       "2          2377.917   94245.208655            0.022898        0.013712   \n",
       "3          2332.743   90710.551541            0.045051        0.014034   \n",
       "4          2478.633  102398.777617            0.027186        0.013966   \n",
       "...             ...            ...                 ...             ...   \n",
       "2200       2452.488  100245.262350            0.021305       -0.000254   \n",
       "2201       2119.296   74858.045014            0.033186       -0.000610   \n",
       "2202       2119.151   74848.046529            0.040119        0.000051   \n",
       "2203       2452.564  100251.411218            0.016780       -0.000136   \n",
       "2204       2294.935   87779.102079            0.014966        0.000051   \n",
       "\n",
       "      2__mean_second_derivative_central  2__median  \n",
       "0                              0.000034    38.4960  \n",
       "1                             -0.000819    34.5530  \n",
       "2                             -0.000172    39.6270  \n",
       "3                              0.000914    39.0550  \n",
       "4                              0.000103    41.3400  \n",
       "...                                 ...        ...  \n",
       "2200                           0.000164    40.8790  \n",
       "2201                           0.000845    35.3765  \n",
       "2202                           0.000707    35.4060  \n",
       "2203                          -0.000172    40.8930  \n",
       "2204                           0.000000    38.1950  \n",
       "\n",
       "[2205 rows x 9 columns]"
      ]
     },
     "execution_count": 27,
     "metadata": {},
     "output_type": "execute_result"
    }
   ],
   "source": [
    "extracted_features.iloc[:,1:10]"
   ]
  },
  {
   "cell_type": "code",
   "execution_count": 28,
   "metadata": {},
   "outputs": [
    {
     "data": {
      "text/plain": [
       "Index(['2__variance_larger_than_standard_deviation', '2__has_duplicate_max',\n",
       "       '2__has_duplicate_min', '2__has_duplicate', '2__sum_values',\n",
       "       '2__abs_energy', '2__mean_abs_change', '2__mean_change',\n",
       "       '2__mean_second_derivative_central', '2__median',\n",
       "       ...\n",
       "       '1__permutation_entropy__dimension_6__tau_1',\n",
       "       '1__permutation_entropy__dimension_7__tau_1',\n",
       "       '1__query_similarity_count__query_None__threshold_0.0',\n",
       "       '1__matrix_profile__feature_\"min\"__threshold_0.98',\n",
       "       '1__matrix_profile__feature_\"max\"__threshold_0.98',\n",
       "       '1__matrix_profile__feature_\"mean\"__threshold_0.98',\n",
       "       '1__matrix_profile__feature_\"median\"__threshold_0.98',\n",
       "       '1__matrix_profile__feature_\"25\"__threshold_0.98',\n",
       "       '1__matrix_profile__feature_\"75\"__threshold_0.98',\n",
       "       '1__mean_n_absolute_max__number_of_maxima_7'],\n",
       "      dtype='object', length=3156)"
      ]
     },
     "execution_count": 28,
     "metadata": {},
     "output_type": "execute_result"
    }
   ],
   "source": [
    "extracted_features.columns"
   ]
  },
  {
   "cell_type": "code",
   "execution_count": 29,
   "metadata": {},
   "outputs": [
    {
     "data": {
      "text/plain": [
       "(2205, 3156)"
      ]
     },
     "execution_count": 29,
     "metadata": {},
     "output_type": "execute_result"
    }
   ],
   "source": [
    "extracted_features.shape"
   ]
  },
  {
   "cell_type": "code",
   "execution_count": 30,
   "metadata": {},
   "outputs": [
    {
     "data": {
      "text/plain": [
       "2521217"
      ]
     },
     "execution_count": 30,
     "metadata": {},
     "output_type": "execute_result"
    }
   ],
   "source": [
    "pd.isna(extracted_features).sum().sum()"
   ]
  },
  {
   "cell_type": "code",
   "execution_count": 31,
   "metadata": {},
   "outputs": [],
   "source": [
    "#drop NaN-values\n",
    "extracted_features=extracted_features.dropna(axis='columns')"
   ]
  },
  {
   "cell_type": "code",
   "execution_count": 32,
   "metadata": {},
   "outputs": [
    {
     "data": {
      "text/plain": [
       "0"
      ]
     },
     "execution_count": 32,
     "metadata": {},
     "output_type": "execute_result"
    }
   ],
   "source": [
    "pd.isna(extracted_features).sum().sum()"
   ]
  },
  {
   "cell_type": "code",
   "execution_count": 54,
   "metadata": {},
   "outputs": [
    {
     "data": {
      "text/plain": [
       "(2205, 1996)"
      ]
     },
     "execution_count": 54,
     "metadata": {},
     "output_type": "execute_result"
    }
   ],
   "source": [
    "extracted_features.shape"
   ]
  },
  {
   "cell_type": "code",
   "execution_count": 55,
   "metadata": {},
   "outputs": [],
   "source": [
    "# find infinite values and set them to NaN\n",
    "extracted_features.replace([np.inf, -np.inf], np.nan, inplace=True)"
   ]
  },
  {
   "cell_type": "code",
   "execution_count": 56,
   "metadata": {},
   "outputs": [
    {
     "data": {
      "text/plain": [
       "6"
      ]
     },
     "execution_count": 56,
     "metadata": {},
     "output_type": "execute_result"
    }
   ],
   "source": [
    "pd.isna(extracted_features).sum().sum()"
   ]
  },
  {
   "cell_type": "code",
   "execution_count": 57,
   "metadata": {},
   "outputs": [],
   "source": [
    "# drop NaN values\n",
    "extracted_features=extracted_features.dropna(axis='columns')"
   ]
  },
  {
   "cell_type": "code",
   "execution_count": 58,
   "metadata": {},
   "outputs": [
    {
     "data": {
      "text/plain": [
       "0"
      ]
     },
     "execution_count": 58,
     "metadata": {},
     "output_type": "execute_result"
    }
   ],
   "source": [
    "pd.isna(extracted_features).sum().sum()"
   ]
  },
  {
   "cell_type": "code",
   "execution_count": 59,
   "metadata": {},
   "outputs": [
    {
     "data": {
      "text/plain": [
       "(2205, 1994)"
      ]
     },
     "execution_count": 59,
     "metadata": {},
     "output_type": "execute_result"
    }
   ],
   "source": [
    "extracted_features.shape"
   ]
  },
  {
   "cell_type": "code",
   "execution_count": 60,
   "metadata": {},
   "outputs": [],
   "source": [
    "### TRAIN TEST SPLIT ###\n",
    "\n",
    "X_train, X_test, y_train, y_test = train_test_split(extracted_features, y, random_state = 1, test_size=0.2)"
   ]
  },
  {
   "cell_type": "code",
   "execution_count": 61,
   "metadata": {},
   "outputs": [
    {
     "data": {
      "text/plain": [
       "(1764,)"
      ]
     },
     "execution_count": 61,
     "metadata": {},
     "output_type": "execute_result"
    }
   ],
   "source": [
    "y_train.shape"
   ]
  },
  {
   "cell_type": "code",
   "execution_count": 62,
   "metadata": {},
   "outputs": [
    {
     "data": {
      "text/plain": [
       "(1764, 1994)"
      ]
     },
     "execution_count": 62,
     "metadata": {},
     "output_type": "execute_result"
    }
   ],
   "source": [
    "X_train.shape"
   ]
  },
  {
   "cell_type": "code",
   "execution_count": 63,
   "metadata": {},
   "outputs": [
    {
     "data": {
      "text/plain": [
       "(441,)"
      ]
     },
     "execution_count": 63,
     "metadata": {},
     "output_type": "execute_result"
    }
   ],
   "source": [
    "y_test.shape"
   ]
  },
  {
   "cell_type": "code",
   "execution_count": 64,
   "metadata": {},
   "outputs": [
    {
     "data": {
      "text/plain": [
       "(441, 1994)"
      ]
     },
     "execution_count": 64,
     "metadata": {},
     "output_type": "execute_result"
    }
   ],
   "source": [
    "X_test.shape"
   ]
  },
  {
   "cell_type": "markdown",
   "metadata": {},
   "source": [
    "Standardize features by removing the mean and scaling to unit variance.\n",
    "\n",
    "The standard score of a sample x is calculated as:\n",
    "\n",
    "    z = (x - u) / s\n",
    "\n",
    "where u is the mean of the training samples or zero if with_mean=False, and s is the standard deviation of the training samples or one if with_std=False.\n",
    "\n",
    "Centering and scaling happen independently on each feature by computing the relevant statistics on the samples in the training set. Mean and standard deviation are then stored to be used on later data using transform.\n",
    "\n",
    "Standardization of a dataset is a common requirement for many machine learning estimators: they might behave badly if the individual features do not more or less look like standard normally distributed data (e.g. Gaussian with 0 mean and unit variance)."
   ]
  },
  {
   "cell_type": "code",
   "execution_count": 65,
   "metadata": {},
   "outputs": [],
   "source": [
    "### SCALE DATA ###\n",
    "\n",
    "scaler = StandardScaler()\n",
    "\n",
    "X_train = scaler.fit_transform(X_train)\n",
    "X_test = scaler.transform(X_test)"
   ]
  },
  {
   "cell_type": "markdown",
   "metadata": {},
   "source": [
    "# MODEL"
   ]
  },
  {
   "cell_type": "markdown",
   "metadata": {},
   "source": [
    "### Decision Tree"
   ]
  },
  {
   "cell_type": "code",
   "execution_count": 66,
   "metadata": {},
   "outputs": [],
   "source": [
    "from sklearn import tree\n",
    "clf = tree.DecisionTreeClassifier()\n",
    "y_pred = clf.fit(X_train, y_train).predict(X_test)"
   ]
  },
  {
   "cell_type": "code",
   "execution_count": 67,
   "metadata": {},
   "outputs": [
    {
     "data": {
      "text/plain": [
       "array([[140,   6,   0],\n",
       "       [  5, 151,   0],\n",
       "       [  0,   3, 136]], dtype=int64)"
      ]
     },
     "execution_count": 67,
     "metadata": {},
     "output_type": "execute_result"
    }
   ],
   "source": [
    "confusion_matrix(y_test,y_pred)"
   ]
  },
  {
   "cell_type": "code",
   "execution_count": 71,
   "metadata": {},
   "outputs": [
    {
     "data": {
      "text/plain": [
       "0.9682539682539683"
      ]
     },
     "execution_count": 71,
     "metadata": {},
     "output_type": "execute_result"
    }
   ],
   "source": [
    "from sklearn.metrics import accuracy_score\n",
    "accuracy_score(y_test, y_pred)"
   ]
  },
  {
   "cell_type": "code",
   "execution_count": 88,
   "metadata": {},
   "outputs": [
    {
     "data": {
      "image/png": "[encoded data removed]",
      "text/plain": [
       "<Figure size 432x288 with 1 Axes>"
      ]
     },
     "metadata": {
      "needs_background": "light"
     },
     "output_type": "display_data"
    }
   ],
   "source": [
    "import seaborn as sns\n",
    "mat = confusion_matrix(y_test, y_pred)\n",
    "sns.heatmap(mat.T, square=True, annot=True, fmt='d', cbar=False)\n",
    "plt.xlabel('true label')\n",
    "plt.ylabel('predicted label');"
   ]
  },
  {
   "cell_type": "markdown",
   "metadata": {},
   "source": [
    "### Naive Bayes "
   ]
  },
  {
   "cell_type": "code",
   "execution_count": 68,
   "metadata": {},
   "outputs": [],
   "source": [
    "from sklearn.naive_bayes import GaussianNB\n",
    "gnb = GaussianNB()\n",
    "y_pred2 = gnb.fit(X_train, y_train).predict(X_test)"
   ]
  },
  {
   "cell_type": "code",
   "execution_count": 69,
   "metadata": {},
   "outputs": [
    {
     "data": {
      "text/plain": [
       "array([[140,   6,   0],\n",
       "       [  5, 150,   1],\n",
       "       [  1,   0, 138]], dtype=int64)"
      ]
     },
     "execution_count": 69,
     "metadata": {},
     "output_type": "execute_result"
    }
   ],
   "source": [
    "confusion_matrix(y_test,y_pred2)"
   ]
  },
  {
   "cell_type": "code",
   "execution_count": 90,
   "metadata": {},
   "outputs": [
    {
     "data": {
      "image/png": "[encoded data removed]",
      "text/plain": [
       "<Figure size 432x288 with 1 Axes>"
      ]
     },
     "metadata": {
      "needs_background": "light"
     },
     "output_type": "display_data"
    }
   ],
   "source": [
    "mat = confusion_matrix(y_test, y_pred2)\n",
    "sns.heatmap(mat.T, square=True, annot=True, fmt='d', cbar=False)\n",
    "plt.xlabel('true label')\n",
    "plt.ylabel('predicted label');"
   ]
  },
  {
   "cell_type": "code",
   "execution_count": 73,
   "metadata": {},
   "outputs": [
    {
     "data": {
      "text/plain": [
       "0.9705215419501134"
      ]
     },
     "execution_count": 73,
     "metadata": {},
     "output_type": "execute_result"
    }
   ],
   "source": [
    "accuracy_score(y_test, y_pred2)"
   ]
  },
  {
   "cell_type": "markdown",
   "metadata": {},
   "source": [
    "### Random Forest "
   ]
  },
  {
   "cell_type": "code",
   "execution_count": 91,
   "metadata": {},
   "outputs": [],
   "source": [
    "from sklearn.ensemble import RandomForestClassifier\n",
    "clfrf = RandomForestClassifier(n_estimators=20)\n",
    "y_pred3 = clfrf.fit(X_train,y_train).predict(X_test)"
   ]
  },
  {
   "cell_type": "code",
   "execution_count": 92,
   "metadata": {},
   "outputs": [
    {
     "data": {
      "text/plain": [
       "array([[145,   0,   1],\n",
       "       [  2, 154,   0],\n",
       "       [  0,   1, 138]], dtype=int64)"
      ]
     },
     "execution_count": 92,
     "metadata": {},
     "output_type": "execute_result"
    }
   ],
   "source": [
    "confusion_matrix(y_test,y_pred3)"
   ]
  },
  {
   "cell_type": "code",
   "execution_count": 83,
   "metadata": {},
   "outputs": [
    {
     "data": {
      "text/plain": [
       "0.9931972789115646"
      ]
     },
     "execution_count": 83,
     "metadata": {},
     "output_type": "execute_result"
    }
   ],
   "source": [
    "accuracy_score(y_test, y_pred3)"
   ]
  }
 ],
 "metadata": {
  "kernelspec": {
   "display_name": "Python 3 (ipykernel)",
   "language": "python",
   "name": "python3"
  },
  "language_info": {
   "codemirror_mode": {
    "name": "ipython",
    "version": 3
   },
   "file_extension": ".py",
   "mimetype": "text/x-python",
   "name": "python",
   "nbconvert_exporter": "python",
   "pygments_lexer": "ipython3",
   "version": "3.9.7"
  }
 },
 "nbformat": 4,
 "nbformat_minor": 2
}

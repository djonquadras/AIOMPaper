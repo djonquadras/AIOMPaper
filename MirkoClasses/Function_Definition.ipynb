{
 "cells": [
  {
   "cell_type": "markdown",
   "id": "4717d84e",
   "metadata": {},
   "source": [
    "# Useful Python functions"
   ]
  },
  {
   "cell_type": "markdown",
   "id": "387ddb4f",
   "metadata": {},
   "source": [
    "## for loops"
   ]
  },
  {
   "cell_type": "code",
   "execution_count": 2,
   "id": "6a450bc8",
   "metadata": {},
   "outputs": [
    {
     "name": "stdout",
     "output_type": "stream",
     "text": [
      "2\n",
      "3\n",
      "4\n",
      "5\n"
     ]
    }
   ],
   "source": [
    "for i in range(2,6): #range(n) creates a sequence from 0 to n-1\n",
    "    print(i)"
   ]
  },
  {
   "cell_type": "markdown",
   "id": "f13a7d2b",
   "metadata": {},
   "source": [
    "## +="
   ]
  },
  {
   "cell_type": "code",
   "execution_count": 3,
   "id": "65be55f3",
   "metadata": {},
   "outputs": [
    {
     "name": "stdout",
     "output_type": "stream",
     "text": [
      "0\n",
      "1\n",
      "3\n",
      "6\n",
      "10\n",
      "15\n",
      "21\n",
      "28\n",
      "36\n",
      "45\n"
     ]
    }
   ],
   "source": [
    "j=0\n",
    "for i in range(10):\n",
    "    j+=i\n",
    "    print(j)"
   ]
  },
  {
   "cell_type": "markdown",
   "id": "8f330f12",
   "metadata": {},
   "source": [
    "## *="
   ]
  },
  {
   "cell_type": "code",
   "execution_count": 5,
   "id": "eb2eeb09",
   "metadata": {},
   "outputs": [
    {
     "name": "stdout",
     "output_type": "stream",
     "text": [
      "1\n",
      "2\n",
      "6\n",
      "24\n",
      "120\n",
      "720\n",
      "5040\n",
      "40320\n",
      "362880\n"
     ]
    }
   ],
   "source": [
    "j=1\n",
    "for i in range(1,10):\n",
    "    j*=i\n",
    "    print(j)"
   ]
  },
  {
   "cell_type": "markdown",
   "id": "cbf1aa0d",
   "metadata": {},
   "source": [
    "## functions"
   ]
  },
  {
   "cell_type": "code",
   "execution_count": 7,
   "id": "2a72a81d",
   "metadata": {},
   "outputs": [
    {
     "name": "stdout",
     "output_type": "stream",
     "text": [
      "hello Enzo\n"
     ]
    }
   ],
   "source": [
    "def say_hello(name):\n",
    "    print(\"hello\",name)\n",
    "say_hello(\"Enzo\")"
   ]
  },
  {
   "cell_type": "code",
   "execution_count": 19,
   "id": "d9edac3c",
   "metadata": {},
   "outputs": [
    {
     "name": "stdout",
     "output_type": "stream",
     "text": [
      "The sum of the numbers is 45\n"
     ]
    }
   ],
   "source": [
    "def sum_is(numbers):\n",
    "    print(\"The sum of the numbers is\",sum(numbers))\n",
    "x=range(1,10)\n",
    "sum_is(x)"
   ]
  },
  {
   "cell_type": "code",
   "execution_count": 23,
   "id": "abfa67db",
   "metadata": {},
   "outputs": [
    {
     "name": "stdout",
     "output_type": "stream",
     "text": [
      "Hello\n"
     ]
    },
    {
     "data": {
      "text/plain": [
       "47"
      ]
     },
     "execution_count": 23,
     "metadata": {},
     "output_type": "execute_result"
    }
   ],
   "source": [
    "def sum_return(numbers):\n",
    "    print('Hello')\n",
    "    return sum(numbers)\n",
    "x=range(1,10)\n",
    "sum_return(x)+2"
   ]
  },
  {
   "cell_type": "code",
   "execution_count": 26,
   "id": "5b7993fb",
   "metadata": {},
   "outputs": [
    {
     "data": {
      "text/plain": [
       "6"
      ]
     },
     "execution_count": 26,
     "metadata": {},
     "output_type": "execute_result"
    }
   ],
   "source": [
    "def sum_of_two(a,b):\n",
    "    return a+b\n",
    "sum_of_two(1,5)"
   ]
  },
  {
   "cell_type": "code",
   "execution_count": 30,
   "id": "6b609522",
   "metadata": {},
   "outputs": [
    {
     "data": {
      "text/plain": [
       "16"
      ]
     },
     "execution_count": 30,
     "metadata": {},
     "output_type": "execute_result"
    }
   ],
   "source": [
    "def my_sum(*args):\n",
    "    result = 0\n",
    "    # Iterating over the Python args tuple\n",
    "    for i in args:\n",
    "        result += i\n",
    "    return result\n",
    "my_sum(1,2,3,10)"
   ]
  },
  {
   "cell_type": "code",
   "execution_count": null,
   "id": "08c19e41",
   "metadata": {},
   "outputs": [],
   "source": []
  },
  {
   "cell_type": "code",
   "execution_count": null,
   "id": "e6eb31f9",
   "metadata": {},
   "outputs": [],
   "source": []
  },
  {
   "cell_type": "code",
   "execution_count": null,
   "id": "6dbb6145",
   "metadata": {},
   "outputs": [],
   "source": []
  },
  {
   "cell_type": "code",
   "execution_count": null,
   "id": "0879f810",
   "metadata": {},
   "outputs": [],
   "source": []
  },
  {
   "cell_type": "code",
   "execution_count": null,
   "id": "0c303d7e",
   "metadata": {},
   "outputs": [],
   "source": []
  },
  {
   "cell_type": "code",
   "execution_count": 32,
   "id": "0f1b1443",
   "metadata": {},
   "outputs": [
    {
     "name": "stdout",
     "output_type": "stream",
     "text": [
      "25\n"
     ]
    }
   ],
   "source": [
    "def binom(a,b):\n",
    "    print((a+b)**2)\n",
    "binom(2,3)"
   ]
  },
  {
   "cell_type": "code",
   "execution_count": 34,
   "id": "0533d70c",
   "metadata": {},
   "outputs": [
    {
     "name": "stdout",
     "output_type": "stream",
     "text": [
      "10 is in the range from a to b.\n"
     ]
    }
   ],
   "source": [
    "def test_range(a,b,n):\n",
    "    if n in range(a,b):\n",
    "        print(str(n),\"is in the range from a to b.\")\n",
    "    else:\n",
    "        print(str(n),\"is outside the range from a to b.\")\n",
    "test_range(1,11,10)"
   ]
  },
  {
   "cell_type": "code",
   "execution_count": 40,
   "id": "19a76a6b",
   "metadata": {},
   "outputs": [
    {
     "name": "stdout",
     "output_type": "stream",
     "text": [
      "[2, 4, 6, 8]\n"
     ]
    }
   ],
   "source": [
    "def is_even_num(l):\n",
    "    enum = []\n",
    "    for n in l:\n",
    "        if n % 2 == 0:\n",
    "            enum.append(n)\n",
    "    return enum\n",
    "print(is_even_num([1, 2, 3, 4, 5, 6, 7, 8, 9]))"
   ]
  },
  {
   "cell_type": "code",
   "execution_count": 46,
   "id": "6d1ea388",
   "metadata": {},
   "outputs": [
    {
     "name": "stdout",
     "output_type": "stream",
     "text": [
      "8\n"
     ]
    }
   ],
   "source": [
    "def my_product(*args):\n",
    "    result = 1\n",
    "    # Iterating over the Python args tuple\n",
    "    for i in args:\n",
    "        result *= i\n",
    "    return result\n",
    "print(my_product(1, 2, 4))"
   ]
  }
 ],
 "metadata": {
  "kernelspec": {
   "display_name": "Python 3 (ipykernel)",
   "language": "python",
   "name": "python3"
  },
  "language_info": {
   "codemirror_mode": {
    "name": "ipython",
    "version": 3
   },
   "file_extension": ".py",
   "mimetype": "text/x-python",
   "name": "python",
   "nbconvert_exporter": "python",
   "pygments_lexer": "ipython3",
   "version": "3.9.7"
  }
 },
 "nbformat": 4,
 "nbformat_minor": 5
}

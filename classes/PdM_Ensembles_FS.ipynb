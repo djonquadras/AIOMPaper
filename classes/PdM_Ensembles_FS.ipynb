{
 "cells": [
  {
   "cell_type": "markdown",
   "metadata": {},
   "source": [
    "# Predictive Maintenance using the Condition monitoring of hydraulic systems Data Set"
   ]
  },
  {
   "cell_type": "markdown",
   "metadata": {},
   "source": [
    "In this notebook, we will use the dateset (https://archive.ics.uci.edu/ml/datasets/Condition+monitoring+of+hydraulic+systems) to demonstrate the training of machine learning models to predict faults.\n",
    "\n",
    "Creator of the dataset: ZeMA gGmbH, Eschberger Weg 46, 66121 Saarbrücken\n",
    "\n",
    "For more information, refer to: Nikolai Helwig, Eliseo Pignanelli, Andreas Schätze, Condition Monitoring of a Complex Hydraulic System Using Multivariate Statistics, in Proc. I2MTC-2015 - 2015 IEEE International Instrumentation and Measurement Technology Conference, paper PPS1-39, Pisa, Italy, May 11-14, 2015, doi: 10.1109/I2MTC.2015.7151267.\n",
    "\n",
    "Data Set Information:\n",
    "The data set was experimentally obtained with a hydraulic test rig. This test rig consists of a primary working and a secondary cooling-filtration circuit which are connected via the oil tank. The system cyclically repeats constant load cycles (duration 60 seconds) and measures process values such as pressures, volume flows and temperatures while the condition of four hydraulic components (cooler, valve, pump and accumulator) is quantitatively varied.\n",
    "\n",
    "Attribute Information:\n",
    "The data set contains raw process sensor data (i.e. without feature extraction) which are structured as matrices (tab-delimited) with the rows representing the cycles and the columns the data points within a cycle. The sensors involved are:\n",
    "Sensor Physical quantity Unit Sampling rate\n",
    "PS1 Pressure bar 100 Hz\n",
    "PS2 Pressure bar 100 Hz\n",
    "PS3 Pressure bar 100 Hz\n",
    "PS4 Pressure bar 100 Hz\n",
    "PS5 Pressure bar 100 Hz\n",
    "PS6 Pressure bar 100 Hz\n",
    "EPS1 Motor power W 100 Hz\n",
    "FS1 Volume flow l/min 10 Hz\n",
    "FS2 Volume flow l/min 10 Hz\n",
    "TS1 Temperature Â°C 1 Hz\n",
    "TS2 Temperature Â°C 1 Hz\n",
    "TS3 Temperature Â°C 1 Hz\n",
    "TS4 Temperature Â°C 1 Hz\n",
    "VS1 Vibration mm/s 1 Hz\n",
    "CE Cooling efficiency (virtual) % 1 Hz\n",
    "CP Cooling power (virtual) kW 1 Hz\n",
    "SE Efficiency factor % 1 Hz\n",
    "\n",
    "The target condition values are cycle-wise annotated in profile.txt (tab-delimited). As before, the row number represents the cycle number. The columns are\n",
    "\n",
    "1: Cooler condition / %:\n",
    "3: close to total failure\n",
    "20: reduced effifiency\n",
    "100: full efficiency\n",
    "\n",
    "2: Valve condition / %:\n",
    "100: optimal switching behavior\n",
    "90: small lag\n",
    "80: severe lag\n",
    "73: close to total failure\n",
    "\n",
    "3: Internal pump leakage:\n",
    "0: no leakage\n",
    "1: weak leakage\n",
    "2: severe leakage\n",
    "\n",
    "4: Hydraulic accumulator / bar:\n",
    "130: optimal pressure\n",
    "115: slightly reduced pressure\n",
    "100: severely reduced pressure\n",
    "90: close to total failure\n",
    "\n",
    "5: stable flag:\n",
    "0: conditions were stable\n",
    "1: static conditions might not have been reached yet"
   ]
  },
  {
   "cell_type": "markdown",
   "metadata": {},
   "source": [
    "## Goal"
   ]
  },
  {
   "attachments": {
    "grafik.png": {
     "image/png": "[encoded data removed]"
    }
   },
   "cell_type": "markdown",
   "metadata": {},
   "source": [
    "Our goal is to find a model that is able to predict the correct condition of flag (0,1) based on a feature matrix describing the condition of the complete hydraulic system.\n",
    "\n",
    "Since we have labels (flags) for 2205 measurement cycles, we need a feature matrix of the shape (2205 x F), where F is the number of different features which have to be extracted from the given measurement datasets for each measurement cycle.\n",
    "\n",
    "We will use the measurements of two different temperature sensors. Four each of the 2205 measurement cycles, we have 2 time series representing the measurements of the different temperature sensors. Each of the time series consists of 60 measurements. This means, we have to extract features describing the different time series.\n",
    "\n",
    "![grafik.png](attachment:grafik.png)"
   ]
  },
  {
   "cell_type": "code",
   "execution_count": 1,
   "metadata": {},
   "outputs": [],
   "source": [
    "import os\n",
    "import random\n",
    "import itertools\n",
    "import numpy as np\n",
    "import pandas as pd\n",
    "import matplotlib.pyplot as plt\n",
    "\n",
    "from sklearn.manifold import TSNE\n",
    "from sklearn.preprocessing import StandardScaler\n",
    "from sklearn.model_selection import train_test_split\n",
    "from sklearn.metrics import accuracy_score, confusion_matrix, classification_report"
   ]
  },
  {
   "cell_type": "code",
   "execution_count": 2,
   "metadata": {},
   "outputs": [
    {
     "name": "stdout",
     "output_type": "stream",
     "text": [
      "(4410, 60)\n"
     ]
    },
    {
     "data": {
      "text/html": [
       "<div>\n",
       "<style scoped>\n",
       "    .dataframe tbody tr th:only-of-type {\n",
       "        vertical-align: middle;\n",
       "    }\n",
       "\n",
       "    .dataframe tbody tr th {\n",
       "        vertical-align: top;\n",
       "    }\n",
       "\n",
       "    .dataframe thead th {\n",
       "        text-align: right;\n",
       "    }\n",
       "</style>\n",
       "<table border=\"1\" class=\"dataframe\">\n",
       "  <thead>\n",
       "    <tr style=\"text-align: right;\">\n",
       "      <th></th>\n",
       "      <th>0</th>\n",
       "      <th>1</th>\n",
       "      <th>2</th>\n",
       "      <th>3</th>\n",
       "      <th>4</th>\n",
       "      <th>5</th>\n",
       "      <th>6</th>\n",
       "      <th>7</th>\n",
       "      <th>8</th>\n",
       "      <th>9</th>\n",
       "      <th>...</th>\n",
       "      <th>50</th>\n",
       "      <th>51</th>\n",
       "      <th>52</th>\n",
       "      <th>53</th>\n",
       "      <th>54</th>\n",
       "      <th>55</th>\n",
       "      <th>56</th>\n",
       "      <th>57</th>\n",
       "      <th>58</th>\n",
       "      <th>59</th>\n",
       "    </tr>\n",
       "  </thead>\n",
       "  <tbody>\n",
       "    <tr>\n",
       "      <th>0</th>\n",
       "      <td>35.570</td>\n",
       "      <td>35.492</td>\n",
       "      <td>35.469</td>\n",
       "      <td>35.422</td>\n",
       "      <td>35.414</td>\n",
       "      <td>35.320</td>\n",
       "      <td>35.227</td>\n",
       "      <td>35.242</td>\n",
       "      <td>35.160</td>\n",
       "      <td>35.176</td>\n",
       "      <td>...</td>\n",
       "      <td>36.008</td>\n",
       "      <td>35.984</td>\n",
       "      <td>35.996</td>\n",
       "      <td>36.039</td>\n",
       "      <td>36.008</td>\n",
       "      <td>36.008</td>\n",
       "      <td>36.094</td>\n",
       "      <td>36.102</td>\n",
       "      <td>36.090</td>\n",
       "      <td>36.152</td>\n",
       "    </tr>\n",
       "    <tr>\n",
       "      <th>1</th>\n",
       "      <td>36.156</td>\n",
       "      <td>36.094</td>\n",
       "      <td>35.992</td>\n",
       "      <td>36.008</td>\n",
       "      <td>35.992</td>\n",
       "      <td>35.902</td>\n",
       "      <td>35.824</td>\n",
       "      <td>35.820</td>\n",
       "      <td>35.727</td>\n",
       "      <td>35.727</td>\n",
       "      <td>...</td>\n",
       "      <td>37.328</td>\n",
       "      <td>37.324</td>\n",
       "      <td>37.340</td>\n",
       "      <td>37.332</td>\n",
       "      <td>37.316</td>\n",
       "      <td>37.410</td>\n",
       "      <td>37.418</td>\n",
       "      <td>37.422</td>\n",
       "      <td>37.488</td>\n",
       "      <td>37.477</td>\n",
       "    </tr>\n",
       "    <tr>\n",
       "      <th>2</th>\n",
       "      <td>37.488</td>\n",
       "      <td>37.391</td>\n",
       "      <td>37.340</td>\n",
       "      <td>37.312</td>\n",
       "      <td>37.223</td>\n",
       "      <td>37.145</td>\n",
       "      <td>37.059</td>\n",
       "      <td>36.973</td>\n",
       "      <td>36.898</td>\n",
       "      <td>36.879</td>\n",
       "      <td>...</td>\n",
       "      <td>38.457</td>\n",
       "      <td>38.461</td>\n",
       "      <td>38.457</td>\n",
       "      <td>38.469</td>\n",
       "      <td>38.469</td>\n",
       "      <td>38.555</td>\n",
       "      <td>38.527</td>\n",
       "      <td>38.543</td>\n",
       "      <td>38.527</td>\n",
       "      <td>38.621</td>\n",
       "    </tr>\n",
       "    <tr>\n",
       "      <th>3</th>\n",
       "      <td>38.633</td>\n",
       "      <td>38.535</td>\n",
       "      <td>38.469</td>\n",
       "      <td>38.379</td>\n",
       "      <td>38.297</td>\n",
       "      <td>38.223</td>\n",
       "      <td>38.125</td>\n",
       "      <td>38.062</td>\n",
       "      <td>37.977</td>\n",
       "      <td>37.969</td>\n",
       "      <td>...</td>\n",
       "      <td>39.441</td>\n",
       "      <td>39.363</td>\n",
       "      <td>39.367</td>\n",
       "      <td>39.457</td>\n",
       "      <td>39.461</td>\n",
       "      <td>39.461</td>\n",
       "      <td>39.473</td>\n",
       "      <td>39.441</td>\n",
       "      <td>39.453</td>\n",
       "      <td>39.461</td>\n",
       "    </tr>\n",
       "    <tr>\n",
       "      <th>4</th>\n",
       "      <td>39.461</td>\n",
       "      <td>39.461</td>\n",
       "      <td>39.375</td>\n",
       "      <td>39.281</td>\n",
       "      <td>39.203</td>\n",
       "      <td>39.113</td>\n",
       "      <td>39.043</td>\n",
       "      <td>38.969</td>\n",
       "      <td>38.875</td>\n",
       "      <td>38.883</td>\n",
       "      <td>...</td>\n",
       "      <td>40.324</td>\n",
       "      <td>40.320</td>\n",
       "      <td>40.312</td>\n",
       "      <td>40.340</td>\n",
       "      <td>40.320</td>\n",
       "      <td>40.387</td>\n",
       "      <td>40.391</td>\n",
       "      <td>40.391</td>\n",
       "      <td>40.387</td>\n",
       "      <td>40.391</td>\n",
       "    </tr>\n",
       "  </tbody>\n",
       "</table>\n",
       "<p>5 rows × 60 columns</p>\n",
       "</div>"
      ],
      "text/plain": [
       "       0       1       2       3       4       5       6       7       8   \\\n",
       "0  35.570  35.492  35.469  35.422  35.414  35.320  35.227  35.242  35.160   \n",
       "1  36.156  36.094  35.992  36.008  35.992  35.902  35.824  35.820  35.727   \n",
       "2  37.488  37.391  37.340  37.312  37.223  37.145  37.059  36.973  36.898   \n",
       "3  38.633  38.535  38.469  38.379  38.297  38.223  38.125  38.062  37.977   \n",
       "4  39.461  39.461  39.375  39.281  39.203  39.113  39.043  38.969  38.875   \n",
       "\n",
       "       9   ...      50      51      52      53      54      55      56  \\\n",
       "0  35.176  ...  36.008  35.984  35.996  36.039  36.008  36.008  36.094   \n",
       "1  35.727  ...  37.328  37.324  37.340  37.332  37.316  37.410  37.418   \n",
       "2  36.879  ...  38.457  38.461  38.457  38.469  38.469  38.555  38.527   \n",
       "3  37.969  ...  39.441  39.363  39.367  39.457  39.461  39.461  39.473   \n",
       "4  38.883  ...  40.324  40.320  40.312  40.340  40.320  40.387  40.391   \n",
       "\n",
       "       57      58      59  \n",
       "0  36.102  36.090  36.152  \n",
       "1  37.422  37.488  37.477  \n",
       "2  38.543  38.527  38.621  \n",
       "3  39.441  39.453  39.461  \n",
       "4  40.391  40.387  40.391  \n",
       "\n",
       "[5 rows x 60 columns]"
      ]
     },
     "execution_count": 2,
     "metadata": {},
     "output_type": "execute_result"
    }
   ],
   "source": [
    "### LOAD DATA ###\n",
    "\n",
    "label = pd.read_csv('profile.txt', sep='\\t', header=None)\n",
    "label.columns = ['Cooler','Valve','Pump','Accumulator','Flag']\n",
    "\n",
    "#data = ['TS1.txt','TS2.txt','TS3.txt','TS4.txt']\n",
    "data = ['TS1.txt','TS2.txt']\n",
    "df = pd.DataFrame()\n",
    "\n",
    "for txt in data:\n",
    "    read_df = pd.read_csv(txt, sep='\\t', header=None)\n",
    "    df = df.append(read_df)    \n",
    "\n",
    "print(df.shape)\n",
    "df.head()"
   ]
  },
  {
   "cell_type": "code",
   "execution_count": 3,
   "metadata": {},
   "outputs": [
    {
     "name": "stdout",
     "output_type": "stream",
     "text": [
      "2205 measurement cycles\n",
      "60 measurements per cycle\n",
      "2 temperature sensors\n"
     ]
    }
   ],
   "source": [
    "n=int(len(df)/len(data))\n",
    "m=len(df.columns)\n",
    "print(n,'measurement cycles')\n",
    "print(m,'measurements per cycle')\n",
    "print(len(data),'temperature sensors')"
   ]
  },
  {
   "cell_type": "code",
   "execution_count": 4,
   "metadata": {},
   "outputs": [
    {
     "data": {
      "text/plain": [
       "0"
      ]
     },
     "execution_count": 4,
     "metadata": {},
     "output_type": "execute_result"
    }
   ],
   "source": [
    "df.isnull().sum().sum()"
   ]
  },
  {
   "cell_type": "code",
   "execution_count": 5,
   "metadata": {},
   "outputs": [
    {
     "data": {
      "text/plain": [
       "0"
      ]
     },
     "execution_count": 5,
     "metadata": {},
     "output_type": "execute_result"
    }
   ],
   "source": [
    "df.duplicated().sum()"
   ]
  },
  {
   "cell_type": "code",
   "execution_count": 6,
   "metadata": {},
   "outputs": [
    {
     "data": {
      "text/html": [
       "<div>\n",
       "<style scoped>\n",
       "    .dataframe tbody tr th:only-of-type {\n",
       "        vertical-align: middle;\n",
       "    }\n",
       "\n",
       "    .dataframe tbody tr th {\n",
       "        vertical-align: top;\n",
       "    }\n",
       "\n",
       "    .dataframe thead th {\n",
       "        text-align: right;\n",
       "    }\n",
       "</style>\n",
       "<table border=\"1\" class=\"dataframe\">\n",
       "  <thead>\n",
       "    <tr style=\"text-align: right;\">\n",
       "      <th></th>\n",
       "      <th>0</th>\n",
       "      <th>1</th>\n",
       "      <th>2</th>\n",
       "      <th>3</th>\n",
       "      <th>4</th>\n",
       "      <th>5</th>\n",
       "      <th>6</th>\n",
       "      <th>7</th>\n",
       "      <th>8</th>\n",
       "      <th>9</th>\n",
       "      <th>...</th>\n",
       "      <th>50</th>\n",
       "      <th>51</th>\n",
       "      <th>52</th>\n",
       "      <th>53</th>\n",
       "      <th>54</th>\n",
       "      <th>55</th>\n",
       "      <th>56</th>\n",
       "      <th>57</th>\n",
       "      <th>58</th>\n",
       "      <th>59</th>\n",
       "    </tr>\n",
       "  </thead>\n",
       "  <tbody>\n",
       "    <tr>\n",
       "      <th>0</th>\n",
       "      <td>35.570</td>\n",
       "      <td>35.492</td>\n",
       "      <td>35.469</td>\n",
       "      <td>35.422</td>\n",
       "      <td>35.414</td>\n",
       "      <td>35.320</td>\n",
       "      <td>35.227</td>\n",
       "      <td>35.242</td>\n",
       "      <td>35.160</td>\n",
       "      <td>35.176</td>\n",
       "      <td>...</td>\n",
       "      <td>36.008</td>\n",
       "      <td>35.984</td>\n",
       "      <td>35.996</td>\n",
       "      <td>36.039</td>\n",
       "      <td>36.008</td>\n",
       "      <td>36.008</td>\n",
       "      <td>36.094</td>\n",
       "      <td>36.102</td>\n",
       "      <td>36.090</td>\n",
       "      <td>36.152</td>\n",
       "    </tr>\n",
       "    <tr>\n",
       "      <th>0</th>\n",
       "      <td>40.961</td>\n",
       "      <td>40.949</td>\n",
       "      <td>40.965</td>\n",
       "      <td>40.922</td>\n",
       "      <td>40.879</td>\n",
       "      <td>40.879</td>\n",
       "      <td>40.828</td>\n",
       "      <td>40.812</td>\n",
       "      <td>40.809</td>\n",
       "      <td>40.785</td>\n",
       "      <td>...</td>\n",
       "      <td>41.211</td>\n",
       "      <td>41.129</td>\n",
       "      <td>41.195</td>\n",
       "      <td>41.211</td>\n",
       "      <td>41.207</td>\n",
       "      <td>41.191</td>\n",
       "      <td>41.207</td>\n",
       "      <td>41.207</td>\n",
       "      <td>41.129</td>\n",
       "      <td>41.250</td>\n",
       "    </tr>\n",
       "    <tr>\n",
       "      <th>1</th>\n",
       "      <td>41.258</td>\n",
       "      <td>41.277</td>\n",
       "      <td>41.262</td>\n",
       "      <td>41.223</td>\n",
       "      <td>41.211</td>\n",
       "      <td>41.176</td>\n",
       "      <td>41.129</td>\n",
       "      <td>41.129</td>\n",
       "      <td>41.070</td>\n",
       "      <td>41.031</td>\n",
       "      <td>...</td>\n",
       "      <td>41.949</td>\n",
       "      <td>41.941</td>\n",
       "      <td>41.980</td>\n",
       "      <td>41.957</td>\n",
       "      <td>41.980</td>\n",
       "      <td>42.020</td>\n",
       "      <td>42.023</td>\n",
       "      <td>42.031</td>\n",
       "      <td>42.078</td>\n",
       "      <td>42.105</td>\n",
       "    </tr>\n",
       "    <tr>\n",
       "      <th>1</th>\n",
       "      <td>36.156</td>\n",
       "      <td>36.094</td>\n",
       "      <td>35.992</td>\n",
       "      <td>36.008</td>\n",
       "      <td>35.992</td>\n",
       "      <td>35.902</td>\n",
       "      <td>35.824</td>\n",
       "      <td>35.820</td>\n",
       "      <td>35.727</td>\n",
       "      <td>35.727</td>\n",
       "      <td>...</td>\n",
       "      <td>37.328</td>\n",
       "      <td>37.324</td>\n",
       "      <td>37.340</td>\n",
       "      <td>37.332</td>\n",
       "      <td>37.316</td>\n",
       "      <td>37.410</td>\n",
       "      <td>37.418</td>\n",
       "      <td>37.422</td>\n",
       "      <td>37.488</td>\n",
       "      <td>37.477</td>\n",
       "    </tr>\n",
       "    <tr>\n",
       "      <th>2</th>\n",
       "      <td>37.488</td>\n",
       "      <td>37.391</td>\n",
       "      <td>37.340</td>\n",
       "      <td>37.312</td>\n",
       "      <td>37.223</td>\n",
       "      <td>37.145</td>\n",
       "      <td>37.059</td>\n",
       "      <td>36.973</td>\n",
       "      <td>36.898</td>\n",
       "      <td>36.879</td>\n",
       "      <td>...</td>\n",
       "      <td>38.457</td>\n",
       "      <td>38.461</td>\n",
       "      <td>38.457</td>\n",
       "      <td>38.469</td>\n",
       "      <td>38.469</td>\n",
       "      <td>38.555</td>\n",
       "      <td>38.527</td>\n",
       "      <td>38.543</td>\n",
       "      <td>38.527</td>\n",
       "      <td>38.621</td>\n",
       "    </tr>\n",
       "    <tr>\n",
       "      <th>...</th>\n",
       "      <td>...</td>\n",
       "      <td>...</td>\n",
       "      <td>...</td>\n",
       "      <td>...</td>\n",
       "      <td>...</td>\n",
       "      <td>...</td>\n",
       "      <td>...</td>\n",
       "      <td>...</td>\n",
       "      <td>...</td>\n",
       "      <td>...</td>\n",
       "      <td>...</td>\n",
       "      <td>...</td>\n",
       "      <td>...</td>\n",
       "      <td>...</td>\n",
       "      <td>...</td>\n",
       "      <td>...</td>\n",
       "      <td>...</td>\n",
       "      <td>...</td>\n",
       "      <td>...</td>\n",
       "      <td>...</td>\n",
       "      <td>...</td>\n",
       "    </tr>\n",
       "    <tr>\n",
       "      <th>2202</th>\n",
       "      <td>35.434</td>\n",
       "      <td>35.355</td>\n",
       "      <td>35.262</td>\n",
       "      <td>35.187</td>\n",
       "      <td>35.266</td>\n",
       "      <td>35.102</td>\n",
       "      <td>35.105</td>\n",
       "      <td>35.094</td>\n",
       "      <td>35.016</td>\n",
       "      <td>35.016</td>\n",
       "      <td>...</td>\n",
       "      <td>35.500</td>\n",
       "      <td>35.434</td>\n",
       "      <td>35.410</td>\n",
       "      <td>35.434</td>\n",
       "      <td>35.426</td>\n",
       "      <td>35.437</td>\n",
       "      <td>35.441</td>\n",
       "      <td>35.410</td>\n",
       "      <td>35.434</td>\n",
       "      <td>35.437</td>\n",
       "    </tr>\n",
       "    <tr>\n",
       "      <th>2203</th>\n",
       "      <td>40.906</td>\n",
       "      <td>40.906</td>\n",
       "      <td>40.891</td>\n",
       "      <td>40.895</td>\n",
       "      <td>40.855</td>\n",
       "      <td>40.816</td>\n",
       "      <td>40.812</td>\n",
       "      <td>40.828</td>\n",
       "      <td>40.812</td>\n",
       "      <td>40.812</td>\n",
       "      <td>...</td>\n",
       "      <td>40.934</td>\n",
       "      <td>40.961</td>\n",
       "      <td>40.957</td>\n",
       "      <td>40.926</td>\n",
       "      <td>40.898</td>\n",
       "      <td>40.934</td>\n",
       "      <td>40.910</td>\n",
       "      <td>40.926</td>\n",
       "      <td>40.918</td>\n",
       "      <td>40.898</td>\n",
       "    </tr>\n",
       "    <tr>\n",
       "      <th>2203</th>\n",
       "      <td>35.449</td>\n",
       "      <td>35.359</td>\n",
       "      <td>35.277</td>\n",
       "      <td>35.184</td>\n",
       "      <td>35.195</td>\n",
       "      <td>35.184</td>\n",
       "      <td>35.105</td>\n",
       "      <td>35.016</td>\n",
       "      <td>35.012</td>\n",
       "      <td>35.008</td>\n",
       "      <td>...</td>\n",
       "      <td>35.437</td>\n",
       "      <td>35.531</td>\n",
       "      <td>35.426</td>\n",
       "      <td>35.516</td>\n",
       "      <td>35.422</td>\n",
       "      <td>35.441</td>\n",
       "      <td>35.461</td>\n",
       "      <td>35.414</td>\n",
       "      <td>35.426</td>\n",
       "      <td>35.441</td>\n",
       "    </tr>\n",
       "    <tr>\n",
       "      <th>2204</th>\n",
       "      <td>35.422</td>\n",
       "      <td>35.336</td>\n",
       "      <td>35.250</td>\n",
       "      <td>35.176</td>\n",
       "      <td>35.195</td>\n",
       "      <td>35.094</td>\n",
       "      <td>35.102</td>\n",
       "      <td>35.094</td>\n",
       "      <td>35.012</td>\n",
       "      <td>35.012</td>\n",
       "      <td>...</td>\n",
       "      <td>35.437</td>\n",
       "      <td>35.453</td>\n",
       "      <td>35.520</td>\n",
       "      <td>35.437</td>\n",
       "      <td>35.437</td>\n",
       "      <td>35.441</td>\n",
       "      <td>35.437</td>\n",
       "      <td>35.434</td>\n",
       "      <td>35.434</td>\n",
       "      <td>35.426</td>\n",
       "    </tr>\n",
       "    <tr>\n",
       "      <th>2204</th>\n",
       "      <td>40.840</td>\n",
       "      <td>40.895</td>\n",
       "      <td>40.883</td>\n",
       "      <td>40.867</td>\n",
       "      <td>40.840</td>\n",
       "      <td>40.816</td>\n",
       "      <td>40.816</td>\n",
       "      <td>40.812</td>\n",
       "      <td>40.812</td>\n",
       "      <td>40.789</td>\n",
       "      <td>...</td>\n",
       "      <td>40.934</td>\n",
       "      <td>40.879</td>\n",
       "      <td>40.918</td>\n",
       "      <td>40.937</td>\n",
       "      <td>40.895</td>\n",
       "      <td>40.910</td>\n",
       "      <td>40.895</td>\n",
       "      <td>40.883</td>\n",
       "      <td>40.879</td>\n",
       "      <td>40.891</td>\n",
       "    </tr>\n",
       "  </tbody>\n",
       "</table>\n",
       "<p>4410 rows × 60 columns</p>\n",
       "</div>"
      ],
      "text/plain": [
       "          0       1       2       3       4       5       6       7       8   \\\n",
       "0     35.570  35.492  35.469  35.422  35.414  35.320  35.227  35.242  35.160   \n",
       "0     40.961  40.949  40.965  40.922  40.879  40.879  40.828  40.812  40.809   \n",
       "1     41.258  41.277  41.262  41.223  41.211  41.176  41.129  41.129  41.070   \n",
       "1     36.156  36.094  35.992  36.008  35.992  35.902  35.824  35.820  35.727   \n",
       "2     37.488  37.391  37.340  37.312  37.223  37.145  37.059  36.973  36.898   \n",
       "...      ...     ...     ...     ...     ...     ...     ...     ...     ...   \n",
       "2202  35.434  35.355  35.262  35.187  35.266  35.102  35.105  35.094  35.016   \n",
       "2203  40.906  40.906  40.891  40.895  40.855  40.816  40.812  40.828  40.812   \n",
       "2203  35.449  35.359  35.277  35.184  35.195  35.184  35.105  35.016  35.012   \n",
       "2204  35.422  35.336  35.250  35.176  35.195  35.094  35.102  35.094  35.012   \n",
       "2204  40.840  40.895  40.883  40.867  40.840  40.816  40.816  40.812  40.812   \n",
       "\n",
       "          9   ...      50      51      52      53      54      55      56  \\\n",
       "0     35.176  ...  36.008  35.984  35.996  36.039  36.008  36.008  36.094   \n",
       "0     40.785  ...  41.211  41.129  41.195  41.211  41.207  41.191  41.207   \n",
       "1     41.031  ...  41.949  41.941  41.980  41.957  41.980  42.020  42.023   \n",
       "1     35.727  ...  37.328  37.324  37.340  37.332  37.316  37.410  37.418   \n",
       "2     36.879  ...  38.457  38.461  38.457  38.469  38.469  38.555  38.527   \n",
       "...      ...  ...     ...     ...     ...     ...     ...     ...     ...   \n",
       "2202  35.016  ...  35.500  35.434  35.410  35.434  35.426  35.437  35.441   \n",
       "2203  40.812  ...  40.934  40.961  40.957  40.926  40.898  40.934  40.910   \n",
       "2203  35.008  ...  35.437  35.531  35.426  35.516  35.422  35.441  35.461   \n",
       "2204  35.012  ...  35.437  35.453  35.520  35.437  35.437  35.441  35.437   \n",
       "2204  40.789  ...  40.934  40.879  40.918  40.937  40.895  40.910  40.895   \n",
       "\n",
       "          57      58      59  \n",
       "0     36.102  36.090  36.152  \n",
       "0     41.207  41.129  41.250  \n",
       "1     42.031  42.078  42.105  \n",
       "1     37.422  37.488  37.477  \n",
       "2     38.543  38.527  38.621  \n",
       "...      ...     ...     ...  \n",
       "2202  35.410  35.434  35.437  \n",
       "2203  40.926  40.918  40.898  \n",
       "2203  35.414  35.426  35.441  \n",
       "2204  35.434  35.434  35.426  \n",
       "2204  40.883  40.879  40.891  \n",
       "\n",
       "[4410 rows x 60 columns]"
      ]
     },
     "execution_count": 6,
     "metadata": {},
     "output_type": "execute_result"
    }
   ],
   "source": [
    "df1 = df.sort_index()\n",
    "df1"
   ]
  },
  {
   "cell_type": "markdown",
   "metadata": {},
   "source": [
    "For plotting, we need the data in the following format: (number of measurement cycles x number of measurements per cycle x number of sensors) = (2205 x 60 x 4)"
   ]
  },
  {
   "cell_type": "code",
   "execution_count": 7,
   "metadata": {},
   "outputs": [
    {
     "data": {
      "text/plain": [
       "(2205, 2, 60)"
      ]
     },
     "execution_count": 7,
     "metadata": {},
     "output_type": "execute_result"
    }
   ],
   "source": [
    "df1 = df.sort_index().values.reshape(-1,len(data),len(df.columns))\n",
    "df1.shape"
   ]
  },
  {
   "cell_type": "code",
   "execution_count": 8,
   "metadata": {},
   "outputs": [
    {
     "data": {
      "text/plain": [
       "(2205, 60, 2)"
      ]
     },
     "execution_count": 8,
     "metadata": {},
     "output_type": "execute_result"
    }
   ],
   "source": [
    "### RESHAPE DATA AMONG SENSORS ###\n",
    "\n",
    "df = df.sort_index().values.reshape(-1,len(data),len(df.columns)).transpose(0,2,1)\n",
    "df.shape"
   ]
  },
  {
   "cell_type": "code",
   "execution_count": 9,
   "metadata": {},
   "outputs": [
    {
     "data": {
      "image/png": "[encoded data removed]",
      "text/plain": [
       "<Figure size 576x360 with 1 Axes>"
      ]
     },
     "metadata": {
      "needs_background": "light"
     },
     "output_type": "display_data"
    }
   ],
   "source": [
    "### PLOT ORIGINAL TEMPERATURE DATA ###\n",
    "# Measurements of the 4 sensors of the first measurement cycle\n",
    "\n",
    "plt.figure(figsize=(8,5))\n",
    "plt.plot(df[0])\n",
    "plt.title('Original Temperature Data')\n",
    "plt.ylabel('Temperature'); plt.xlabel('Time')\n",
    "#plt.legend(['TS1','TS2','TS3','TS4'])\n",
    "plt.legend(['TS1','TS2'])\n",
    "np.set_printoptions(False)"
   ]
  },
  {
   "cell_type": "code",
   "execution_count": 10,
   "metadata": {},
   "outputs": [
    {
     "data": {
      "text/html": [
       "<div>\n",
       "<style scoped>\n",
       "    .dataframe tbody tr th:only-of-type {\n",
       "        vertical-align: middle;\n",
       "    }\n",
       "\n",
       "    .dataframe tbody tr th {\n",
       "        vertical-align: top;\n",
       "    }\n",
       "\n",
       "    .dataframe thead th {\n",
       "        text-align: right;\n",
       "    }\n",
       "</style>\n",
       "<table border=\"1\" class=\"dataframe\">\n",
       "  <thead>\n",
       "    <tr style=\"text-align: right;\">\n",
       "      <th></th>\n",
       "      <th>Cooler</th>\n",
       "      <th>Valve</th>\n",
       "      <th>Pump</th>\n",
       "      <th>Accumulator</th>\n",
       "      <th>Flag</th>\n",
       "    </tr>\n",
       "  </thead>\n",
       "  <tbody>\n",
       "    <tr>\n",
       "      <th>0</th>\n",
       "      <td>3</td>\n",
       "      <td>100</td>\n",
       "      <td>0</td>\n",
       "      <td>130</td>\n",
       "      <td>1</td>\n",
       "    </tr>\n",
       "    <tr>\n",
       "      <th>1</th>\n",
       "      <td>3</td>\n",
       "      <td>100</td>\n",
       "      <td>0</td>\n",
       "      <td>130</td>\n",
       "      <td>1</td>\n",
       "    </tr>\n",
       "    <tr>\n",
       "      <th>2</th>\n",
       "      <td>3</td>\n",
       "      <td>100</td>\n",
       "      <td>0</td>\n",
       "      <td>130</td>\n",
       "      <td>1</td>\n",
       "    </tr>\n",
       "    <tr>\n",
       "      <th>3</th>\n",
       "      <td>3</td>\n",
       "      <td>100</td>\n",
       "      <td>0</td>\n",
       "      <td>130</td>\n",
       "      <td>1</td>\n",
       "    </tr>\n",
       "    <tr>\n",
       "      <th>4</th>\n",
       "      <td>3</td>\n",
       "      <td>100</td>\n",
       "      <td>0</td>\n",
       "      <td>130</td>\n",
       "      <td>1</td>\n",
       "    </tr>\n",
       "    <tr>\n",
       "      <th>...</th>\n",
       "      <td>...</td>\n",
       "      <td>...</td>\n",
       "      <td>...</td>\n",
       "      <td>...</td>\n",
       "      <td>...</td>\n",
       "    </tr>\n",
       "    <tr>\n",
       "      <th>2200</th>\n",
       "      <td>100</td>\n",
       "      <td>100</td>\n",
       "      <td>0</td>\n",
       "      <td>90</td>\n",
       "      <td>0</td>\n",
       "    </tr>\n",
       "    <tr>\n",
       "      <th>2201</th>\n",
       "      <td>100</td>\n",
       "      <td>100</td>\n",
       "      <td>0</td>\n",
       "      <td>90</td>\n",
       "      <td>0</td>\n",
       "    </tr>\n",
       "    <tr>\n",
       "      <th>2202</th>\n",
       "      <td>100</td>\n",
       "      <td>100</td>\n",
       "      <td>0</td>\n",
       "      <td>90</td>\n",
       "      <td>0</td>\n",
       "    </tr>\n",
       "    <tr>\n",
       "      <th>2203</th>\n",
       "      <td>100</td>\n",
       "      <td>100</td>\n",
       "      <td>0</td>\n",
       "      <td>90</td>\n",
       "      <td>0</td>\n",
       "    </tr>\n",
       "    <tr>\n",
       "      <th>2204</th>\n",
       "      <td>100</td>\n",
       "      <td>100</td>\n",
       "      <td>0</td>\n",
       "      <td>90</td>\n",
       "      <td>0</td>\n",
       "    </tr>\n",
       "  </tbody>\n",
       "</table>\n",
       "<p>2205 rows × 5 columns</p>\n",
       "</div>"
      ],
      "text/plain": [
       "      Cooler  Valve  Pump  Accumulator  Flag\n",
       "0          3    100     0          130     1\n",
       "1          3    100     0          130     1\n",
       "2          3    100     0          130     1\n",
       "3          3    100     0          130     1\n",
       "4          3    100     0          130     1\n",
       "...      ...    ...   ...          ...   ...\n",
       "2200     100    100     0           90     0\n",
       "2201     100    100     0           90     0\n",
       "2202     100    100     0           90     0\n",
       "2203     100    100     0           90     0\n",
       "2204     100    100     0           90     0\n",
       "\n",
       "[2205 rows x 5 columns]"
      ]
     },
     "execution_count": 10,
     "metadata": {},
     "output_type": "execute_result"
    }
   ],
   "source": [
    "label"
   ]
  },
  {
   "cell_type": "code",
   "execution_count": 11,
   "metadata": {},
   "outputs": [
    {
     "data": {
      "text/plain": [
       "0    1449\n",
       "1     756\n",
       "Name: Flag, dtype: int64"
      ]
     },
     "execution_count": 11,
     "metadata": {},
     "output_type": "execute_result"
    }
   ],
   "source": [
    "### LABEL DISTRIBUTION ### We only want to consider the variable FLAG\n",
    "# Flag:\n",
    "# 0: conditions were stable \n",
    "# 1: unstable conditions\n",
    "\n",
    "label = label.Flag\n",
    "label.value_counts()"
   ]
  },
  {
   "cell_type": "code",
   "execution_count": 12,
   "metadata": {},
   "outputs": [
    {
     "data": {
      "text/plain": [
       "0       1\n",
       "1       1\n",
       "2       1\n",
       "3       1\n",
       "4       1\n",
       "       ..\n",
       "2200    0\n",
       "2201    0\n",
       "2202    0\n",
       "2203    0\n",
       "2204    0\n",
       "Name: Flag, Length: 2205, dtype: int64"
      ]
     },
     "execution_count": 12,
     "metadata": {},
     "output_type": "execute_result"
    }
   ],
   "source": [
    "label"
   ]
  },
  {
   "cell_type": "code",
   "execution_count": 13,
   "metadata": {},
   "outputs": [
    {
     "data": {
      "text/plain": [
       "array([1, 0], dtype=int64)"
      ]
     },
     "execution_count": 13,
     "metadata": {},
     "output_type": "execute_result"
    }
   ],
   "source": [
    "label.unique()"
   ]
  },
  {
   "cell_type": "code",
   "execution_count": 14,
   "metadata": {},
   "outputs": [
    {
     "name": "stdout",
     "output_type": "stream",
     "text": [
      "0 1\n",
      "1 0\n"
     ]
    }
   ],
   "source": [
    "for i,j in enumerate(label.unique()):\n",
    "    print(i,j)"
   ]
  },
  {
   "cell_type": "code",
   "execution_count": 15,
   "metadata": {},
   "outputs": [
    {
     "name": "stdout",
     "output_type": "stream",
     "text": [
      "{1: 0, 0: 1}\n",
      "{0: 1, 1: 0}\n"
     ]
    }
   ],
   "source": [
    "### MAPPING LABEL ###\n",
    "\n",
    "diz_label, diz_reverse_label = {}, {}\n",
    "for i,lab in enumerate(label.unique()):\n",
    "    diz_label[lab] = i\n",
    "    diz_reverse_label[i] = lab\n",
    "\n",
    "print(diz_label)\n",
    "print(diz_reverse_label)\n",
    "label = label.map(diz_label)\n",
    "y = label.astype(\"category\")"
   ]
  },
  {
   "cell_type": "code",
   "execution_count": 16,
   "metadata": {},
   "outputs": [
    {
     "data": {
      "text/plain": [
       "0       0\n",
       "1       0\n",
       "2       0\n",
       "3       0\n",
       "4       0\n",
       "       ..\n",
       "2200    1\n",
       "2201    1\n",
       "2202    1\n",
       "2203    1\n",
       "2204    1\n",
       "Name: Flag, Length: 2205, dtype: int64"
      ]
     },
     "execution_count": 16,
     "metadata": {},
     "output_type": "execute_result"
    }
   ],
   "source": [
    "label"
   ]
  },
  {
   "cell_type": "markdown",
   "metadata": {},
   "source": [
    "## Extract Features with the tsfresh package"
   ]
  },
  {
   "cell_type": "markdown",
   "metadata": {},
   "source": [
    "For applying the tsfresh package, we need two columns specifying the ids (measurement cycle number) and the times (time points of each measurement cycle)."
   ]
  },
  {
   "cell_type": "code",
   "execution_count": 17,
   "metadata": {},
   "outputs": [
    {
     "data": {
      "text/html": [
       "<div>\n",
       "<style scoped>\n",
       "    .dataframe tbody tr th:only-of-type {\n",
       "        vertical-align: middle;\n",
       "    }\n",
       "\n",
       "    .dataframe tbody tr th {\n",
       "        vertical-align: top;\n",
       "    }\n",
       "\n",
       "    .dataframe thead th {\n",
       "        text-align: right;\n",
       "    }\n",
       "</style>\n",
       "<table border=\"1\" class=\"dataframe\">\n",
       "  <thead>\n",
       "    <tr style=\"text-align: right;\">\n",
       "      <th></th>\n",
       "      <th>0</th>\n",
       "      <th>1</th>\n",
       "    </tr>\n",
       "  </thead>\n",
       "  <tbody>\n",
       "    <tr>\n",
       "      <th>0</th>\n",
       "      <td>35.570</td>\n",
       "      <td>40.961</td>\n",
       "    </tr>\n",
       "    <tr>\n",
       "      <th>1</th>\n",
       "      <td>35.492</td>\n",
       "      <td>40.949</td>\n",
       "    </tr>\n",
       "    <tr>\n",
       "      <th>2</th>\n",
       "      <td>35.469</td>\n",
       "      <td>40.965</td>\n",
       "    </tr>\n",
       "    <tr>\n",
       "      <th>3</th>\n",
       "      <td>35.422</td>\n",
       "      <td>40.922</td>\n",
       "    </tr>\n",
       "    <tr>\n",
       "      <th>4</th>\n",
       "      <td>35.414</td>\n",
       "      <td>40.879</td>\n",
       "    </tr>\n",
       "    <tr>\n",
       "      <th>...</th>\n",
       "      <td>...</td>\n",
       "      <td>...</td>\n",
       "    </tr>\n",
       "    <tr>\n",
       "      <th>132295</th>\n",
       "      <td>35.441</td>\n",
       "      <td>40.910</td>\n",
       "    </tr>\n",
       "    <tr>\n",
       "      <th>132296</th>\n",
       "      <td>35.437</td>\n",
       "      <td>40.895</td>\n",
       "    </tr>\n",
       "    <tr>\n",
       "      <th>132297</th>\n",
       "      <td>35.434</td>\n",
       "      <td>40.883</td>\n",
       "    </tr>\n",
       "    <tr>\n",
       "      <th>132298</th>\n",
       "      <td>35.434</td>\n",
       "      <td>40.879</td>\n",
       "    </tr>\n",
       "    <tr>\n",
       "      <th>132299</th>\n",
       "      <td>35.426</td>\n",
       "      <td>40.891</td>\n",
       "    </tr>\n",
       "  </tbody>\n",
       "</table>\n",
       "<p>132300 rows × 2 columns</p>\n",
       "</div>"
      ],
      "text/plain": [
       "             0       1\n",
       "0       35.570  40.961\n",
       "1       35.492  40.949\n",
       "2       35.469  40.965\n",
       "3       35.422  40.922\n",
       "4       35.414  40.879\n",
       "...        ...     ...\n",
       "132295  35.441  40.910\n",
       "132296  35.437  40.895\n",
       "132297  35.434  40.883\n",
       "132298  35.434  40.879\n",
       "132299  35.426  40.891\n",
       "\n",
       "[132300 rows x 2 columns]"
      ]
     },
     "execution_count": 17,
     "metadata": {},
     "output_type": "execute_result"
    }
   ],
   "source": [
    "#df2=pd.DataFrame(df.reshape(-1,4))\n",
    "df2=pd.DataFrame(df.reshape(-1,2))\n",
    "df2"
   ]
  },
  {
   "cell_type": "code",
   "execution_count": 18,
   "metadata": {},
   "outputs": [
    {
     "data": {
      "text/html": [
       "<div>\n",
       "<style scoped>\n",
       "    .dataframe tbody tr th:only-of-type {\n",
       "        vertical-align: middle;\n",
       "    }\n",
       "\n",
       "    .dataframe tbody tr th {\n",
       "        vertical-align: top;\n",
       "    }\n",
       "\n",
       "    .dataframe thead th {\n",
       "        text-align: right;\n",
       "    }\n",
       "</style>\n",
       "<table border=\"1\" class=\"dataframe\">\n",
       "  <thead>\n",
       "    <tr style=\"text-align: right;\">\n",
       "      <th></th>\n",
       "      <th>0</th>\n",
       "    </tr>\n",
       "  </thead>\n",
       "  <tbody>\n",
       "    <tr>\n",
       "      <th>55</th>\n",
       "      <td>55</td>\n",
       "    </tr>\n",
       "    <tr>\n",
       "      <th>56</th>\n",
       "      <td>56</td>\n",
       "    </tr>\n",
       "    <tr>\n",
       "      <th>57</th>\n",
       "      <td>57</td>\n",
       "    </tr>\n",
       "    <tr>\n",
       "      <th>58</th>\n",
       "      <td>58</td>\n",
       "    </tr>\n",
       "    <tr>\n",
       "      <th>59</th>\n",
       "      <td>59</td>\n",
       "    </tr>\n",
       "    <tr>\n",
       "      <th>0</th>\n",
       "      <td>0</td>\n",
       "    </tr>\n",
       "    <tr>\n",
       "      <th>1</th>\n",
       "      <td>1</td>\n",
       "    </tr>\n",
       "    <tr>\n",
       "      <th>2</th>\n",
       "      <td>2</td>\n",
       "    </tr>\n",
       "    <tr>\n",
       "      <th>3</th>\n",
       "      <td>3</td>\n",
       "    </tr>\n",
       "    <tr>\n",
       "      <th>4</th>\n",
       "      <td>4</td>\n",
       "    </tr>\n",
       "  </tbody>\n",
       "</table>\n",
       "</div>"
      ],
      "text/plain": [
       "     0\n",
       "55  55\n",
       "56  56\n",
       "57  57\n",
       "58  58\n",
       "59  59\n",
       "0    0\n",
       "1    1\n",
       "2    2\n",
       "3    3\n",
       "4    4"
      ]
     },
     "execution_count": 18,
     "metadata": {},
     "output_type": "execute_result"
    }
   ],
   "source": [
    "tmp=pd.DataFrame()\n",
    "for i in range(n):\n",
    "    tmp=tmp.append(pd.DataFrame(np.arange(m)))\n",
    "tmp[55:65]"
   ]
  },
  {
   "cell_type": "code",
   "execution_count": 19,
   "metadata": {},
   "outputs": [
    {
     "data": {
      "text/html": [
       "<div>\n",
       "<style scoped>\n",
       "    .dataframe tbody tr th:only-of-type {\n",
       "        vertical-align: middle;\n",
       "    }\n",
       "\n",
       "    .dataframe tbody tr th {\n",
       "        vertical-align: top;\n",
       "    }\n",
       "\n",
       "    .dataframe thead th {\n",
       "        text-align: right;\n",
       "    }\n",
       "</style>\n",
       "<table border=\"1\" class=\"dataframe\">\n",
       "  <thead>\n",
       "    <tr style=\"text-align: right;\">\n",
       "      <th></th>\n",
       "      <th>0</th>\n",
       "      <th>1</th>\n",
       "      <th>time</th>\n",
       "    </tr>\n",
       "  </thead>\n",
       "  <tbody>\n",
       "    <tr>\n",
       "      <th>0</th>\n",
       "      <td>35.570</td>\n",
       "      <td>40.961</td>\n",
       "      <td>0</td>\n",
       "    </tr>\n",
       "    <tr>\n",
       "      <th>1</th>\n",
       "      <td>35.492</td>\n",
       "      <td>40.949</td>\n",
       "      <td>1</td>\n",
       "    </tr>\n",
       "    <tr>\n",
       "      <th>2</th>\n",
       "      <td>35.469</td>\n",
       "      <td>40.965</td>\n",
       "      <td>2</td>\n",
       "    </tr>\n",
       "    <tr>\n",
       "      <th>3</th>\n",
       "      <td>35.422</td>\n",
       "      <td>40.922</td>\n",
       "      <td>3</td>\n",
       "    </tr>\n",
       "    <tr>\n",
       "      <th>4</th>\n",
       "      <td>35.414</td>\n",
       "      <td>40.879</td>\n",
       "      <td>4</td>\n",
       "    </tr>\n",
       "    <tr>\n",
       "      <th>...</th>\n",
       "      <td>...</td>\n",
       "      <td>...</td>\n",
       "      <td>...</td>\n",
       "    </tr>\n",
       "    <tr>\n",
       "      <th>132295</th>\n",
       "      <td>35.441</td>\n",
       "      <td>40.910</td>\n",
       "      <td>55</td>\n",
       "    </tr>\n",
       "    <tr>\n",
       "      <th>132296</th>\n",
       "      <td>35.437</td>\n",
       "      <td>40.895</td>\n",
       "      <td>56</td>\n",
       "    </tr>\n",
       "    <tr>\n",
       "      <th>132297</th>\n",
       "      <td>35.434</td>\n",
       "      <td>40.883</td>\n",
       "      <td>57</td>\n",
       "    </tr>\n",
       "    <tr>\n",
       "      <th>132298</th>\n",
       "      <td>35.434</td>\n",
       "      <td>40.879</td>\n",
       "      <td>58</td>\n",
       "    </tr>\n",
       "    <tr>\n",
       "      <th>132299</th>\n",
       "      <td>35.426</td>\n",
       "      <td>40.891</td>\n",
       "      <td>59</td>\n",
       "    </tr>\n",
       "  </tbody>\n",
       "</table>\n",
       "<p>132300 rows × 3 columns</p>\n",
       "</div>"
      ],
      "text/plain": [
       "             0       1  time\n",
       "0       35.570  40.961     0\n",
       "1       35.492  40.949     1\n",
       "2       35.469  40.965     2\n",
       "3       35.422  40.922     3\n",
       "4       35.414  40.879     4\n",
       "...        ...     ...   ...\n",
       "132295  35.441  40.910    55\n",
       "132296  35.437  40.895    56\n",
       "132297  35.434  40.883    57\n",
       "132298  35.434  40.879    58\n",
       "132299  35.426  40.891    59\n",
       "\n",
       "[132300 rows x 3 columns]"
      ]
     },
     "execution_count": 19,
     "metadata": {},
     "output_type": "execute_result"
    }
   ],
   "source": [
    "df2['time']=tmp.values\n",
    "df2"
   ]
  },
  {
   "cell_type": "code",
   "execution_count": 20,
   "metadata": {},
   "outputs": [
    {
     "data": {
      "text/html": [
       "<div>\n",
       "<style scoped>\n",
       "    .dataframe tbody tr th:only-of-type {\n",
       "        vertical-align: middle;\n",
       "    }\n",
       "\n",
       "    .dataframe tbody tr th {\n",
       "        vertical-align: top;\n",
       "    }\n",
       "\n",
       "    .dataframe thead th {\n",
       "        text-align: right;\n",
       "    }\n",
       "</style>\n",
       "<table border=\"1\" class=\"dataframe\">\n",
       "  <thead>\n",
       "    <tr style=\"text-align: right;\">\n",
       "      <th></th>\n",
       "      <th>0</th>\n",
       "      <th>1</th>\n",
       "      <th>time</th>\n",
       "      <th>id</th>\n",
       "    </tr>\n",
       "  </thead>\n",
       "  <tbody>\n",
       "    <tr>\n",
       "      <th>0</th>\n",
       "      <td>35.570</td>\n",
       "      <td>40.961</td>\n",
       "      <td>0</td>\n",
       "      <td>0</td>\n",
       "    </tr>\n",
       "    <tr>\n",
       "      <th>1</th>\n",
       "      <td>35.492</td>\n",
       "      <td>40.949</td>\n",
       "      <td>1</td>\n",
       "      <td>0</td>\n",
       "    </tr>\n",
       "    <tr>\n",
       "      <th>2</th>\n",
       "      <td>35.469</td>\n",
       "      <td>40.965</td>\n",
       "      <td>2</td>\n",
       "      <td>0</td>\n",
       "    </tr>\n",
       "    <tr>\n",
       "      <th>3</th>\n",
       "      <td>35.422</td>\n",
       "      <td>40.922</td>\n",
       "      <td>3</td>\n",
       "      <td>0</td>\n",
       "    </tr>\n",
       "    <tr>\n",
       "      <th>4</th>\n",
       "      <td>35.414</td>\n",
       "      <td>40.879</td>\n",
       "      <td>4</td>\n",
       "      <td>0</td>\n",
       "    </tr>\n",
       "    <tr>\n",
       "      <th>...</th>\n",
       "      <td>...</td>\n",
       "      <td>...</td>\n",
       "      <td>...</td>\n",
       "      <td>...</td>\n",
       "    </tr>\n",
       "    <tr>\n",
       "      <th>132295</th>\n",
       "      <td>35.441</td>\n",
       "      <td>40.910</td>\n",
       "      <td>55</td>\n",
       "      <td>2204</td>\n",
       "    </tr>\n",
       "    <tr>\n",
       "      <th>132296</th>\n",
       "      <td>35.437</td>\n",
       "      <td>40.895</td>\n",
       "      <td>56</td>\n",
       "      <td>2204</td>\n",
       "    </tr>\n",
       "    <tr>\n",
       "      <th>132297</th>\n",
       "      <td>35.434</td>\n",
       "      <td>40.883</td>\n",
       "      <td>57</td>\n",
       "      <td>2204</td>\n",
       "    </tr>\n",
       "    <tr>\n",
       "      <th>132298</th>\n",
       "      <td>35.434</td>\n",
       "      <td>40.879</td>\n",
       "      <td>58</td>\n",
       "      <td>2204</td>\n",
       "    </tr>\n",
       "    <tr>\n",
       "      <th>132299</th>\n",
       "      <td>35.426</td>\n",
       "      <td>40.891</td>\n",
       "      <td>59</td>\n",
       "      <td>2204</td>\n",
       "    </tr>\n",
       "  </tbody>\n",
       "</table>\n",
       "<p>132300 rows × 4 columns</p>\n",
       "</div>"
      ],
      "text/plain": [
       "             0       1  time    id\n",
       "0       35.570  40.961     0     0\n",
       "1       35.492  40.949     1     0\n",
       "2       35.469  40.965     2     0\n",
       "3       35.422  40.922     3     0\n",
       "4       35.414  40.879     4     0\n",
       "...        ...     ...   ...   ...\n",
       "132295  35.441  40.910    55  2204\n",
       "132296  35.437  40.895    56  2204\n",
       "132297  35.434  40.883    57  2204\n",
       "132298  35.434  40.879    58  2204\n",
       "132299  35.426  40.891    59  2204\n",
       "\n",
       "[132300 rows x 4 columns]"
      ]
     },
     "execution_count": 20,
     "metadata": {},
     "output_type": "execute_result"
    }
   ],
   "source": [
    "df2['id']=np.repeat(range(n),m)\n",
    "df2"
   ]
  },
  {
   "cell_type": "code",
   "execution_count": 21,
   "metadata": {},
   "outputs": [
    {
     "data": {
      "text/html": [
       "<div>\n",
       "<style scoped>\n",
       "    .dataframe tbody tr th:only-of-type {\n",
       "        vertical-align: middle;\n",
       "    }\n",
       "\n",
       "    .dataframe tbody tr th {\n",
       "        vertical-align: top;\n",
       "    }\n",
       "\n",
       "    .dataframe thead th {\n",
       "        text-align: right;\n",
       "    }\n",
       "</style>\n",
       "<table border=\"1\" class=\"dataframe\">\n",
       "  <thead>\n",
       "    <tr style=\"text-align: right;\">\n",
       "      <th></th>\n",
       "      <th>0</th>\n",
       "      <th>1</th>\n",
       "      <th>time</th>\n",
       "      <th>id</th>\n",
       "    </tr>\n",
       "  </thead>\n",
       "  <tbody>\n",
       "    <tr>\n",
       "      <th>0</th>\n",
       "      <td>35.570</td>\n",
       "      <td>40.961</td>\n",
       "      <td>0</td>\n",
       "      <td>0</td>\n",
       "    </tr>\n",
       "    <tr>\n",
       "      <th>1</th>\n",
       "      <td>35.492</td>\n",
       "      <td>40.949</td>\n",
       "      <td>1</td>\n",
       "      <td>0</td>\n",
       "    </tr>\n",
       "    <tr>\n",
       "      <th>2</th>\n",
       "      <td>35.469</td>\n",
       "      <td>40.965</td>\n",
       "      <td>2</td>\n",
       "      <td>0</td>\n",
       "    </tr>\n",
       "    <tr>\n",
       "      <th>3</th>\n",
       "      <td>35.422</td>\n",
       "      <td>40.922</td>\n",
       "      <td>3</td>\n",
       "      <td>0</td>\n",
       "    </tr>\n",
       "    <tr>\n",
       "      <th>4</th>\n",
       "      <td>35.414</td>\n",
       "      <td>40.879</td>\n",
       "      <td>4</td>\n",
       "      <td>0</td>\n",
       "    </tr>\n",
       "    <tr>\n",
       "      <th>...</th>\n",
       "      <td>...</td>\n",
       "      <td>...</td>\n",
       "      <td>...</td>\n",
       "      <td>...</td>\n",
       "    </tr>\n",
       "    <tr>\n",
       "      <th>61</th>\n",
       "      <td>41.277</td>\n",
       "      <td>36.094</td>\n",
       "      <td>1</td>\n",
       "      <td>1</td>\n",
       "    </tr>\n",
       "    <tr>\n",
       "      <th>62</th>\n",
       "      <td>41.262</td>\n",
       "      <td>35.992</td>\n",
       "      <td>2</td>\n",
       "      <td>1</td>\n",
       "    </tr>\n",
       "    <tr>\n",
       "      <th>63</th>\n",
       "      <td>41.223</td>\n",
       "      <td>36.008</td>\n",
       "      <td>3</td>\n",
       "      <td>1</td>\n",
       "    </tr>\n",
       "    <tr>\n",
       "      <th>64</th>\n",
       "      <td>41.211</td>\n",
       "      <td>35.992</td>\n",
       "      <td>4</td>\n",
       "      <td>1</td>\n",
       "    </tr>\n",
       "    <tr>\n",
       "      <th>65</th>\n",
       "      <td>41.176</td>\n",
       "      <td>35.902</td>\n",
       "      <td>5</td>\n",
       "      <td>1</td>\n",
       "    </tr>\n",
       "  </tbody>\n",
       "</table>\n",
       "<p>66 rows × 4 columns</p>\n",
       "</div>"
      ],
      "text/plain": [
       "         0       1  time  id\n",
       "0   35.570  40.961     0   0\n",
       "1   35.492  40.949     1   0\n",
       "2   35.469  40.965     2   0\n",
       "3   35.422  40.922     3   0\n",
       "4   35.414  40.879     4   0\n",
       "..     ...     ...   ...  ..\n",
       "61  41.277  36.094     1   1\n",
       "62  41.262  35.992     2   1\n",
       "63  41.223  36.008     3   1\n",
       "64  41.211  35.992     4   1\n",
       "65  41.176  35.902     5   1\n",
       "\n",
       "[66 rows x 4 columns]"
      ]
     },
     "execution_count": 21,
     "metadata": {},
     "output_type": "execute_result"
    }
   ],
   "source": [
    "df2.head(66)"
   ]
  },
  {
   "cell_type": "code",
   "execution_count": 22,
   "metadata": {},
   "outputs": [
    {
     "name": "stderr",
     "output_type": "stream",
     "text": [
      "Feature Extraction: 100%|██████████████████████| 20/20 [03:13<00:00,  9.69s/it]\n"
     ]
    }
   ],
   "source": [
    "from tsfresh import extract_features\n",
    "extracted_features = extract_features(df2, column_id=\"id\", column_sort=\"time\")"
   ]
  },
  {
   "cell_type": "code",
   "execution_count": 24,
   "metadata": {},
   "outputs": [
    {
     "data": {
      "text/plain": [
       "(2205, 1578)"
      ]
     },
     "execution_count": 24,
     "metadata": {},
     "output_type": "execute_result"
    }
   ],
   "source": [
    "extracted_features.shape"
   ]
  },
  {
   "cell_type": "code",
   "execution_count": 25,
   "metadata": {},
   "outputs": [
    {
     "data": {
      "text/html": [
       "<div>\n",
       "<style scoped>\n",
       "    .dataframe tbody tr th:only-of-type {\n",
       "        vertical-align: middle;\n",
       "    }\n",
       "\n",
       "    .dataframe tbody tr th {\n",
       "        vertical-align: top;\n",
       "    }\n",
       "\n",
       "    .dataframe thead th {\n",
       "        text-align: right;\n",
       "    }\n",
       "</style>\n",
       "<table border=\"1\" class=\"dataframe\">\n",
       "  <thead>\n",
       "    <tr style=\"text-align: right;\">\n",
       "      <th></th>\n",
       "      <th>1__has_duplicate_max</th>\n",
       "      <th>1__has_duplicate_min</th>\n",
       "      <th>1__has_duplicate</th>\n",
       "      <th>1__sum_values</th>\n",
       "      <th>1__abs_energy</th>\n",
       "      <th>1__mean_abs_change</th>\n",
       "      <th>1__mean_change</th>\n",
       "      <th>1__mean_second_derivative_central</th>\n",
       "      <th>1__median</th>\n",
       "    </tr>\n",
       "  </thead>\n",
       "  <tbody>\n",
       "    <tr>\n",
       "      <th>0</th>\n",
       "      <td>0.0</td>\n",
       "      <td>1.0</td>\n",
       "      <td>1.0</td>\n",
       "      <td>2458.726</td>\n",
       "      <td>100756.963784</td>\n",
       "      <td>0.023339</td>\n",
       "      <td>0.004898</td>\n",
       "      <td>0.001147</td>\n",
       "      <td>40.9630</td>\n",
       "    </tr>\n",
       "    <tr>\n",
       "      <th>1</th>\n",
       "      <td>0.0</td>\n",
       "      <td>0.0</td>\n",
       "      <td>1.0</td>\n",
       "      <td>2200.618</td>\n",
       "      <td>80732.235434</td>\n",
       "      <td>0.044356</td>\n",
       "      <td>0.022390</td>\n",
       "      <td>0.000440</td>\n",
       "      <td>36.7675</td>\n",
       "    </tr>\n",
       "    <tr>\n",
       "      <th>2</th>\n",
       "      <td>0.0</td>\n",
       "      <td>0.0</td>\n",
       "      <td>1.0</td>\n",
       "      <td>2546.547</td>\n",
       "      <td>108090.694711</td>\n",
       "      <td>0.031763</td>\n",
       "      <td>0.015356</td>\n",
       "      <td>0.000172</td>\n",
       "      <td>42.4235</td>\n",
       "    </tr>\n",
       "    <tr>\n",
       "      <th>3</th>\n",
       "      <td>0.0</td>\n",
       "      <td>0.0</td>\n",
       "      <td>1.0</td>\n",
       "      <td>2604.239</td>\n",
       "      <td>113043.714345</td>\n",
       "      <td>0.026153</td>\n",
       "      <td>0.016085</td>\n",
       "      <td>0.000198</td>\n",
       "      <td>43.3650</td>\n",
       "    </tr>\n",
       "    <tr>\n",
       "      <th>4</th>\n",
       "      <td>0.0</td>\n",
       "      <td>0.0</td>\n",
       "      <td>1.0</td>\n",
       "      <td>2659.965</td>\n",
       "      <td>117931.761797</td>\n",
       "      <td>0.030000</td>\n",
       "      <td>0.014237</td>\n",
       "      <td>-0.000103</td>\n",
       "      <td>44.3355</td>\n",
       "    </tr>\n",
       "    <tr>\n",
       "      <th>...</th>\n",
       "      <td>...</td>\n",
       "      <td>...</td>\n",
       "      <td>...</td>\n",
       "      <td>...</td>\n",
       "      <td>...</td>\n",
       "      <td>...</td>\n",
       "      <td>...</td>\n",
       "      <td>...</td>\n",
       "      <td>...</td>\n",
       "    </tr>\n",
       "    <tr>\n",
       "      <th>2200</th>\n",
       "      <td>0.0</td>\n",
       "      <td>0.0</td>\n",
       "      <td>1.0</td>\n",
       "      <td>2118.827</td>\n",
       "      <td>74824.985475</td>\n",
       "      <td>0.030305</td>\n",
       "      <td>0.000000</td>\n",
       "      <td>0.000569</td>\n",
       "      <td>35.4100</td>\n",
       "    </tr>\n",
       "    <tr>\n",
       "      <th>2201</th>\n",
       "      <td>0.0</td>\n",
       "      <td>0.0</td>\n",
       "      <td>1.0</td>\n",
       "      <td>2119.296</td>\n",
       "      <td>74858.045014</td>\n",
       "      <td>0.033186</td>\n",
       "      <td>-0.000610</td>\n",
       "      <td>0.000845</td>\n",
       "      <td>35.3765</td>\n",
       "    </tr>\n",
       "    <tr>\n",
       "      <th>2202</th>\n",
       "      <td>0.0</td>\n",
       "      <td>0.0</td>\n",
       "      <td>1.0</td>\n",
       "      <td>2119.151</td>\n",
       "      <td>74848.046529</td>\n",
       "      <td>0.040119</td>\n",
       "      <td>0.000051</td>\n",
       "      <td>0.000707</td>\n",
       "      <td>35.4060</td>\n",
       "    </tr>\n",
       "    <tr>\n",
       "      <th>2203</th>\n",
       "      <td>0.0</td>\n",
       "      <td>1.0</td>\n",
       "      <td>1.0</td>\n",
       "      <td>2119.486</td>\n",
       "      <td>74871.835654</td>\n",
       "      <td>0.046881</td>\n",
       "      <td>-0.000136</td>\n",
       "      <td>0.000905</td>\n",
       "      <td>35.4120</td>\n",
       "    </tr>\n",
       "    <tr>\n",
       "      <th>2204</th>\n",
       "      <td>0.0</td>\n",
       "      <td>0.0</td>\n",
       "      <td>1.0</td>\n",
       "      <td>2451.564</td>\n",
       "      <td>100169.688160</td>\n",
       "      <td>0.020051</td>\n",
       "      <td>0.000864</td>\n",
       "      <td>-0.000371</td>\n",
       "      <td>40.8400</td>\n",
       "    </tr>\n",
       "  </tbody>\n",
       "</table>\n",
       "<p>2205 rows × 9 columns</p>\n",
       "</div>"
      ],
      "text/plain": [
       "      1__has_duplicate_max  1__has_duplicate_min  1__has_duplicate  \\\n",
       "0                      0.0                   1.0               1.0   \n",
       "1                      0.0                   0.0               1.0   \n",
       "2                      0.0                   0.0               1.0   \n",
       "3                      0.0                   0.0               1.0   \n",
       "4                      0.0                   0.0               1.0   \n",
       "...                    ...                   ...               ...   \n",
       "2200                   0.0                   0.0               1.0   \n",
       "2201                   0.0                   0.0               1.0   \n",
       "2202                   0.0                   0.0               1.0   \n",
       "2203                   0.0                   1.0               1.0   \n",
       "2204                   0.0                   0.0               1.0   \n",
       "\n",
       "      1__sum_values  1__abs_energy  1__mean_abs_change  1__mean_change  \\\n",
       "0          2458.726  100756.963784            0.023339        0.004898   \n",
       "1          2200.618   80732.235434            0.044356        0.022390   \n",
       "2          2546.547  108090.694711            0.031763        0.015356   \n",
       "3          2604.239  113043.714345            0.026153        0.016085   \n",
       "4          2659.965  117931.761797            0.030000        0.014237   \n",
       "...             ...            ...                 ...             ...   \n",
       "2200       2118.827   74824.985475            0.030305        0.000000   \n",
       "2201       2119.296   74858.045014            0.033186       -0.000610   \n",
       "2202       2119.151   74848.046529            0.040119        0.000051   \n",
       "2203       2119.486   74871.835654            0.046881       -0.000136   \n",
       "2204       2451.564  100169.688160            0.020051        0.000864   \n",
       "\n",
       "      1__mean_second_derivative_central  1__median  \n",
       "0                              0.001147    40.9630  \n",
       "1                              0.000440    36.7675  \n",
       "2                              0.000172    42.4235  \n",
       "3                              0.000198    43.3650  \n",
       "4                             -0.000103    44.3355  \n",
       "...                                 ...        ...  \n",
       "2200                           0.000569    35.4100  \n",
       "2201                           0.000845    35.3765  \n",
       "2202                           0.000707    35.4060  \n",
       "2203                           0.000905    35.4120  \n",
       "2204                          -0.000371    40.8400  \n",
       "\n",
       "[2205 rows x 9 columns]"
      ]
     },
     "execution_count": 25,
     "metadata": {},
     "output_type": "execute_result"
    }
   ],
   "source": [
    "extracted_features.iloc[:,1:10]"
   ]
  },
  {
   "cell_type": "code",
   "execution_count": 26,
   "metadata": {},
   "outputs": [
    {
     "data": {
      "text/plain": [
       "Index(['1__variance_larger_than_standard_deviation', '1__has_duplicate_max',\n",
       "       '1__has_duplicate_min', '1__has_duplicate', '1__sum_values',\n",
       "       '1__abs_energy', '1__mean_abs_change', '1__mean_change',\n",
       "       '1__mean_second_derivative_central', '1__median',\n",
       "       ...\n",
       "       '0__permutation_entropy__dimension_6__tau_1',\n",
       "       '0__permutation_entropy__dimension_7__tau_1',\n",
       "       '0__query_similarity_count__query_None__threshold_0.0',\n",
       "       '0__matrix_profile__feature_\"min\"__threshold_0.98',\n",
       "       '0__matrix_profile__feature_\"max\"__threshold_0.98',\n",
       "       '0__matrix_profile__feature_\"mean\"__threshold_0.98',\n",
       "       '0__matrix_profile__feature_\"median\"__threshold_0.98',\n",
       "       '0__matrix_profile__feature_\"25\"__threshold_0.98',\n",
       "       '0__matrix_profile__feature_\"75\"__threshold_0.98',\n",
       "       '0__mean_n_absolute_max__number_of_maxima_7'],\n",
       "      dtype='object', length=1578)"
      ]
     },
     "execution_count": 26,
     "metadata": {},
     "output_type": "execute_result"
    }
   ],
   "source": [
    "extracted_features.columns"
   ]
  },
  {
   "cell_type": "code",
   "execution_count": 27,
   "metadata": {},
   "outputs": [
    {
     "data": {
      "text/plain": [
       "(2205, 1578)"
      ]
     },
     "execution_count": 27,
     "metadata": {},
     "output_type": "execute_result"
    }
   ],
   "source": [
    "extracted_features.shape"
   ]
  },
  {
   "cell_type": "code",
   "execution_count": 28,
   "metadata": {},
   "outputs": [
    {
     "data": {
      "text/plain": [
       "1256543"
      ]
     },
     "execution_count": 28,
     "metadata": {},
     "output_type": "execute_result"
    }
   ],
   "source": [
    "pd.isna(extracted_features).sum().sum()"
   ]
  },
  {
   "cell_type": "code",
   "execution_count": 29,
   "metadata": {},
   "outputs": [],
   "source": [
    "#drop NaN-values\n",
    "extracted_features=extracted_features.dropna(axis='columns')"
   ]
  },
  {
   "cell_type": "code",
   "execution_count": 30,
   "metadata": {},
   "outputs": [
    {
     "data": {
      "text/plain": [
       "0"
      ]
     },
     "execution_count": 30,
     "metadata": {},
     "output_type": "execute_result"
    }
   ],
   "source": [
    "pd.isna(extracted_features).sum().sum()"
   ]
  },
  {
   "cell_type": "code",
   "execution_count": 31,
   "metadata": {},
   "outputs": [
    {
     "data": {
      "text/plain": [
       "(2205, 998)"
      ]
     },
     "execution_count": 31,
     "metadata": {},
     "output_type": "execute_result"
    }
   ],
   "source": [
    "extracted_features.shape"
   ]
  },
  {
   "cell_type": "code",
   "execution_count": 32,
   "metadata": {},
   "outputs": [],
   "source": [
    "# find infinite values and set them to NaN\n",
    "extracted_features.replace([np.inf, -np.inf], np.nan, inplace=True)"
   ]
  },
  {
   "cell_type": "code",
   "execution_count": 33,
   "metadata": {},
   "outputs": [
    {
     "data": {
      "text/plain": [
       "0"
      ]
     },
     "execution_count": 33,
     "metadata": {},
     "output_type": "execute_result"
    }
   ],
   "source": [
    "pd.isna(extracted_features).sum().sum()"
   ]
  },
  {
   "cell_type": "code",
   "execution_count": 34,
   "metadata": {},
   "outputs": [],
   "source": [
    "# drop NaN values\n",
    "extracted_features=extracted_features.dropna(axis='columns')"
   ]
  },
  {
   "cell_type": "code",
   "execution_count": 35,
   "metadata": {},
   "outputs": [
    {
     "data": {
      "text/plain": [
       "0"
      ]
     },
     "execution_count": 35,
     "metadata": {},
     "output_type": "execute_result"
    }
   ],
   "source": [
    "pd.isna(extracted_features).sum().sum()"
   ]
  },
  {
   "cell_type": "code",
   "execution_count": 36,
   "metadata": {},
   "outputs": [
    {
     "data": {
      "text/plain": [
       "(2205, 998)"
      ]
     },
     "execution_count": 36,
     "metadata": {},
     "output_type": "execute_result"
    }
   ],
   "source": [
    "extracted_features.shape"
   ]
  },
  {
   "cell_type": "code",
   "execution_count": 37,
   "metadata": {},
   "outputs": [
    {
     "data": {
      "text/plain": [
       "Index(['1__variance_larger_than_standard_deviation', '1__has_duplicate_max',\n",
       "       '1__has_duplicate_min', '1__has_duplicate', '1__sum_values',\n",
       "       '1__abs_energy', '1__mean_abs_change', '1__mean_change',\n",
       "       '1__mean_second_derivative_central', '1__median',\n",
       "       ...\n",
       "       '0__fourier_entropy__bins_3', '0__fourier_entropy__bins_5',\n",
       "       '0__fourier_entropy__bins_10', '0__fourier_entropy__bins_100',\n",
       "       '0__permutation_entropy__dimension_3__tau_1',\n",
       "       '0__permutation_entropy__dimension_4__tau_1',\n",
       "       '0__permutation_entropy__dimension_5__tau_1',\n",
       "       '0__permutation_entropy__dimension_6__tau_1',\n",
       "       '0__permutation_entropy__dimension_7__tau_1',\n",
       "       '0__mean_n_absolute_max__number_of_maxima_7'],\n",
       "      dtype='object', length=998)"
      ]
     },
     "execution_count": 37,
     "metadata": {},
     "output_type": "execute_result"
    }
   ],
   "source": [
    "extracted_features.columns"
   ]
  },
  {
   "cell_type": "markdown",
   "metadata": {},
   "source": [
    "## Feature Selection "
   ]
  },
  {
   "cell_type": "code",
   "execution_count": 38,
   "metadata": {},
   "outputs": [],
   "source": [
    "from tsfresh import select_features\n",
    "from tsfresh.utilities.dataframe_functions import impute\n",
    "\n",
    "impute(extracted_features)\n",
    "features_filtered = select_features(extracted_features, label)"
   ]
  },
  {
   "cell_type": "code",
   "execution_count": 39,
   "metadata": {},
   "outputs": [
    {
     "data": {
      "text/plain": [
       "(2205, 186)"
      ]
     },
     "execution_count": 39,
     "metadata": {},
     "output_type": "execute_result"
    }
   ],
   "source": [
    "features_filtered.shape"
   ]
  },
  {
   "cell_type": "markdown",
   "metadata": {},
   "source": [
    "## Train-Test-Split "
   ]
  },
  {
   "cell_type": "code",
   "execution_count": 40,
   "metadata": {},
   "outputs": [],
   "source": [
    "### TRAIN TEST SPLIT ###\n",
    "\n",
    "X_train, X_test, y_train, y_test = train_test_split(extracted_features, y, random_state = 1, test_size=0.2)"
   ]
  },
  {
   "cell_type": "code",
   "execution_count": 46,
   "metadata": {},
   "outputs": [],
   "source": [
    "X_train_filt, X_test_filt, y_train, y_test = train_test_split(features_filtered, y, random_state = 1, test_size=0.2)"
   ]
  },
  {
   "cell_type": "code",
   "execution_count": 47,
   "metadata": {},
   "outputs": [
    {
     "data": {
      "text/plain": [
       "Int64Index([   0,    1,    2,    4,    5,    7,    9,   10,   11,   12,\n",
       "            ...\n",
       "            2194, 2195, 2197, 2198, 2199, 2200, 2201, 2202, 2203, 2204],\n",
       "           dtype='int64', length=1764)"
      ]
     },
     "execution_count": 47,
     "metadata": {},
     "output_type": "execute_result"
    }
   ],
   "source": [
    "X_train.sort_index().index"
   ]
  },
  {
   "cell_type": "code",
   "execution_count": 48,
   "metadata": {},
   "outputs": [
    {
     "data": {
      "text/plain": [
       "Int64Index([   0,    1,    2,    4,    5,    7,    9,   10,   11,   12,\n",
       "            ...\n",
       "            2194, 2195, 2197, 2198, 2199, 2200, 2201, 2202, 2203, 2204],\n",
       "           dtype='int64', length=1764)"
      ]
     },
     "execution_count": 48,
     "metadata": {},
     "output_type": "execute_result"
    }
   ],
   "source": [
    "X_train_filt.sort_index().index"
   ]
  },
  {
   "cell_type": "code",
   "execution_count": 49,
   "metadata": {},
   "outputs": [],
   "source": [
    "Train_ids=X_train.sort_index().index"
   ]
  },
  {
   "cell_type": "code",
   "execution_count": 50,
   "metadata": {},
   "outputs": [],
   "source": [
    "Test_ids=X_test.sort_index().index"
   ]
  },
  {
   "cell_type": "code",
   "execution_count": 51,
   "metadata": {},
   "outputs": [
    {
     "data": {
      "text/plain": [
       "(1764,)"
      ]
     },
     "execution_count": 51,
     "metadata": {},
     "output_type": "execute_result"
    }
   ],
   "source": [
    "y_train.shape"
   ]
  },
  {
   "cell_type": "code",
   "execution_count": 52,
   "metadata": {},
   "outputs": [
    {
     "data": {
      "text/plain": [
       "(1764, 998)"
      ]
     },
     "execution_count": 52,
     "metadata": {},
     "output_type": "execute_result"
    }
   ],
   "source": [
    "X_train.shape"
   ]
  },
  {
   "cell_type": "code",
   "execution_count": 53,
   "metadata": {},
   "outputs": [
    {
     "data": {
      "text/plain": [
       "(1764, 186)"
      ]
     },
     "execution_count": 53,
     "metadata": {},
     "output_type": "execute_result"
    }
   ],
   "source": [
    "X_train_filt.shape"
   ]
  },
  {
   "cell_type": "code",
   "execution_count": 54,
   "metadata": {},
   "outputs": [
    {
     "data": {
      "text/plain": [
       "(441,)"
      ]
     },
     "execution_count": 54,
     "metadata": {},
     "output_type": "execute_result"
    }
   ],
   "source": [
    "y_test.shape"
   ]
  },
  {
   "cell_type": "code",
   "execution_count": 55,
   "metadata": {},
   "outputs": [
    {
     "data": {
      "text/plain": [
       "(441, 998)"
      ]
     },
     "execution_count": 55,
     "metadata": {},
     "output_type": "execute_result"
    }
   ],
   "source": [
    "X_test.shape"
   ]
  },
  {
   "cell_type": "code",
   "execution_count": 56,
   "metadata": {},
   "outputs": [
    {
     "data": {
      "text/plain": [
       "(441, 186)"
      ]
     },
     "execution_count": 56,
     "metadata": {},
     "output_type": "execute_result"
    }
   ],
   "source": [
    "X_test_filt.shape"
   ]
  },
  {
   "cell_type": "markdown",
   "metadata": {},
   "source": [
    "Standardize features by removing the mean and scaling to unit variance.\n",
    "\n",
    "The standard score of a sample x is calculated as:\n",
    "\n",
    "    z = (x - u) / s\n",
    "\n",
    "where u is the mean of the training samples or zero if with_mean=False, and s is the standard deviation of the training samples or one if with_std=False.\n",
    "\n",
    "Centering and scaling happen independently on each feature by computing the relevant statistics on the samples in the training set. Mean and standard deviation are then stored to be used on later data using transform.\n",
    "\n",
    "Standardization of a dataset is a common requirement for many machine learning estimators: they might behave badly if the individual features do not more or less look like standard normally distributed data (e.g. Gaussian with 0 mean and unit variance)."
   ]
  },
  {
   "cell_type": "code",
   "execution_count": 58,
   "metadata": {},
   "outputs": [],
   "source": [
    "### SCALE DATA ###\n",
    "\n",
    "scaler = StandardScaler()\n",
    "\n",
    "X_train_std = scaler.fit_transform(X_train)\n",
    "X_test_std = scaler.transform(X_test)\n",
    "\n",
    "X_train_filt_std = scaler.fit_transform(X_train_filt)\n",
    "X_test_filt_std = scaler.transform(X_test_filt)"
   ]
  },
  {
   "cell_type": "markdown",
   "metadata": {},
   "source": [
    "# MODEL"
   ]
  },
  {
   "cell_type": "markdown",
   "metadata": {},
   "source": [
    "### Decision Tree"
   ]
  },
  {
   "cell_type": "code",
   "execution_count": 59,
   "metadata": {},
   "outputs": [],
   "source": [
    "# Train Decision Tree with original feature matrix\n",
    "from sklearn import tree\n",
    "clf_dt1 = tree.DecisionTreeClassifier(random_state=1)\n",
    "clf_dt1 = clf_dt1.fit(X_train,y_train)\n",
    "y_pred_clf_dt1 = clf_dt1.predict(X_test)"
   ]
  },
  {
   "cell_type": "code",
   "execution_count": 60,
   "metadata": {},
   "outputs": [],
   "source": [
    "# Train Decision Tree with standardized feature matrix\n",
    "clf_dt2 = tree.DecisionTreeClassifier(random_state=1)\n",
    "clf_dt2 = clf_dt2.fit(X_train_std,y_train)\n",
    "y_pred_clf_dt2 = clf_dt2.predict(X_test_std)"
   ]
  },
  {
   "cell_type": "code",
   "execution_count": 61,
   "metadata": {},
   "outputs": [],
   "source": [
    "# Train Decision Tree with standardized and filtered feature matrix\n",
    "clf_dt3 = tree.DecisionTreeClassifier(random_state=1)\n",
    "clf_dt3 = clf_dt3.fit(X_train_filt_std,y_train)\n",
    "y_pred_clf_dt3 = clf_dt3.predict(X_test_filt_std)"
   ]
  },
  {
   "cell_type": "code",
   "execution_count": 62,
   "metadata": {},
   "outputs": [
    {
     "name": "stdout",
     "output_type": "stream",
     "text": [
      "Decision Tree clf_dt1 without standardization of feature columns\n",
      "accuracy= 0.8594104308390023\n"
     ]
    },
    {
     "data": {
      "image/png": "[encoded data removed]",
      "text/plain": [
       "<Figure size 432x288 with 1 Axes>"
      ]
     },
     "metadata": {
      "needs_background": "light"
     },
     "output_type": "display_data"
    }
   ],
   "source": [
    "print('Decision Tree clf_dt1 without standardization of feature columns')\n",
    "#\n",
    "import seaborn as sns\n",
    "mat = confusion_matrix(y_test, y_pred_clf_dt1)\n",
    "sns.heatmap(mat.T, square=True, annot=True, fmt='d', cbar=False)\n",
    "plt.xlabel('true label')\n",
    "plt.ylabel('predicted label');\n",
    "#\n",
    "from sklearn.metrics import accuracy_score\n",
    "print('accuracy=',accuracy_score(y_test, y_pred_clf_dt1))"
   ]
  },
  {
   "cell_type": "code",
   "execution_count": 63,
   "metadata": {},
   "outputs": [
    {
     "name": "stdout",
     "output_type": "stream",
     "text": [
      "Decision Tree clf_dt2 with standardization of feature columns\n",
      "accuracy= 0.8843537414965986\n"
     ]
    },
    {
     "data": {
      "image/png": "[encoded data removed]",
      "text/plain": [
       "<Figure size 432x288 with 1 Axes>"
      ]
     },
     "metadata": {
      "needs_background": "light"
     },
     "output_type": "display_data"
    }
   ],
   "source": [
    "print('Decision Tree clf_dt2 with standardization of feature columns')\n",
    "#\n",
    "mat = confusion_matrix(y_test, y_pred_clf_dt2)\n",
    "sns.heatmap(mat.T, square=True, annot=True, fmt='d', cbar=False)\n",
    "plt.xlabel('true label')\n",
    "plt.ylabel('predicted label');\n",
    "#\n",
    "print('accuracy=',accuracy_score(y_test, y_pred_clf_dt2))"
   ]
  },
  {
   "cell_type": "code",
   "execution_count": 64,
   "metadata": {},
   "outputs": [
    {
     "name": "stdout",
     "output_type": "stream",
     "text": [
      "Decision Tree clf_dt3 with standardization of feature columns after feature selection\n",
      "accuracy= 0.7414965986394558\n"
     ]
    },
    {
     "data": {
      "image/png": "[encoded data removed]",
      "text/plain": [
       "<Figure size 432x288 with 1 Axes>"
      ]
     },
     "metadata": {
      "needs_background": "light"
     },
     "output_type": "display_data"
    }
   ],
   "source": [
    "print('Decision Tree clf_dt3 with standardization of feature columns after feature selection')\n",
    "#\n",
    "mat = confusion_matrix(y_test, y_pred_clf_dt3)\n",
    "sns.heatmap(mat.T, square=True, annot=True, fmt='d', cbar=False)\n",
    "plt.xlabel('true label')\n",
    "plt.ylabel('predicted label');\n",
    "#\n",
    "print('accuracy=',accuracy_score(y_test, y_pred_clf_dt3))"
   ]
  },
  {
   "cell_type": "code",
   "execution_count": 66,
   "metadata": {},
   "outputs": [
    {
     "data": {
      "image/png": "[encoded data removed]",
      "text/plain": [
       "<Figure size 432x288 with 1 Axes>"
      ]
     },
     "metadata": {
      "needs_background": "light"
     },
     "output_type": "display_data"
    }
   ],
   "source": [
    "tree.plot_tree(clf_dt1)\n",
    "plt.show()"
   ]
  },
  {
   "cell_type": "markdown",
   "metadata": {},
   "source": [
    "## Naive Bayes "
   ]
  },
  {
   "cell_type": "code",
   "execution_count": 67,
   "metadata": {},
   "outputs": [],
   "source": [
    "# Train Naive Bayes Classifier with original feature matrix\n",
    "from sklearn.naive_bayes import GaussianNB\n",
    "clf_gnb1 = GaussianNB()\n",
    "clf_gnb1 = clf_gnb1.fit(X_train,y_train)\n",
    "y_pred_clf_gnb1 = clf_gnb1.predict(X_test)"
   ]
  },
  {
   "cell_type": "code",
   "execution_count": 68,
   "metadata": {},
   "outputs": [],
   "source": [
    "# Train Naive Bayes Classifier with standardized feature matrix\n",
    "clf_gnb2 = GaussianNB()\n",
    "clf_gnb2 = clf_gnb2.fit(X_train_std,y_train)\n",
    "y_pred_clf_gnb2 = clf_gnb2.predict(X_test_std)"
   ]
  },
  {
   "cell_type": "code",
   "execution_count": 69,
   "metadata": {},
   "outputs": [],
   "source": [
    "# Train Naive Bayes Classifier with standardized and filtered feature matrix\n",
    "from sklearn.naive_bayes import GaussianNB\n",
    "clf_gnb3 = GaussianNB()\n",
    "clf_gnb3 = clf_gnb3.fit(X_train_filt_std,y_train)\n",
    "y_pred_clf_gnb3 = clf_gnb3.predict(X_test_filt_std)"
   ]
  },
  {
   "cell_type": "code",
   "execution_count": 70,
   "metadata": {},
   "outputs": [
    {
     "name": "stdout",
     "output_type": "stream",
     "text": [
      "Naive Bayes Classifier clf_gnb1 without standardization of feature columns\n",
      "accuracy= 0.5578231292517006\n"
     ]
    },
    {
     "data": {
      "image/png": "[encoded data removed]",
      "text/plain": [
       "<Figure size 432x288 with 1 Axes>"
      ]
     },
     "metadata": {
      "needs_background": "light"
     },
     "output_type": "display_data"
    }
   ],
   "source": [
    "print('Naive Bayes Classifier clf_gnb1 without standardization of feature columns')\n",
    "#\n",
    "import seaborn as sns\n",
    "mat = confusion_matrix(y_test, y_pred_clf_gnb1)\n",
    "sns.heatmap(mat.T, square=True, annot=True, fmt='d', cbar=False)\n",
    "plt.xlabel('true label')\n",
    "plt.ylabel('predicted label');\n",
    "#\n",
    "from sklearn.metrics import accuracy_score\n",
    "print('accuracy=',accuracy_score(y_test, y_pred_clf_gnb1))"
   ]
  },
  {
   "cell_type": "code",
   "execution_count": 71,
   "metadata": {},
   "outputs": [
    {
     "name": "stdout",
     "output_type": "stream",
     "text": [
      "Naive Bayes Classifier clf_gnb2 with standardization of feature columns\n",
      "accuracy= 0.564625850340136\n"
     ]
    },
    {
     "data": {
      "image/png": "[encoded data removed]",
      "text/plain": [
       "<Figure size 432x288 with 1 Axes>"
      ]
     },
     "metadata": {
      "needs_background": "light"
     },
     "output_type": "display_data"
    }
   ],
   "source": [
    "print('Naive Bayes Classifier clf_gnb2 with standardization of feature columns')\n",
    "#\n",
    "import seaborn as sns\n",
    "mat = confusion_matrix(y_test, y_pred_clf_gnb2)\n",
    "sns.heatmap(mat.T, square=True, annot=True, fmt='d', cbar=False)\n",
    "plt.xlabel('true label')\n",
    "plt.ylabel('predicted label');\n",
    "#\n",
    "from sklearn.metrics import accuracy_score\n",
    "print('accuracy=',accuracy_score(y_test, y_pred_clf_gnb2))"
   ]
  },
  {
   "cell_type": "code",
   "execution_count": 72,
   "metadata": {},
   "outputs": [
    {
     "name": "stdout",
     "output_type": "stream",
     "text": [
      "Naive Bayes Classifier clf_gnb3 with standardization of feature columns after feature selection\n",
      "accuracy= 0.5691609977324263\n"
     ]
    },
    {
     "data": {
      "image/png": "[encoded data removed]",
      "text/plain": [
       "<Figure size 432x288 with 1 Axes>"
      ]
     },
     "metadata": {
      "needs_background": "light"
     },
     "output_type": "display_data"
    }
   ],
   "source": [
    "print('Naive Bayes Classifier clf_gnb3 with standardization of feature columns after feature selection')\n",
    "#\n",
    "import seaborn as sns\n",
    "mat = confusion_matrix(y_test, y_pred_clf_gnb3)\n",
    "sns.heatmap(mat.T, square=True, annot=True, fmt='d', cbar=False)\n",
    "plt.xlabel('true label')\n",
    "plt.ylabel('predicted label');\n",
    "#\n",
    "from sklearn.metrics import accuracy_score\n",
    "print('accuracy=',accuracy_score(y_test, y_pred_clf_gnb3))"
   ]
  },
  {
   "cell_type": "markdown",
   "metadata": {},
   "source": [
    "## Support Vector Machine "
   ]
  },
  {
   "cell_type": "code",
   "execution_count": 73,
   "metadata": {},
   "outputs": [],
   "source": [
    "# Train Support Vector Machine with original feature matrix\n",
    "from sklearn import svm\n",
    "clf_svm1 = svm.SVC()\n",
    "clf_svm1 = clf_svm1.fit(X_train,y_train)\n",
    "y_pred_clf_svm1 = clf_svm1.predict(X_test)"
   ]
  },
  {
   "cell_type": "code",
   "execution_count": 74,
   "metadata": {},
   "outputs": [],
   "source": [
    "# Train Support Vector Machine with standardized feature matrix\n",
    "from sklearn import svm\n",
    "clf_svm2 = svm.SVC()\n",
    "clf_svm2 = clf_svm2.fit(X_train_std,y_train)\n",
    "y_pred_clf_svm2 = clf_svm2.predict(X_test_std)"
   ]
  },
  {
   "cell_type": "code",
   "execution_count": 75,
   "metadata": {},
   "outputs": [],
   "source": [
    "# Train Support Vector Machine with standardized and filtered feature matrix\n",
    "from sklearn import svm\n",
    "clf_svm3 = svm.SVC()\n",
    "clf_svm3 = clf_svm3.fit(X_train_filt_std,y_train)\n",
    "y_pred_clf_svm3 = clf_svm3.predict(X_test_filt_std)"
   ]
  },
  {
   "cell_type": "code",
   "execution_count": 76,
   "metadata": {},
   "outputs": [
    {
     "name": "stdout",
     "output_type": "stream",
     "text": [
      "Support Vector Machine clf_svm1 without standardization of feature columns\n",
      "accuracy= 0.6870748299319728\n"
     ]
    },
    {
     "data": {
      "image/png": "[encoded data removed]",
      "text/plain": [
       "<Figure size 432x288 with 1 Axes>"
      ]
     },
     "metadata": {
      "needs_background": "light"
     },
     "output_type": "display_data"
    }
   ],
   "source": [
    "print('Support Vector Machine clf_svm1 without standardization of feature columns')\n",
    "#\n",
    "import seaborn as sns\n",
    "mat = confusion_matrix(y_test, y_pred_clf_svm1)\n",
    "sns.heatmap(mat.T, square=True, annot=True, fmt='d', cbar=False)\n",
    "plt.xlabel('true label')\n",
    "plt.ylabel('predicted label');\n",
    "#\n",
    "from sklearn.metrics import accuracy_score\n",
    "print('accuracy=',accuracy_score(y_test, y_pred_clf_svm1))"
   ]
  },
  {
   "cell_type": "code",
   "execution_count": 77,
   "metadata": {},
   "outputs": [
    {
     "name": "stdout",
     "output_type": "stream",
     "text": [
      "Support Vector Machine clf_svm2 with standardization of feature columns\n",
      "accuracy= 0.81859410430839\n"
     ]
    },
    {
     "data": {
      "image/png": "[encoded data removed]",
      "text/plain": [
       "<Figure size 432x288 with 1 Axes>"
      ]
     },
     "metadata": {
      "needs_background": "light"
     },
     "output_type": "display_data"
    }
   ],
   "source": [
    "print('Support Vector Machine clf_svm2 with standardization of feature columns')\n",
    "#\n",
    "import seaborn as sns\n",
    "mat = confusion_matrix(y_test, y_pred_clf_svm2)\n",
    "sns.heatmap(mat.T, square=True, annot=True, fmt='d', cbar=False)\n",
    "plt.xlabel('true label')\n",
    "plt.ylabel('predicted label');\n",
    "#\n",
    "from sklearn.metrics import accuracy_score\n",
    "print('accuracy=',accuracy_score(y_test, y_pred_clf_svm2))"
   ]
  },
  {
   "cell_type": "code",
   "execution_count": 78,
   "metadata": {},
   "outputs": [
    {
     "name": "stdout",
     "output_type": "stream",
     "text": [
      "Support Vector Machine clf_svm3 with standardization of feature columns after feature selection\n",
      "accuracy= 0.7981859410430839\n"
     ]
    },
    {
     "data": {
      "image/png": "[encoded data removed]",
      "text/plain": [
       "<Figure size 432x288 with 1 Axes>"
      ]
     },
     "metadata": {
      "needs_background": "light"
     },
     "output_type": "display_data"
    }
   ],
   "source": [
    "print('Support Vector Machine clf_svm3 with standardization of feature columns after feature selection')\n",
    "#\n",
    "import seaborn as sns\n",
    "mat = confusion_matrix(y_test, y_pred_clf_svm3)\n",
    "sns.heatmap(mat.T, square=True, annot=True, fmt='d', cbar=False)\n",
    "plt.xlabel('true label')\n",
    "plt.ylabel('predicted label');\n",
    "#\n",
    "from sklearn.metrics import accuracy_score\n",
    "print('accuracy=',accuracy_score(y_test, y_pred_clf_svm3))"
   ]
  },
  {
   "cell_type": "markdown",
   "metadata": {},
   "source": [
    "## k-Nearest Neighbors Classifier "
   ]
  },
  {
   "cell_type": "code",
   "execution_count": 79,
   "metadata": {},
   "outputs": [],
   "source": [
    "# Train knn Classifier with original feature matrix\n",
    "from sklearn.neighbors import KNeighborsClassifier\n",
    "clf_knn1 = KNeighborsClassifier(n_neighbors=5)\n",
    "clf_knn1 = clf_knn1.fit(X_train,y_train)\n",
    "y_pred_clf_knn1 = clf_knn1.predict(X_test)"
   ]
  },
  {
   "cell_type": "code",
   "execution_count": 80,
   "metadata": {},
   "outputs": [],
   "source": [
    "# Train knn Classifier with standardized feature matrix\n",
    "from sklearn.neighbors import KNeighborsClassifier\n",
    "clf_knn2 = KNeighborsClassifier(n_neighbors=5)\n",
    "clf_knn2 = clf_knn2.fit(X_train_std,y_train)\n",
    "y_pred_clf_knn2 = clf_knn2.predict(X_test_std)"
   ]
  },
  {
   "cell_type": "code",
   "execution_count": 81,
   "metadata": {},
   "outputs": [],
   "source": [
    "# Train knn Classifier with standardized and filtered feature matrix\n",
    "from sklearn.neighbors import KNeighborsClassifier\n",
    "clf_knn3 = KNeighborsClassifier(n_neighbors=5)\n",
    "clf_knn3 = clf_knn3.fit(X_train_filt_std,y_train)\n",
    "y_pred_clf_knn3 = clf_knn3.predict(X_test_filt_std)"
   ]
  },
  {
   "cell_type": "code",
   "execution_count": 82,
   "metadata": {},
   "outputs": [
    {
     "name": "stdout",
     "output_type": "stream",
     "text": [
      "k-Nearest Neighbor Classifier clf_knn1 without standardization of feature columns\n",
      "accuracy= 0.9410430839002267\n"
     ]
    },
    {
     "data": {
      "image/png": "[encoded data removed]",
      "text/plain": [
       "<Figure size 432x288 with 1 Axes>"
      ]
     },
     "metadata": {
      "needs_background": "light"
     },
     "output_type": "display_data"
    }
   ],
   "source": [
    "print('k-Nearest Neighbor Classifier clf_knn1 without standardization of feature columns')\n",
    "#\n",
    "import seaborn as sns\n",
    "mat = confusion_matrix(y_test, y_pred_clf_knn1)\n",
    "sns.heatmap(mat.T, square=True, annot=True, fmt='d', cbar=False)\n",
    "plt.xlabel('true label')\n",
    "plt.ylabel('predicted label');\n",
    "#\n",
    "from sklearn.metrics import accuracy_score\n",
    "print('accuracy=',accuracy_score(y_test, y_pred_clf_knn1))"
   ]
  },
  {
   "cell_type": "code",
   "execution_count": 83,
   "metadata": {},
   "outputs": [
    {
     "name": "stdout",
     "output_type": "stream",
     "text": [
      "k-Nearest Neighbor Classifier clf_knn2 with standardization of feature columns\n",
      "accuracy= 0.8072562358276644\n"
     ]
    },
    {
     "data": {
      "image/png": "[encoded data removed]",
      "text/plain": [
       "<Figure size 432x288 with 1 Axes>"
      ]
     },
     "metadata": {
      "needs_background": "light"
     },
     "output_type": "display_data"
    }
   ],
   "source": [
    "print('k-Nearest Neighbor Classifier clf_knn2 with standardization of feature columns')\n",
    "#\n",
    "import seaborn as sns\n",
    "mat = confusion_matrix(y_test, y_pred_clf_knn2)\n",
    "sns.heatmap(mat.T, square=True, annot=True, fmt='d', cbar=False)\n",
    "plt.xlabel('true label')\n",
    "plt.ylabel('predicted label');\n",
    "#\n",
    "from sklearn.metrics import accuracy_score\n",
    "print('accuracy=',accuracy_score(y_test, y_pred_clf_knn2))"
   ]
  },
  {
   "cell_type": "code",
   "execution_count": 84,
   "metadata": {},
   "outputs": [
    {
     "name": "stdout",
     "output_type": "stream",
     "text": [
      "k-Nearest Neighbor Classifier clf_knn3 with standardization of feature columns after feature selection\n",
      "accuracy= 0.8208616780045351\n"
     ]
    },
    {
     "data": {
      "image/png": "[encoded data removed]",
      "text/plain": [
       "<Figure size 432x288 with 1 Axes>"
      ]
     },
     "metadata": {
      "needs_background": "light"
     },
     "output_type": "display_data"
    }
   ],
   "source": [
    "print('k-Nearest Neighbor Classifier clf_knn3 with standardization of feature columns after feature selection')\n",
    "#\n",
    "import seaborn as sns\n",
    "mat = confusion_matrix(y_test, y_pred_clf_knn3)\n",
    "sns.heatmap(mat.T, square=True, annot=True, fmt='d', cbar=False)\n",
    "plt.xlabel('true label')\n",
    "plt.ylabel('predicted label');\n",
    "#\n",
    "from sklearn.metrics import accuracy_score\n",
    "print('accuracy=',accuracy_score(y_test, y_pred_clf_knn3))"
   ]
  },
  {
   "cell_type": "markdown",
   "metadata": {},
   "source": [
    "### Random Forest "
   ]
  },
  {
   "cell_type": "code",
   "execution_count": 85,
   "metadata": {},
   "outputs": [],
   "source": [
    "# Train Random Forest with original feature matrix\n",
    "from sklearn.ensemble import RandomForestClassifier\n",
    "clf_rf1 = RandomForestClassifier(n_estimators=50,random_state=1)\n",
    "clf_rf1 = clf_rf1.fit(X_train,y_train)\n",
    "y_pred_rf1 = clf_rf1.predict(X_test)"
   ]
  },
  {
   "cell_type": "code",
   "execution_count": 86,
   "metadata": {},
   "outputs": [],
   "source": [
    "# Train Random Forest with standardized feature matrix\n",
    "clf_rf2 = RandomForestClassifier(n_estimators=50,random_state=1)\n",
    "clf_rf2 = clf_rf2.fit(X_train_std,y_train)\n",
    "y_pred_rf2 = clf_rf2.predict(X_test_std)"
   ]
  },
  {
   "cell_type": "code",
   "execution_count": 87,
   "metadata": {},
   "outputs": [],
   "source": [
    "# Train Random Forest with standardized and filtered feature matrix\n",
    "clf_rf3 = RandomForestClassifier(n_estimators=50,random_state=1)\n",
    "clf_rf3 = clf_rf3.fit(X_train_filt_std,y_train)\n",
    "y_pred_rf3 = clf_rf3.predict(X_test_filt_std)"
   ]
  },
  {
   "cell_type": "code",
   "execution_count": 88,
   "metadata": {},
   "outputs": [
    {
     "name": "stdout",
     "output_type": "stream",
     "text": [
      "Random Forest clf_rf1 without standardization of feature columns\n",
      "accuracy= 0.9455782312925171\n"
     ]
    },
    {
     "data": {
      "image/png": "[encoded data removed]",
      "text/plain": [
       "<Figure size 432x288 with 1 Axes>"
      ]
     },
     "metadata": {
      "needs_background": "light"
     },
     "output_type": "display_data"
    }
   ],
   "source": [
    "print('Random Forest clf_rf1 without standardization of feature columns')\n",
    "#\n",
    "mat = confusion_matrix(y_test, y_pred_rf1)\n",
    "sns.heatmap(mat.T, square=True, annot=True, fmt='d', cbar=False)\n",
    "plt.xlabel('true label')\n",
    "plt.ylabel('predicted label');\n",
    "#\n",
    "print('accuracy=',accuracy_score(y_test, y_pred_rf1))"
   ]
  },
  {
   "cell_type": "code",
   "execution_count": 89,
   "metadata": {},
   "outputs": [
    {
     "name": "stdout",
     "output_type": "stream",
     "text": [
      "Random Forest clf_rf2 with standardization of feature columns\n",
      "accuracy= 0.9365079365079365\n"
     ]
    },
    {
     "data": {
      "image/png": "[encoded data removed]",
      "text/plain": [
       "<Figure size 432x288 with 1 Axes>"
      ]
     },
     "metadata": {
      "needs_background": "light"
     },
     "output_type": "display_data"
    }
   ],
   "source": [
    "print('Random Forest clf_rf2 with standardization of feature columns')\n",
    "#\n",
    "mat = confusion_matrix(y_test, y_pred_rf2)\n",
    "sns.heatmap(mat.T, square=True, annot=True, fmt='d', cbar=False)\n",
    "plt.xlabel('true label')\n",
    "plt.ylabel('predicted label');\n",
    "#\n",
    "print('accuracy=',accuracy_score(y_test, y_pred_rf2))"
   ]
  },
  {
   "cell_type": "code",
   "execution_count": 90,
   "metadata": {},
   "outputs": [
    {
     "name": "stdout",
     "output_type": "stream",
     "text": [
      "Random Forest clf_rf3 with standardization of feature columns after feature selection\n",
      "accuracy= 0.8321995464852607\n"
     ]
    },
    {
     "data": {
      "image/png": "[encoded data removed]",
      "text/plain": [
       "<Figure size 432x288 with 1 Axes>"
      ]
     },
     "metadata": {
      "needs_background": "light"
     },
     "output_type": "display_data"
    }
   ],
   "source": [
    "print('Random Forest clf_rf3 with standardization of feature columns after feature selection')\n",
    "#\n",
    "mat = confusion_matrix(y_test, y_pred_rf3)\n",
    "sns.heatmap(mat.T, square=True, annot=True, fmt='d', cbar=False)\n",
    "plt.xlabel('true label')\n",
    "plt.ylabel('predicted label');\n",
    "#\n",
    "print('accuracy=',accuracy_score(y_test, y_pred_rf3))"
   ]
  },
  {
   "cell_type": "markdown",
   "metadata": {},
   "source": [
    "## Neural Network (Multilayer Perceptron)"
   ]
  },
  {
   "cell_type": "code",
   "execution_count": 91,
   "metadata": {},
   "outputs": [],
   "source": [
    "# Train Neural Network with original feature matrix\n",
    "from sklearn.neural_network import MLPClassifier\n",
    "clf_mlp1 = MLPClassifier(random_state=1)\n",
    "clf_mlp1 = clf_mlp1.fit(X_train,y_train)\n",
    "y_pred_mlp1 = clf_mlp1.predict(X_test)"
   ]
  },
  {
   "cell_type": "code",
   "execution_count": 92,
   "metadata": {},
   "outputs": [],
   "source": [
    "# Train Neural Network with standardized feature matrix\n",
    "clf_mlp2 = MLPClassifier(random_state=1)\n",
    "clf_mlp2 = clf_mlp2.fit(X_train_std,y_train)\n",
    "y_pred_mlp2 = clf_mlp2.predict(X_test_std)"
   ]
  },
  {
   "cell_type": "code",
   "execution_count": 93,
   "metadata": {},
   "outputs": [
    {
     "name": "stderr",
     "output_type": "stream",
     "text": [
      "C:\\Users\\Mirko\\anaconda3\\lib\\site-packages\\sklearn\\neural_network\\_multilayer_perceptron.py:614: ConvergenceWarning: Stochastic Optimizer: Maximum iterations (200) reached and the optimization hasn't converged yet.\n",
      "  warnings.warn(\n"
     ]
    }
   ],
   "source": [
    "# Train Neural Network with standardized and filtered feature matrix\n",
    "clf_mlp3 = MLPClassifier(random_state=1)\n",
    "clf_mlp3 = clf_mlp3.fit(X_train_filt_std,y_train)\n",
    "y_pred_mlp3 = clf_mlp3.predict(X_test_filt_std)"
   ]
  },
  {
   "cell_type": "code",
   "execution_count": 94,
   "metadata": {
    "scrolled": true
   },
   "outputs": [
    {
     "name": "stdout",
     "output_type": "stream",
     "text": [
      "Multilayer Perceptron clf_mlp1 without standardization of feature columns\n",
      "accuracy= 0.6870748299319728\n"
     ]
    },
    {
     "data": {
      "image/png": "[encoded data removed]",
      "text/plain": [
       "<Figure size 432x288 with 1 Axes>"
      ]
     },
     "metadata": {
      "needs_background": "light"
     },
     "output_type": "display_data"
    }
   ],
   "source": [
    "print('Multilayer Perceptron clf_mlp1 without standardization of feature columns')\n",
    "#\n",
    "mat = confusion_matrix(y_test, y_pred_mlp1)\n",
    "sns.heatmap(mat.T, square=True, annot=True, fmt='d', cbar=False)\n",
    "plt.xlabel('true label')\n",
    "plt.ylabel('predicted label');\n",
    "#\n",
    "print('accuracy=',accuracy_score(y_test, y_pred_mlp1))"
   ]
  },
  {
   "cell_type": "code",
   "execution_count": 95,
   "metadata": {},
   "outputs": [
    {
     "name": "stdout",
     "output_type": "stream",
     "text": [
      "Multilayer Perceptron clf_mlp2 with standardization of feature columns\n",
      "accuracy= 0.8163265306122449\n"
     ]
    },
    {
     "data": {
      "image/png": "[encoded data removed]",
      "text/plain": [
       "<Figure size 432x288 with 1 Axes>"
      ]
     },
     "metadata": {
      "needs_background": "light"
     },
     "output_type": "display_data"
    }
   ],
   "source": [
    "print('Multilayer Perceptron clf_mlp2 with standardization of feature columns')\n",
    "#\n",
    "mat = confusion_matrix(y_test, y_pred_mlp2)\n",
    "sns.heatmap(mat.T, square=True, annot=True, fmt='d', cbar=False)\n",
    "plt.xlabel('true label')\n",
    "plt.ylabel('predicted label');\n",
    "#\n",
    "print('accuracy=',accuracy_score(y_test, y_pred_mlp2))"
   ]
  },
  {
   "cell_type": "code",
   "execution_count": 96,
   "metadata": {},
   "outputs": [
    {
     "name": "stdout",
     "output_type": "stream",
     "text": [
      "Multilayer Perceptron clf_mlp3 with standardization of feature columns after feature selection\n",
      "accuracy= 0.8117913832199547\n"
     ]
    },
    {
     "data": {
      "image/png": "[encoded data removed]",
      "text/plain": [
       "<Figure size 432x288 with 1 Axes>"
      ]
     },
     "metadata": {
      "needs_background": "light"
     },
     "output_type": "display_data"
    }
   ],
   "source": [
    "print('Multilayer Perceptron clf_mlp3 with standardization of feature columns after feature selection')\n",
    "#\n",
    "mat = confusion_matrix(y_test, y_pred_mlp3)\n",
    "sns.heatmap(mat.T, square=True, annot=True, fmt='d', cbar=False)\n",
    "plt.xlabel('true label')\n",
    "plt.ylabel('predicted label');\n",
    "#\n",
    "print('accuracy=',accuracy_score(y_test, y_pred_mlp3))"
   ]
  },
  {
   "cell_type": "markdown",
   "metadata": {},
   "source": [
    "## Ensemble of Neural Networks "
   ]
  },
  {
   "cell_type": "code",
   "execution_count": 97,
   "metadata": {},
   "outputs": [
    {
     "name": "stderr",
     "output_type": "stream",
     "text": [
      "C:\\Users\\Mirko\\anaconda3\\lib\\site-packages\\sklearn\\neural_network\\_multilayer_perceptron.py:614: ConvergenceWarning: Stochastic Optimizer: Maximum iterations (200) reached and the optimization hasn't converged yet.\n",
      "  warnings.warn(\n",
      "C:\\Users\\Mirko\\anaconda3\\lib\\site-packages\\sklearn\\neural_network\\_multilayer_perceptron.py:614: ConvergenceWarning: Stochastic Optimizer: Maximum iterations (200) reached and the optimization hasn't converged yet.\n",
      "  warnings.warn(\n",
      "C:\\Users\\Mirko\\anaconda3\\lib\\site-packages\\sklearn\\neural_network\\_multilayer_perceptron.py:614: ConvergenceWarning: Stochastic Optimizer: Maximum iterations (200) reached and the optimization hasn't converged yet.\n",
      "  warnings.warn(\n",
      "C:\\Users\\Mirko\\anaconda3\\lib\\site-packages\\sklearn\\neural_network\\_multilayer_perceptron.py:614: ConvergenceWarning: Stochastic Optimizer: Maximum iterations (200) reached and the optimization hasn't converged yet.\n",
      "  warnings.warn(\n",
      "C:\\Users\\Mirko\\anaconda3\\lib\\site-packages\\sklearn\\neural_network\\_multilayer_perceptron.py:614: ConvergenceWarning: Stochastic Optimizer: Maximum iterations (200) reached and the optimization hasn't converged yet.\n",
      "  warnings.warn(\n",
      "C:\\Users\\Mirko\\anaconda3\\lib\\site-packages\\sklearn\\neural_network\\_multilayer_perceptron.py:614: ConvergenceWarning: Stochastic Optimizer: Maximum iterations (200) reached and the optimization hasn't converged yet.\n",
      "  warnings.warn(\n"
     ]
    }
   ],
   "source": [
    "from sklearn.ensemble import BaggingClassifier\n",
    "clf_bag = BaggingClassifier(base_estimator=MLPClassifier(),\n",
    "                            n_estimators=10, random_state=1\n",
    "                           ).fit(X_train_filt_std, y_train)\n",
    "y_pred_bag = clf_bag.predict(X_test_filt_std)"
   ]
  },
  {
   "cell_type": "code",
   "execution_count": 98,
   "metadata": {},
   "outputs": [
    {
     "name": "stdout",
     "output_type": "stream",
     "text": [
      "Bagged Ensemble of MLPs clf_bag with standardization of feature columns\n",
      "accuracy= 0.8253968253968254\n"
     ]
    },
    {
     "data": {
      "image/png": "[encoded data removed]",
      "text/plain": [
       "<Figure size 432x288 with 1 Axes>"
      ]
     },
     "metadata": {
      "needs_background": "light"
     },
     "output_type": "display_data"
    }
   ],
   "source": [
    "print('Bagged Ensemble of MLPs clf_bag with standardization of feature columns')\n",
    "#\n",
    "mat = confusion_matrix(y_test, y_pred_bag)\n",
    "sns.heatmap(mat.T, square=True, annot=True, fmt='d', cbar=False)\n",
    "plt.xlabel('true label')\n",
    "plt.ylabel('predicted label');\n",
    "#\n",
    "print('accuracy=',accuracy_score(y_test, y_pred_bag))"
   ]
  },
  {
   "cell_type": "markdown",
   "metadata": {},
   "source": [
    "## Ensembles (Voting Classifier) "
   ]
  },
  {
   "cell_type": "code",
   "execution_count": 99,
   "metadata": {},
   "outputs": [
    {
     "name": "stderr",
     "output_type": "stream",
     "text": [
      "C:\\Users\\Mirko\\anaconda3\\lib\\site-packages\\sklearn\\neural_network\\_multilayer_perceptron.py:614: ConvergenceWarning: Stochastic Optimizer: Maximum iterations (200) reached and the optimization hasn't converged yet.\n",
      "  warnings.warn(\n"
     ]
    }
   ],
   "source": [
    "# Ensemble Voting Classifier with majority voting\n",
    "from sklearn.ensemble import VotingClassifier\n",
    "eclf1 = VotingClassifier(\n",
    "    estimators=[('dt', clf_dt3), ('svm', clf_svm3), ('mlp', clf_mlp3),\n",
    "               ('knn', clf_knn3)],\n",
    "    voting='hard')\n",
    "eclf1 = eclf1.fit(X_train_filt_std,y_train)"
   ]
  },
  {
   "cell_type": "code",
   "execution_count": 100,
   "metadata": {},
   "outputs": [],
   "source": [
    "y_pred_eclf1 = eclf1.predict(X_test_filt_std)"
   ]
  },
  {
   "cell_type": "code",
   "execution_count": 101,
   "metadata": {},
   "outputs": [
    {
     "name": "stdout",
     "output_type": "stream",
     "text": [
      "Voting Classifier eclf1 with majority voting\n",
      "accuracy= 0.8412698412698413\n"
     ]
    },
    {
     "data": {
      "image/png": "[encoded data removed]",
      "text/plain": [
       "<Figure size 432x288 with 1 Axes>"
      ]
     },
     "metadata": {
      "needs_background": "light"
     },
     "output_type": "display_data"
    }
   ],
   "source": [
    "print('Voting Classifier eclf1 with majority voting')\n",
    "#\n",
    "mat = confusion_matrix(y_test, y_pred_eclf1)\n",
    "sns.heatmap(mat.T, square=True, annot=True, fmt='d', cbar=False)\n",
    "plt.xlabel('true label')\n",
    "plt.ylabel('predicted label');\n",
    "#\n",
    "print('accuracy=',accuracy_score(y_test, y_pred_eclf1))"
   ]
  },
  {
   "cell_type": "code",
   "execution_count": 102,
   "metadata": {},
   "outputs": [
    {
     "name": "stdout",
     "output_type": "stream",
     "text": [
      "              precision    recall  f1-score   support\n",
      "\n",
      "           0       0.75      0.74      0.74       138\n",
      "           1       0.88      0.89      0.88       303\n",
      "\n",
      "    accuracy                           0.84       441\n",
      "   macro avg       0.82      0.81      0.81       441\n",
      "weighted avg       0.84      0.84      0.84       441\n",
      "\n"
     ]
    }
   ],
   "source": [
    "from sklearn.metrics import classification_report\n",
    "print(classification_report(y_test, y_pred_eclf1))"
   ]
  },
  {
   "cell_type": "code",
   "execution_count": null,
   "metadata": {},
   "outputs": [],
   "source": []
  }
 ],
 "metadata": {
  "kernelspec": {
   "display_name": "Python 3 (ipykernel)",
   "language": "python",
   "name": "python3"
  },
  "language_info": {
   "codemirror_mode": {
    "name": "ipython",
    "version": 3
   },
   "file_extension": ".py",
   "mimetype": "text/x-python",
   "name": "python",
   "nbconvert_exporter": "python",
   "pygments_lexer": "ipython3",
   "version": "3.9.7"
  }
 },
 "nbformat": 4,
 "nbformat_minor": 2
}

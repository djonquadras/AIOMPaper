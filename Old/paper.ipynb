{
 "cells": [
  {
   "cell_type": "markdown",
   "metadata": {},
   "source": [
    "# Paper AIOM"
   ]
  },
  {
   "cell_type": "code",
   "execution_count": 2,
   "metadata": {},
   "outputs": [],
   "source": [
    "# Classes\n",
    "\n",
    "import pandas as pd\n",
    "import numpy as np\n",
    "import matplotlib.pyplot as plt\n",
    "import openpyxl\n",
    "import utils\n",
    "from datetime import date\n",
    "from datetime import timedelta\n",
    "from datetime import datetime"
   ]
  },
  {
   "cell_type": "code",
   "execution_count": 7,
   "metadata": {},
   "outputs": [
    {
     "name": "stdout",
     "output_type": "stream",
     "text": [
      "Quantidade de produtos diferentes = 1528\n",
      "     material       Date  Demand\n",
      "0  10160719.0 2019-01-09    30.0\n",
      "1  10023620.0 2019-01-09    30.0\n",
      "2  11039900.0 2019-01-09    62.0\n",
      "3  11051281.0 2019-01-09    10.0\n",
      "4  11039871.0 2019-01-09   214.0\n"
     ]
    }
   ],
   "source": [
    "data1 = pd.read_excel(\"Demanda2019.xlsx\", engine='openpyxl')\n",
    "data2 = pd.read_excel(\"Demanda2020.xlsx\", engine='openpyxl')\n",
    "data3 = pd.read_excel(\"Demanda2021.xlsx\", engine='openpyxl')\n",
    "data = pd.concat([data1, data2, data3])\n",
    "data = data.rename(columns={'Nº do material': \"material\", \"Data\": \"Date\", \"Demanda\": \"Demand\"})\n",
    "print(f\"Quantidade de produtos diferentes = {data.material.unique().size}\")\n",
    "print(data.head())"
   ]
  },
  {
   "cell_type": "code",
   "execution_count": 8,
   "metadata": {},
   "outputs": [],
   "source": [
    "# Create a list os products\n",
    "products = list()\n",
    "\n",
    "pareto = {\"a\": 100, \"b\":80}\n",
    "\n",
    "for material in data.material.unique():\n",
    "    product = utils.Product(dataframe=data[data.material == material], material=material)\n",
    "    product.processDataframe(pareto)\n",
    "\n",
    "    products.append(product)\n",
    "\n",
    "# Sorting the dataset\n",
    "products.sort(key = lambda x: x.size, reverse = True)\n"
   ]
  },
  {
   "cell_type": "code",
   "execution_count": 9,
   "metadata": {},
   "outputs": [
    {
     "name": "stdout",
     "output_type": "stream",
     "text": [
      "[7288, 4985, 3894, 3615, 3519, 3007, 2931, 2883, 2620, 2568, 2439, 2308, 2204, 2165, 2127, 1824, 1652, 1611, 1415, 1407, 1243, 1141, 996, 991, 983, 963, 918, 899, 882, 788, 774, 707, 704, 689, 616, 584, 579, 548, 547, 547, 541, 539, 532, 515, 510, 505, 502, 487, 481, 479, 477, 467, 450, 445, 431, 429, 428, 425, 417, 416, 397, 392, 388, 382, 377, 376, 375, 375, 372, 366, 366, 364, 363, 359, 354, 351, 350, 337, 337, 335, 318, 318, 317, 314, 311, 311, 310, 305, 304, 301, 299, 297, 296, 296, 295, 293, 290, 290, 284, 284, 283, 280, 280, 271, 267, 266, 263, 263, 260, 260, 256, 252, 251, 247, 247, 245, 244, 244, 242, 241, 239, 238, 237, 236, 235, 235, 234, 234, 234, 234, 233, 233, 231, 230, 229, 226, 222, 219, 219, 218, 214, 213, 211, 210, 209, 209, 207, 207, 207, 206, 205, 205, 202, 202, 202, 201, 200, 200, 200, 199, 198, 197, 197, 195, 194, 193, 192, 192, 191, 190, 190, 190, 189, 189, 188, 187, 186, 185, 185, 184, 184, 182, 181, 181, 181, 179, 178, 177, 177, 176, 176, 176, 175, 175, 175, 173, 171, 171, 170, 169, 168, 166, 164, 163, 163, 163, 162, 161, 160, 158, 157, 157, 153, 152, 150, 148, 147, 147, 146, 146, 145, 145, 144, 143, 142, 141, 141, 141, 140, 139, 138, 137, 137, 136, 135, 134, 134, 133, 133, 132, 131, 131, 130, 130, 130, 128, 128, 128, 127, 127, 126, 126, 126, 125, 124, 122, 122, 122, 121, 121, 121, 120, 118, 118, 117, 116, 115, 115, 114, 113, 112, 112, 111, 110, 110, 108, 107, 107, 107, 107, 106, 106, 106, 106, 105, 104, 103, 103, 103, 103, 102, 101, 101, 101, 100, 100, 100, 99, 99, 98, 97, 97, 96, 95, 95, 95, 94, 94, 94, 93, 92, 92, 92, 92, 91, 91, 91, 91, 90, 90, 89, 89, 89, 88, 87, 87, 86, 85, 84, 84, 84, 84, 83, 82, 82, 82, 80, 80, 79, 79, 79, 79, 78, 78, 77, 77, 77, 77, 77, 77, 77, 76, 76, 76, 76, 76, 75, 75, 74, 73, 73, 73, 73, 73, 73, 73, 72, 71, 71, 70, 69, 68, 68, 68, 68, 68, 67, 66, 66, 65, 64, 64, 64, 63, 63, 63, 62, 62, 62, 62, 62, 61, 61, 61, 60, 59, 59, 59, 58, 58, 58, 57, 57, 56, 56, 56, 56, 55, 55, 55, 54, 53, 53, 53, 52, 52, 52, 52, 51, 51, 51, 51, 51, 51, 51, 51, 50, 50, 50, 50, 49, 49, 49, 49, 49, 48, 48, 48, 47, 47, 47, 46, 46, 45, 45, 45, 44, 44, 44, 44, 43, 43, 43, 42, 42, 42, 41, 41, 41, 41, 41, 40, 40, 40, 39, 39, 39, 39, 38, 38, 38, 38, 38, 38, 38, 37, 37, 37, 37, 37, 37, 36, 36, 36, 35, 35, 35, 35, 35, 35, 35, 35, 34, 34, 34, 34, 34, 34, 34, 34, 33, 33, 33, 33, 32, 31, 31, 31, 31, 31, 30, 30, 30, 30, 30, 29, 29, 29, 29, 28, 28, 28, 28, 28, 28, 27, 27, 27, 27, 27, 27, 27, 27, 27, 26, 26, 26, 26, 26, 26, 26, 26, 25, 25, 25, 25, 25, 25, 25, 25, 25, 25, 25, 25, 25, 24, 24, 24, 24, 24, 24, 24, 23, 23, 23, 23, 23, 23, 23, 22, 22, 22, 22, 22, 22, 22, 22, 22, 22, 21, 21, 21, 21, 21, 21, 21, 21, 21, 21, 20, 20, 20, 20, 20, 20, 20, 20, 20, 20, 20, 20, 20, 19, 19, 19, 19, 19, 19, 19, 19, 19, 19, 18, 18, 18, 18, 18, 18, 18, 18, 18, 18, 18, 17, 17, 17, 17, 17, 17, 17, 17, 17, 17, 17, 17, 17, 16, 16, 16, 16, 16, 15, 15, 15, 15, 15, 15, 15, 15, 15, 15, 15, 15, 14, 14, 14, 14, 14, 14, 14, 14, 14, 14, 14, 14, 14, 14, 14, 14, 13, 13, 13, 13, 13, 12, 12, 12, 12, 12, 12, 12, 12, 12, 12, 12, 12, 12, 12, 12, 12, 12, 12, 12, 12, 12, 12, 12, 11, 11, 11, 11, 11, 11, 11, 11, 11, 11, 11, 10, 10, 10, 10, 10, 10, 10, 10, 10, 10, 10, 10, 10, 10, 10, 10, 9, 9, 9, 9, 9, 9, 9, 9, 9, 9, 9, 9, 9, 9, 9, 9, 9, 9, 9, 8, 8, 8, 8, 8, 8, 8, 8, 8, 8, 8, 8, 8, 8, 8, 8, 8, 8, 8, 8, 8, 8, 8, 8, 7, 7, 7, 7, 7, 7, 7, 7, 7, 7, 7, 7, 7, 7, 7, 7, 7, 7, 7, 7, 7, 7, 7, 7, 7, 7, 7, 6, 6, 6, 6, 6, 6, 6, 6, 6, 6, 6, 6, 6, 6, 6, 6, 6, 6, 6, 6, 6, 6, 6, 6, 6, 6, 6, 6, 6, 6, 6, 6, 6, 6, 6, 6, 6, 6, 6, 6, 6, 6, 6, 6, 6, 6, 5, 5, 5, 5, 5, 5, 5, 5, 5, 5, 5, 5, 5, 5, 5, 5, 5, 5, 5, 5, 5, 5, 5, 5, 5, 5, 5, 5, 5, 5, 5, 5, 5, 5, 5, 5, 5, 5, 5, 5, 5, 5, 5, 5, 5, 5, 5, 5, 4, 4, 4, 4, 4, 4, 4, 4, 4, 4, 4, 4, 4, 4, 4, 4, 4, 4, 4, 4, 4, 4, 4, 4, 4, 4, 4, 4, 4, 4, 4, 4, 4, 4, 4, 4, 4, 4, 4, 4, 4, 4, 4, 4, 4, 4, 4, 4, 4, 4, 4, 4, 4, 4, 4, 4, 4, 4, 4, 4, 4, 4, 4, 4, 4, 4, 4, 3, 3, 3, 3, 3, 3, 3, 3, 3, 3, 3, 3, 3, 3, 3, 3, 3, 3, 3, 3, 3, 3, 3, 3, 3, 3, 3, 3, 3, 3, 3, 3, 3, 3, 3, 3, 3, 3, 3, 3, 3, 3, 3, 3, 3, 3, 3, 3, 3, 3, 3, 3, 3, 3, 3, 3, 3, 3, 3, 3, 3, 3, 3, 3, 3, 3, 3, 3, 3, 3, 3, 3, 3, 3, 3, 3, 3, 3, 3, 3, 3, 3, 3, 3, 2, 2, 2, 2, 2, 2, 2, 2, 2, 2, 2, 2, 2, 2, 2, 2, 2, 2, 2, 2, 2, 2, 2, 2, 2, 2, 2, 2, 2, 2, 2, 2, 2, 2, 2, 2, 2, 2, 2, 2, 2, 2, 2, 2, 2, 2, 2, 2, 2, 2, 2, 2, 2, 2, 2, 2, 2, 2, 2, 2, 2, 2, 2, 2, 2, 2, 2, 2, 2, 2, 2, 2, 2, 2, 2, 2, 2, 2, 2, 2, 2, 2, 2, 2, 2, 2, 2, 2, 2, 2, 2, 2, 2, 2, 2, 2, 2, 2, 2, 2, 2, 2, 2, 2, 2, 2, 2, 2, 2, 2, 2, 2, 2, 2, 2, 2, 2, 2, 2, 2, 2, 2, 2, 2, 2, 2, 2, 2, 2, 2, 2, 2, 2, 2, 2, 2, 2, 2, 2, 2, 2, 2, 2, 2, 2, 2, 2, 2, 2, 2, 2, 2, 2, 2, 2, 2, 2, 2, 2, 2, 2, 2, 2, 1, 1, 1, 1, 1, 1, 1, 1, 1, 1, 1, 1, 1, 1, 1, 1, 1, 1, 1, 1, 1, 1, 1, 1, 1, 1, 1, 1, 1, 1, 1, 1, 1, 1, 1, 1, 1, 1, 1, 1, 1, 1, 1, 1, 1, 1, 1, 1, 1, 1, 1, 1, 1, 1, 1, 1, 1, 1, 1, 1, 1, 1, 1, 1, 1, 1, 1, 1, 1, 1, 1, 1, 1, 1, 1, 1, 1, 1, 1, 1, 1, 1, 1, 1, 1, 1, 1, 1, 1, 1, 1, 1, 1, 1, 1, 1, 1, 1, 1, 1, 1, 1, 1, 1, 1, 1, 1, 1, 1, 1, 1, 1, 1, 1, 1, 1, 1, 1, 1, 1, 1, 1, 1, 1, 1, 1, 1, 1, 1, 1, 1, 1, 1, 1, 1, 1, 1, 1, 1, 1, 1, 1, 1, 1, 1, 1, 1, 1, 1, 1, 1, 1, 1, 1, 1, 1, 1, 1, 1, 1, 1, 1, 1, 1, 1, 1, 1, 1, 1, 1, 1, 1, 1, 1, 1, 1, 1, 1, 1, 1, 1, 1, 1, 1, 1, 1, 1, 1, 1, 1, 1, 1, 1, 1, 1, 1, 1, 1, 1, 1, 1, 1, 1, 1, 1, 1, 1, 1, 1, 1, 1, 1, 1, 1, 1, 1, 1, 1, 1, 1, 1, 1, 1, 1, 1, 1, 1, 1, 1, 1, 1, 1, 1, 1, 1, 1, 1, 1, 1, 1, 1, 1, 1, 1, 1, 1, 1, 1, 1, 1, 1, 1, 1, 1, 1, 1, 1, 1, 1, 1, 1, 1, 1, 1, 1, 1, 1, 1, 1, 1, 1, 1, 1, 1, 1, 1, 1, 1, 1, 1, 1, 1, 1, 1, 1, 1, 1, 1, 1, 1, 1, 1, 1, 1, 1, 1, 1, 1, 1, 1, 1, 1, 1, 1, 1, 1, 1, 1, 1, 1, 1, 1, 1, 1, 1, 1, 1, 1, 1, 1, 1, 1, 1, 1, 1, 0]\n"
     ]
    }
   ],
   "source": [
    "tamanhos = list()\n",
    "total = len(data)\n",
    "for product in products:\n",
    "    tamanhos.append(product.size)\n",
    "    \n",
    "print(tamanhos)"
   ]
  },
  {
   "cell_type": "code",
   "execution_count": 10,
   "metadata": {},
   "outputs": [
    {
     "data": {
      "text/plain": [
       "1528"
      ]
     },
     "execution_count": 10,
     "metadata": {},
     "output_type": "execute_result"
    }
   ],
   "source": [
    "len(tamanhos)"
   ]
  },
  {
   "cell_type": "code",
   "execution_count": 11,
   "metadata": {},
   "outputs": [],
   "source": [
    "tamanho = len(data)\n",
    "produtosA = 0\n",
    "paretoA = 0\n",
    "produtosB = 0\n",
    "paretoB = 0\n",
    "produtosC = 0\n",
    "paretoC = 0\n",
    "\n",
    "\n",
    "for product in products:\n",
    "    #print((product.size) + paretoA)\n",
    "    #print(0.2*tamanho)\n",
    "    if (product.size) + paretoA <= 0.6*tamanho:\n",
    "        \n",
    "        produtosA += 1\n",
    "        paretoA += (product.size)\n",
    "    elif (product.size) + paretoB <= 0.25*tamanho:\n",
    "        produtosB += 1\n",
    "        paretoB += (product.size)\n",
    "    else:\n",
    "        produtosC += 1\n",
    "        paretoC += (product.size)\n",
    "\n"
   ]
  },
  {
   "cell_type": "code",
   "execution_count": 13,
   "metadata": {},
   "outputs": [
    {
     "data": {
      "text/plain": [
       "80"
      ]
     },
     "execution_count": 13,
     "metadata": {},
     "output_type": "execute_result"
    }
   ],
   "source": [
    "produtosA"
   ]
  },
  {
   "cell_type": "code",
   "execution_count": 14,
   "metadata": {},
   "outputs": [
    {
     "name": "stdout",
     "output_type": "stream",
     "text": [
      "147949\n",
      "Pareto = 129917\n",
      "87.8120163029152\n"
     ]
    }
   ],
   "source": [
    "print(tamanho)\n",
    "pareto = 0\n",
    "\n",
    "\n",
    "for i in range(0,round(len(products)*0.2)):\n",
    "    \n",
    "    pareto += products[i].size\n",
    "\n",
    "print(f\"Pareto = {pareto}\")\n",
    "\n",
    "\n",
    "print(pareto*100/tamanho)"
   ]
  },
  {
   "cell_type": "code",
   "execution_count": 15,
   "metadata": {},
   "outputs": [
    {
     "name": "stdout",
     "output_type": "stream",
     "text": [
      "<---------- Produtos A ---------->\n",
      "Produtos = 80\n",
      "Pareto = 59.99972963656395\n",
      "\n",
      "<---------- Produtos B ---------->\n",
      "Produtos = 188\n",
      "Pareto = 24.99983102285247\n",
      "\n",
      "<---------- Produtos C ---------->\n",
      "Produtos = 1260\n",
      "Pareto = 14.999763431993458\n",
      "\n"
     ]
    }
   ],
   "source": [
    "print(\"<---------- Produtos A ---------->\")\n",
    "print(f\"Produtos = {produtosA}\")\n",
    "print(f\"Pareto = {(paretoA*100/tamanho)}\")\n",
    "print(\"\")\n",
    "print(\"<---------- Produtos B ---------->\")\n",
    "print(f\"Produtos = {produtosB}\")\n",
    "print(f\"Pareto = {(paretoB*100/tamanho)}\")\n",
    "print(\"\")\n",
    "print(\"<---------- Produtos C ---------->\")\n",
    "print(f\"Produtos = {produtosC}\")\n",
    "print(f\"Pareto = {paretoC*100/tamanho}\")\n",
    "print(\"\")"
   ]
  },
  {
   "cell_type": "code",
   "execution_count": 5,
   "metadata": {},
   "outputs": [
    {
     "data": {
      "text/plain": [
       "31"
      ]
     },
     "execution_count": 5,
     "metadata": {},
     "output_type": "execute_result"
    }
   ],
   "source": [
    "df1 = products[0].dataset\n",
    "demand = 0\n",
    "for row in df1.Demand:\n",
    "    if row == 0:\n",
    "        demand += 1\n",
    "\n",
    "demand"
   ]
  }
 ],
 "metadata": {
  "interpreter": {
   "hash": "299a4ebd501d73f02436330372354c2b2698d2b56eaf76676afa2b5587f88ae4"
  },
  "kernelspec": {
   "display_name": "Python 3.9.0 ('.env': venv)",
   "language": "python",
   "name": "python3"
  },
  "language_info": {
   "codemirror_mode": {
    "name": "ipython",
    "version": 3
   },
   "file_extension": ".py",
   "mimetype": "text/x-python",
   "name": "python",
   "nbconvert_exporter": "python",
   "pygments_lexer": "ipython3",
   "version": "3.9.0"
  },
  "orig_nbformat": 4
 },
 "nbformat": 4,
 "nbformat_minor": 2
}

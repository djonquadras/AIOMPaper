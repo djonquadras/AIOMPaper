{
 "cells": [
  {
   "cell_type": "markdown",
   "metadata": {},
   "source": [
    "# Testes"
   ]
  },
  {
   "cell_type": "code",
   "execution_count": 2,
   "metadata": {},
   "outputs": [],
   "source": [
    "# Classes\n",
    "\n",
    "import pandas as pd\n",
    "import numpy as np\n",
    "import matplotlib.pyplot as plt\n",
    "import openpyxl\n",
    "import utils\n",
    "from datetime import date\n",
    "from datetime import timedelta\n",
    "from datetime import datetime"
   ]
  },
  {
   "cell_type": "code",
   "execution_count": 8,
   "metadata": {},
   "outputs": [
    {
     "name": "stdout",
     "output_type": "stream",
     "text": [
      "        Date  ID  Price\n",
      "0 2000-01-02   1    140\n",
      "1 2000-01-02   2    120\n",
      "2 2000-01-09   3    230\n",
      "3 2000-01-10   4     40\n",
      "4 2000-01-10   5    100\n",
      "5 2000-01-11   6    450\n"
     ]
    }
   ],
   "source": [
    "# creating a dataframe df\n",
    "df = pd.DataFrame(\n",
    "    {\n",
    "        \"Date\": [\n",
    "            pd.Timestamp(\"2000-01-02\"),\n",
    "            pd.Timestamp(\"2000-01-02\"),\n",
    "            pd.Timestamp(\"2000-01-09\"),\n",
    "            pd.Timestamp(\"2000-01-10\"),\n",
    "            pd.Timestamp(\"2000-01-10\"),\n",
    "            pd.Timestamp(\"2000-01-11\")\n",
    "        ],\n",
    "        \"ID\": [1, 2, 3, 4, 5, 6],\n",
    "        \"Price\": [140, 120, 230, 40, 100, 450]\n",
    "    }\n",
    ")\n",
    "  \n",
    "# show df\n",
    "print(df)"
   ]
  },
  {
   "cell_type": "code",
   "execution_count": 9,
   "metadata": {},
   "outputs": [
    {
     "data": {
      "text/html": [
       "<div>\n",
       "<style scoped>\n",
       "    .dataframe tbody tr th:only-of-type {\n",
       "        vertical-align: middle;\n",
       "    }\n",
       "\n",
       "    .dataframe tbody tr th {\n",
       "        vertical-align: top;\n",
       "    }\n",
       "\n",
       "    .dataframe thead th {\n",
       "        text-align: right;\n",
       "    }\n",
       "</style>\n",
       "<table border=\"1\" class=\"dataframe\">\n",
       "  <thead>\n",
       "    <tr style=\"text-align: right;\">\n",
       "      <th></th>\n",
       "      <th>ID</th>\n",
       "      <th>Price</th>\n",
       "    </tr>\n",
       "    <tr>\n",
       "      <th>Date</th>\n",
       "      <th></th>\n",
       "      <th></th>\n",
       "    </tr>\n",
       "  </thead>\n",
       "  <tbody>\n",
       "    <tr>\n",
       "      <th>2000-01-02</th>\n",
       "      <td>3</td>\n",
       "      <td>260</td>\n",
       "    </tr>\n",
       "    <tr>\n",
       "      <th>2000-01-04</th>\n",
       "      <td>0</td>\n",
       "      <td>0</td>\n",
       "    </tr>\n",
       "    <tr>\n",
       "      <th>2000-01-06</th>\n",
       "      <td>0</td>\n",
       "      <td>0</td>\n",
       "    </tr>\n",
       "    <tr>\n",
       "      <th>2000-01-08</th>\n",
       "      <td>3</td>\n",
       "      <td>230</td>\n",
       "    </tr>\n",
       "    <tr>\n",
       "      <th>2000-01-10</th>\n",
       "      <td>15</td>\n",
       "      <td>590</td>\n",
       "    </tr>\n",
       "  </tbody>\n",
       "</table>\n",
       "</div>"
      ],
      "text/plain": [
       "            ID  Price\n",
       "Date                 \n",
       "2000-01-02   3    260\n",
       "2000-01-04   0      0\n",
       "2000-01-06   0      0\n",
       "2000-01-08   3    230\n",
       "2000-01-10  15    590"
      ]
     },
     "execution_count": 9,
     "metadata": {},
     "output_type": "execute_result"
    }
   ],
   "source": [
    "# applying the groupby function on df\n",
    "df.groupby(pd.Grouper(key='Date', axis=0, \n",
    "                      freq='2D')).sum()"
   ]
  },
  {
   "cell_type": "code",
   "execution_count": 3,
   "metadata": {},
   "outputs": [
    {
     "name": "stdout",
     "output_type": "stream",
     "text": [
      "Quantidade de produtos diferentes = 1528\n",
      "     material       Date  Demand\n",
      "0  10160719.0 2019-01-09    30.0\n",
      "1  10023620.0 2019-01-09    30.0\n",
      "2  11039900.0 2019-01-09    62.0\n",
      "3  11051281.0 2019-01-09    10.0\n",
      "4  11039871.0 2019-01-09   214.0\n"
     ]
    }
   ],
   "source": [
    "data1 = pd.read_excel(\"Demanda2019.xlsx\", engine='openpyxl')\n",
    "data2 = pd.read_excel(\"Demanda2020.xlsx\", engine='openpyxl')\n",
    "data3 = pd.read_excel(\"Demanda2021.xlsx\", engine='openpyxl')\n",
    "data = pd.concat([data1, data2, data3])\n",
    "data = data.rename(columns={'Nº do material': \"material\", \"Data\": \"Date\", \"Demanda\": \"Demand\"})\n",
    "print(f\"Quantidade de produtos diferentes = {data.material.unique().size}\")\n",
    "print(data.head())"
   ]
  },
  {
   "cell_type": "code",
   "execution_count": 4,
   "metadata": {},
   "outputs": [],
   "source": [
    "# Create a list os products\n",
    "products = list()\n",
    "\n",
    "pareto = {\"a\": 100, \"b\":80}\n",
    "\n",
    "for material in data.material.unique():\n",
    "    product = utils.Product(dataframe=data[data.material == material], material=material)\n",
    "    product.processDataframe(pareto)\n",
    "\n",
    "    products.append(product)\n",
    "\n",
    "# Sorting the dataset\n",
    "products.sort(key = lambda x: x.size, reverse = True)\n"
   ]
  },
  {
   "cell_type": "code",
   "execution_count": 5,
   "metadata": {},
   "outputs": [
    {
     "name": "stdout",
     "output_type": "stream",
     "text": [
      "<-------- Report: Product 11252000.0 -------->\n",
      "Nº of observations = 7288\n",
      "Pareto = A\n",
      "Selected Model = 0\n",
      "Error: 0\n"
     ]
    }
   ],
   "source": [
    "products[0].report()"
   ]
  },
  {
   "cell_type": "code",
   "execution_count": 20,
   "metadata": {},
   "outputs": [],
   "source": [
    "# applying the groupby function on df\n",
    "teste = products[32].getDataframe().groupby(pd.Grouper(key='Date', axis=0, \n",
    "                      freq='2D')).sum()"
   ]
  },
  {
   "cell_type": "code",
   "execution_count": 22,
   "metadata": {},
   "outputs": [
    {
     "data": {
      "text/html": [
       "<div>\n",
       "<style scoped>\n",
       "    .dataframe tbody tr th:only-of-type {\n",
       "        vertical-align: middle;\n",
       "    }\n",
       "\n",
       "    .dataframe tbody tr th {\n",
       "        vertical-align: top;\n",
       "    }\n",
       "\n",
       "    .dataframe thead th {\n",
       "        text-align: right;\n",
       "    }\n",
       "</style>\n",
       "<table border=\"1\" class=\"dataframe\">\n",
       "  <thead>\n",
       "    <tr style=\"text-align: right;\">\n",
       "      <th></th>\n",
       "      <th>material</th>\n",
       "      <th>Demand</th>\n",
       "    </tr>\n",
       "    <tr>\n",
       "      <th>Date</th>\n",
       "      <th></th>\n",
       "      <th></th>\n",
       "    </tr>\n",
       "  </thead>\n",
       "  <tbody>\n",
       "    <tr>\n",
       "      <th>2021-01-17</th>\n",
       "      <td>0.0</td>\n",
       "      <td>0.0</td>\n",
       "    </tr>\n",
       "    <tr>\n",
       "      <th>2021-01-19</th>\n",
       "      <td>0.0</td>\n",
       "      <td>0.0</td>\n",
       "    </tr>\n",
       "    <tr>\n",
       "      <th>2021-01-23</th>\n",
       "      <td>0.0</td>\n",
       "      <td>0.0</td>\n",
       "    </tr>\n",
       "    <tr>\n",
       "      <th>2021-01-31</th>\n",
       "      <td>0.0</td>\n",
       "      <td>0.0</td>\n",
       "    </tr>\n",
       "    <tr>\n",
       "      <th>2021-02-04</th>\n",
       "      <td>0.0</td>\n",
       "      <td>0.0</td>\n",
       "    </tr>\n",
       "    <tr>\n",
       "      <th>...</th>\n",
       "      <td>...</td>\n",
       "      <td>...</td>\n",
       "    </tr>\n",
       "    <tr>\n",
       "      <th>2021-11-19</th>\n",
       "      <td>0.0</td>\n",
       "      <td>0.0</td>\n",
       "    </tr>\n",
       "    <tr>\n",
       "      <th>2021-11-23</th>\n",
       "      <td>0.0</td>\n",
       "      <td>0.0</td>\n",
       "    </tr>\n",
       "    <tr>\n",
       "      <th>2021-12-11</th>\n",
       "      <td>0.0</td>\n",
       "      <td>0.0</td>\n",
       "    </tr>\n",
       "    <tr>\n",
       "      <th>2021-12-15</th>\n",
       "      <td>0.0</td>\n",
       "      <td>0.0</td>\n",
       "    </tr>\n",
       "    <tr>\n",
       "      <th>2021-12-17</th>\n",
       "      <td>0.0</td>\n",
       "      <td>0.0</td>\n",
       "    </tr>\n",
       "  </tbody>\n",
       "</table>\n",
       "<p>65 rows × 2 columns</p>\n",
       "</div>"
      ],
      "text/plain": [
       "            material  Demand\n",
       "Date                        \n",
       "2021-01-17       0.0     0.0\n",
       "2021-01-19       0.0     0.0\n",
       "2021-01-23       0.0     0.0\n",
       "2021-01-31       0.0     0.0\n",
       "2021-02-04       0.0     0.0\n",
       "...              ...     ...\n",
       "2021-11-19       0.0     0.0\n",
       "2021-11-23       0.0     0.0\n",
       "2021-12-11       0.0     0.0\n",
       "2021-12-15       0.0     0.0\n",
       "2021-12-17       0.0     0.0\n",
       "\n",
       "[65 rows x 2 columns]"
      ]
     },
     "execution_count": 22,
     "metadata": {},
     "output_type": "execute_result"
    }
   ],
   "source": [
    "teste[teste[\"Demand\"] == 0]"
   ]
  }
 ],
 "metadata": {
  "interpreter": {
   "hash": "299a4ebd501d73f02436330372354c2b2698d2b56eaf76676afa2b5587f88ae4"
  },
  "kernelspec": {
   "display_name": "Python 3.9.0 ('.env': venv)",
   "language": "python",
   "name": "python3"
  },
  "language_info": {
   "codemirror_mode": {
    "name": "ipython",
    "version": 3
   },
   "file_extension": ".py",
   "mimetype": "text/x-python",
   "name": "python",
   "nbconvert_exporter": "python",
   "pygments_lexer": "ipython3",
   "version": "3.9.0"
  },
  "orig_nbformat": 4
 },
 "nbformat": 4,
 "nbformat_minor": 2
}

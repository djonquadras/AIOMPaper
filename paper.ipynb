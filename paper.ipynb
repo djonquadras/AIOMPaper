{
 "cells": [
  {
   "cell_type": "markdown",
   "metadata": {},
   "source": [
    "# Paper AIOM"
   ]
  },
  {
   "cell_type": "code",
   "execution_count": 1,
   "metadata": {},
   "outputs": [],
   "source": [
    "# Classes\n",
    "\n",
    "import pandas as pd\n",
    "import numpy as np\n",
    "import matplotlib.pyplot as plt\n",
    "import openpyxl\n",
    "import utils\n",
    "from datetime import date\n",
    "from datetime import timedelta\n",
    "from datetime import datetime"
   ]
  },
  {
   "cell_type": "code",
   "execution_count": 2,
   "metadata": {},
   "outputs": [
    {
     "name": "stdout",
     "output_type": "stream",
     "text": [
      "Quantidade de produtos diferentes = 890\n",
      "   material       Date  Demand\n",
      "0  14512164 2019-11-30     1.0\n",
      "1  11613045 2019-12-07    13.0\n",
      "2  15321257 2019-12-11     3.0\n",
      "3  14961079 2019-12-12     1.0\n",
      "4  11557275 2019-12-17   100.0\n"
     ]
    }
   ],
   "source": [
    "data = pd.read_excel(\"Demanda.xlsx\", engine='openpyxl')\n",
    "data = data.rename(columns={'Nº do material': \"material\", \"Data\": \"Date\", \"Demanda\": \"Demand\"})\n",
    "print(f\"Quantidade de produtos diferentes = {data.material.unique().size}\")\n",
    "print(data.head())"
   ]
  },
  {
   "cell_type": "code",
   "execution_count": 3,
   "metadata": {},
   "outputs": [],
   "source": [
    "# Create a list os products\n",
    "products = list()\n",
    "\n",
    "pareto = {\"a\": 100, \"b\":80}\n",
    "\n",
    "for material in data.material.unique():\n",
    "    product = utils.Product(dataframe=data[data.material == material], material=material)\n",
    "    product.processDataframe(pareto)\n",
    "\n",
    "    products.append(product)\n",
    "\n",
    "# Sorting the dataset\n",
    "products.sort(key = lambda x: x.size, reverse = True)\n"
   ]
  },
  {
   "cell_type": "code",
   "execution_count": 4,
   "metadata": {},
   "outputs": [
    {
     "name": "stdout",
     "output_type": "stream",
     "text": [
      "              Demand\n",
      "Date                \n",
      "2020-01-05     9.000\n",
      "2020-01-08     0.000\n",
      "2020-01-11   304.000\n",
      "2020-01-14     0.000\n",
      "2020-01-17  1100.000\n",
      "...              ...\n",
      "2021-02-10     0.000\n",
      "2021-02-13   915.000\n",
      "2021-02-16     2.000\n",
      "2021-02-19   352.000\n",
      "2021-02-22   618.731\n",
      "\n",
      "[139 rows x 1 columns]\n"
     ]
    }
   ],
   "source": [
    "print(products[0].dataset)"
   ]
  },
  {
   "cell_type": "code",
   "execution_count": 5,
   "metadata": {},
   "outputs": [
    {
     "data": {
      "text/plain": [
       "31"
      ]
     },
     "execution_count": 5,
     "metadata": {},
     "output_type": "execute_result"
    }
   ],
   "source": [
    "df1 = products[0].dataset\n",
    "demand = 0\n",
    "for row in df1.Demand:\n",
    "    if row == 0:\n",
    "        demand += 1\n",
    "\n",
    "demand"
   ]
  }
 ],
 "metadata": {
  "interpreter": {
   "hash": "299a4ebd501d73f02436330372354c2b2698d2b56eaf76676afa2b5587f88ae4"
  },
  "kernelspec": {
   "display_name": "Python 3.9.0 ('.env': venv)",
   "language": "python",
   "name": "python3"
  },
  "language_info": {
   "codemirror_mode": {
    "name": "ipython",
    "version": 3
   },
   "file_extension": ".py",
   "mimetype": "text/x-python",
   "name": "python",
   "nbconvert_exporter": "python",
   "pygments_lexer": "ipython3",
   "version": "3.9.0"
  },
  "orig_nbformat": 4
 },
 "nbformat": 4,
 "nbformat_minor": 2
}

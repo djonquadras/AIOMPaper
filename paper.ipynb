{
 "cells": [
  {
   "cell_type": "markdown",
   "metadata": {},
   "source": [
    "# Paper AIOM"
   ]
  },
  {
   "cell_type": "code",
   "execution_count": 2,
   "metadata": {},
   "outputs": [],
   "source": [
    "# Classes\n",
    "\n",
    "import pandas as pd\n",
    "import numpy as np\n",
    "import matplotlib as mpl\n",
    "import openpyxl"
   ]
  },
  {
   "cell_type": "code",
   "execution_count": 33,
   "metadata": {},
   "outputs": [
    {
     "name": "stdout",
     "output_type": "stream",
     "text": [
      "Quantidade de produtos diferentes = 890\n"
     ]
    }
   ],
   "source": [
    "data = pd.read_excel(\"D:\\GithubDjonathan\\AIOM\\Paper\\Demanda.xlsx\", engine='openpyxl')\n",
    "data = data.rename(columns={'Nº do material': \"material\"})\n",
    "uniqueValues = data.material.unique()\n",
    "print(f\"Quantidade de produtos diferentes = {uniqueValues.size}\")"
   ]
  },
  {
   "cell_type": "code",
   "execution_count": 34,
   "metadata": {},
   "outputs": [
    {
     "data": {
      "text/html": [
       "<div>\n",
       "<style scoped>\n",
       "    .dataframe tbody tr th:only-of-type {\n",
       "        vertical-align: middle;\n",
       "    }\n",
       "\n",
       "    .dataframe tbody tr th {\n",
       "        vertical-align: top;\n",
       "    }\n",
       "\n",
       "    .dataframe thead th {\n",
       "        text-align: right;\n",
       "    }\n",
       "</style>\n",
       "<table border=\"1\" class=\"dataframe\">\n",
       "  <thead>\n",
       "    <tr style=\"text-align: right;\">\n",
       "      <th></th>\n",
       "      <th>material</th>\n",
       "      <th>Data</th>\n",
       "      <th>Demanda</th>\n",
       "    </tr>\n",
       "  </thead>\n",
       "  <tbody>\n",
       "    <tr>\n",
       "      <th>0</th>\n",
       "      <td>14512164</td>\n",
       "      <td>2019-11-30</td>\n",
       "      <td>1.000</td>\n",
       "    </tr>\n",
       "    <tr>\n",
       "      <th>1</th>\n",
       "      <td>11613045</td>\n",
       "      <td>2019-12-07</td>\n",
       "      <td>13.000</td>\n",
       "    </tr>\n",
       "    <tr>\n",
       "      <th>2</th>\n",
       "      <td>15321257</td>\n",
       "      <td>2019-12-11</td>\n",
       "      <td>3.000</td>\n",
       "    </tr>\n",
       "    <tr>\n",
       "      <th>3</th>\n",
       "      <td>14961079</td>\n",
       "      <td>2019-12-12</td>\n",
       "      <td>1.000</td>\n",
       "    </tr>\n",
       "    <tr>\n",
       "      <th>4</th>\n",
       "      <td>11557275</td>\n",
       "      <td>2019-12-17</td>\n",
       "      <td>100.000</td>\n",
       "    </tr>\n",
       "    <tr>\n",
       "      <th>...</th>\n",
       "      <td>...</td>\n",
       "      <td>...</td>\n",
       "      <td>...</td>\n",
       "    </tr>\n",
       "    <tr>\n",
       "      <th>21893</th>\n",
       "      <td>14449599</td>\n",
       "      <td>2021-02-27</td>\n",
       "      <td>200.000</td>\n",
       "    </tr>\n",
       "    <tr>\n",
       "      <th>21894</th>\n",
       "      <td>11120374</td>\n",
       "      <td>2021-02-27</td>\n",
       "      <td>100.000</td>\n",
       "    </tr>\n",
       "    <tr>\n",
       "      <th>21895</th>\n",
       "      <td>10023620</td>\n",
       "      <td>2021-02-27</td>\n",
       "      <td>1.000</td>\n",
       "    </tr>\n",
       "    <tr>\n",
       "      <th>21896</th>\n",
       "      <td>10023623</td>\n",
       "      <td>2021-02-27</td>\n",
       "      <td>11.000</td>\n",
       "    </tr>\n",
       "    <tr>\n",
       "      <th>21897</th>\n",
       "      <td>10160720</td>\n",
       "      <td>2021-03-01</td>\n",
       "      <td>1450374.296</td>\n",
       "    </tr>\n",
       "  </tbody>\n",
       "</table>\n",
       "<p>21898 rows × 3 columns</p>\n",
       "</div>"
      ],
      "text/plain": [
       "       material       Data      Demanda\n",
       "0      14512164 2019-11-30        1.000\n",
       "1      11613045 2019-12-07       13.000\n",
       "2      15321257 2019-12-11        3.000\n",
       "3      14961079 2019-12-12        1.000\n",
       "4      11557275 2019-12-17      100.000\n",
       "...         ...        ...          ...\n",
       "21893  14449599 2021-02-27      200.000\n",
       "21894  11120374 2021-02-27      100.000\n",
       "21895  10023620 2021-02-27        1.000\n",
       "21896  10023623 2021-02-27       11.000\n",
       "21897  10160720 2021-03-01  1450374.296\n",
       "\n",
       "[21898 rows x 3 columns]"
      ]
     },
     "execution_count": 34,
     "metadata": {},
     "output_type": "execute_result"
    }
   ],
   "source": [
    "data"
   ]
  }
 ],
 "metadata": {
  "interpreter": {
   "hash": "e4362521de185dec04c580a27ae2ed9ed4e67ca5378772c6340ec50630ebb3a4"
  },
  "kernelspec": {
   "display_name": "Python 3.10.4 ('.env': venv)",
   "language": "python",
   "name": "python3"
  },
  "language_info": {
   "codemirror_mode": {
    "name": "ipython",
    "version": 3
   },
   "file_extension": ".py",
   "mimetype": "text/x-python",
   "name": "python",
   "nbconvert_exporter": "python",
   "pygments_lexer": "ipython3",
   "version": "3.9.0"
  },
  "orig_nbformat": 4
 },
 "nbformat": 4,
 "nbformat_minor": 2
}

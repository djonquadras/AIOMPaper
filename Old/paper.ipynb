{
 "cells": [
  {
   "cell_type": "markdown",
   "metadata": {},
   "source": [
    "# Paper AIOM"
   ]
  },
  {
   "cell_type": "code",
   "execution_count": 1,
   "metadata": {},
   "outputs": [],
   "source": [
    "# Classes\n",
    "\n",
    "import pandas as pd\n",
    "import numpy as np\n",
    "import matplotlib.pyplot as plt\n",
    "import openpyxl\n",
    "import utils\n",
    "from datetime import date\n",
    "from datetime import timedelta\n",
    "from datetime import datetime"
   ]
  },
  {
   "cell_type": "code",
   "execution_count": 2,
   "metadata": {},
   "outputs": [
    {
     "name": "stdout",
     "output_type": "stream",
     "text": [
      "Quantidade de produtos diferentes = 890\n",
      "   material       Date  Demand\n",
      "0  14512164 2019-11-30     1.0\n",
      "1  11613045 2019-12-07    13.0\n",
      "2  15321257 2019-12-11     3.0\n",
      "3  14961079 2019-12-12     1.0\n",
      "4  11557275 2019-12-17   100.0\n"
     ]
    }
   ],
   "source": [
    "data = pd.read_excel(\"Book1.xlsx\", engine='openpyxl')\n",
    "data = data.rename(columns={'Nº do material': \"material\", \"Data\": \"Date\", \"Demanda\": \"Demand\"})\n",
    "print(f\"Quantidade de produtos diferentes = {data.material.unique().size}\")\n",
    "print(data.head())"
   ]
  },
  {
   "cell_type": "code",
   "execution_count": 3,
   "metadata": {},
   "outputs": [],
   "source": [
    "# Create a list os products\n",
    "products = list()\n",
    "\n",
    "pareto = {\"a\": 100, \"b\":80}\n",
    "\n",
    "for material in data.material.unique():\n",
    "    product = utils.Product(dataframe=data[data.material == material], material=material)\n",
    "    product.processDataframe(pareto)\n",
    "\n",
    "    products.append(product)\n",
    "\n",
    "# Sorting the dataset\n",
    "products.sort(key = lambda x: x.size, reverse = True)\n"
   ]
  },
  {
   "cell_type": "code",
   "execution_count": 7,
   "metadata": {},
   "outputs": [
    {
     "name": "stdout",
     "output_type": "stream",
     "text": [
      "[240, 184, 183, 181, 179, 165, 164, 156, 151, 148, 146, 146, 134, 134, 134, 132, 129, 128, 124, 123, 122, 121, 120, 119, 116, 116, 114, 113, 113, 113, 111, 111, 109, 107, 107, 107, 107, 106, 102, 102, 101, 99, 98, 97, 97, 95, 94, 94, 94, 94, 93, 93, 92, 92, 92, 91, 91, 91, 90, 90, 90, 89, 88, 88, 88, 87, 87, 87, 86, 85, 85, 84, 84, 84, 82, 81, 81, 80, 80, 80, 79, 78, 77, 77, 77, 76, 75, 74, 74, 74, 74, 71, 71, 70, 70, 70, 69, 69, 68, 67, 67, 67, 67, 67, 66, 66, 65, 65, 65, 65, 65, 65, 65, 64, 64, 64, 63, 63, 63, 62, 61, 61, 61, 60, 59, 59, 59, 59, 59, 58, 57, 57, 57, 57, 57, 56, 56, 56, 56, 54, 54, 54, 54, 53, 53, 53, 53, 53, 53, 53, 52, 52, 52, 52, 51, 51, 50, 50, 50, 50, 50, 49, 49, 49, 48, 48, 47, 47, 47, 47, 47, 47, 46, 46, 46, 46, 46, 46, 46, 46, 45, 45, 45, 45, 45, 45, 44, 44, 44, 44, 43, 43, 43, 43, 43, 43, 43, 43, 42, 42, 41, 41, 41, 40, 39, 38, 38, 38, 38, 37, 37, 37, 37, 37, 37, 37, 37, 35, 35, 35, 34, 34, 34, 34, 33, 33, 33, 33, 33, 33, 33, 33, 32, 32, 32, 32, 32, 32, 32, 32, 31, 31, 31, 31, 31, 30, 30, 30, 30, 30, 29, 29, 29, 29, 29, 29, 28, 28, 28, 28, 28, 27, 27, 27, 27, 27, 27, 26, 26, 26, 26, 26, 26, 26, 26, 25, 25, 25, 25, 25, 25, 24, 24, 24, 24, 24, 24, 24, 24, 24, 24, 23, 23, 23, 23, 23, 23, 22, 22, 22, 22, 22, 21, 21, 21, 21, 21, 21, 20, 20, 20, 20, 20, 20, 20, 19, 19, 19, 19, 19, 19, 19, 19, 19, 19, 19, 18, 18, 18, 18, 18, 18, 18, 18, 18, 18, 17, 17, 17, 17, 17, 17, 16, 16, 16, 16, 16, 16, 16, 16, 15, 15, 15, 15, 15, 15, 15, 14, 14, 14, 14, 14, 14, 14, 14, 14, 14, 14, 14, 14, 14, 14, 13, 13, 13, 13, 13, 13, 13, 13, 13, 13, 13, 13, 12, 12, 12, 12, 12, 12, 12, 12, 12, 12, 12, 12, 12, 12, 12, 11, 11, 11, 11, 11, 11, 11, 11, 11, 11, 11, 10, 10, 10, 10, 10, 10, 10, 10, 10, 10, 10, 10, 10, 10, 10, 9, 9, 9, 9, 9, 9, 9, 9, 9, 9, 9, 9, 9, 9, 9, 9, 9, 9, 9, 8, 8, 8, 8, 8, 8, 8, 8, 8, 8, 8, 8, 8, 8, 8, 8, 8, 8, 8, 8, 8, 7, 7, 7, 7, 7, 7, 7, 7, 7, 7, 7, 7, 7, 7, 7, 7, 7, 7, 7, 7, 6, 6, 6, 6, 6, 6, 6, 6, 6, 6, 6, 6, 6, 6, 6, 6, 6, 6, 6, 6, 6, 6, 5, 5, 5, 5, 5, 5, 5, 5, 5, 5, 5, 5, 5, 5, 5, 5, 5, 5, 5, 5, 5, 5, 5, 5, 5, 5, 5, 5, 5, 5, 4, 4, 4, 4, 4, 4, 4, 4, 4, 4, 4, 4, 4, 4, 4, 4, 4, 4, 4, 4, 4, 4, 4, 4, 4, 4, 4, 4, 4, 4, 4, 4, 4, 4, 4, 3, 3, 3, 3, 3, 3, 3, 3, 3, 3, 3, 3, 3, 3, 3, 3, 3, 3, 3, 3, 3, 3, 3, 3, 3, 3, 3, 3, 3, 3, 3, 3, 3, 3, 3, 3, 3, 3, 3, 3, 3, 3, 3, 2, 2, 2, 2, 2, 2, 2, 2, 2, 2, 2, 2, 2, 2, 2, 2, 2, 2, 2, 2, 2, 2, 2, 2, 2, 2, 2, 2, 2, 2, 2, 2, 2, 2, 2, 2, 2, 2, 2, 2, 2, 2, 2, 2, 2, 2, 2, 2, 2, 2, 2, 2, 2, 2, 2, 2, 2, 2, 2, 2, 2, 2, 2, 2, 2, 2, 2, 2, 2, 2, 2, 2, 2, 2, 2, 2, 2, 2, 2, 2, 1, 1, 1, 1, 1, 1, 1, 1, 1, 1, 1, 1, 1, 1, 1, 1, 1, 1, 1, 1, 1, 1, 1, 1, 1, 1, 1, 1, 1, 1, 1, 1, 1, 1, 1, 1, 1, 1, 1, 1, 1, 1, 1, 1, 1, 1, 1, 1, 1, 1, 1, 1, 1, 1, 1, 1, 1, 1, 1, 1, 1, 1, 1, 1, 1, 1, 1, 1, 1, 1, 1, 1, 1, 1, 1, 1, 1, 1, 1, 1, 1, 1, 1, 1, 1, 1, 1, 1, 1, 1, 1, 1, 1, 1, 1, 1, 1, 1, 1, 1, 1, 1, 1, 1, 1, 1, 1, 1, 1, 1, 1, 1, 1, 1, 1, 1, 1, 1, 1, 1, 1, 1, 1, 1, 1, 1, 1, 1, 1, 1, 1, 1, 1, 1, 1, 1, 1, 1, 1, 1, 1, 1, 1, 1, 1, 1, 1, 1, 1, 1, 1, 1, 1, 1, 1, 1, 1, 1, 1, 1, 1, 1, 1, 1, 1, 1, 1, 1, 1, 1, 1, 1, 1, 1, 1, 1, 1, 1, 1, 1, 1, 1, 1, 1, 1, 1, 1, 1, 1, 1, 1, 1, 1, 1, 1]\n"
     ]
    }
   ],
   "source": [
    "tamanhos = list()\n",
    "total = len(data)\n",
    "for product in products:\n",
    "    tamanhos.append(product.size)\n",
    "    \n",
    "print(tamanhos)"
   ]
  },
  {
   "cell_type": "code",
   "execution_count": 14,
   "metadata": {},
   "outputs": [
    {
     "data": {
      "text/plain": [
       "890"
      ]
     },
     "execution_count": 14,
     "metadata": {},
     "output_type": "execute_result"
    }
   ],
   "source": [
    "len(tamanhos)"
   ]
  },
  {
   "cell_type": "code",
   "execution_count": 32,
   "metadata": {},
   "outputs": [],
   "source": [
    "tamanho = len(data)\n",
    "produtosA = 0\n",
    "paretoA = 0\n",
    "produtosB = 0\n",
    "paretoB = 0\n",
    "produtosC = 0\n",
    "paretoC = 0\n",
    "\n",
    "\n",
    "for product in products:\n",
    "    #print((product.size) + paretoA)\n",
    "    #print(0.2*tamanho)\n",
    "    if (product.size) + paretoA <= 0.6*tamanho:\n",
    "        \n",
    "        produtosA += 1\n",
    "        paretoA += (product.size)\n",
    "    elif (product.size) + paretoB <= 0.25*tamanho:\n",
    "        produtosB += 1\n",
    "        paretoB += (product.size)\n",
    "    else:\n",
    "        produtosC += 1\n",
    "        paretoC += (product.size)\n",
    "\n"
   ]
  },
  {
   "cell_type": "code",
   "execution_count": 29,
   "metadata": {},
   "outputs": [
    {
     "name": "stdout",
     "output_type": "stream",
     "text": [
      "21898\n",
      "Pareto = 14702\n",
      "67.13855146588729\n"
     ]
    }
   ],
   "source": [
    "print(tamanho)\n",
    "pareto = 0\n",
    "\n",
    "\n",
    "for i in range(0,round(len(products)*0.2)):\n",
    "    \n",
    "    pareto += products[i].size\n",
    "\n",
    "print(f\"Pareto = {pareto}\")\n",
    "\n",
    "\n",
    "print(pareto*100/tamanho)"
   ]
  },
  {
   "cell_type": "code",
   "execution_count": 33,
   "metadata": {},
   "outputs": [
    {
     "name": "stdout",
     "output_type": "stream",
     "text": [
      "<---------- Produtos A ---------->\n",
      "Produtos = 147\n",
      "Pareto = 59.996346698328615\n",
      "\n",
      "<---------- Produtos B ---------->\n",
      "Produtos = 152\n",
      "Pareto = 24.997716686455384\n",
      "\n",
      "<---------- Produtos C ---------->\n",
      "Produtos = 591\n",
      "Pareto = 15.005936615216001\n",
      "\n"
     ]
    }
   ],
   "source": [
    "print(\"<---------- Produtos A ---------->\")\n",
    "print(f\"Produtos = {produtosA}\")\n",
    "print(f\"Pareto = {(paretoA*100/tamanho)}\")\n",
    "print(\"\")\n",
    "print(\"<---------- Produtos B ---------->\")\n",
    "print(f\"Produtos = {produtosB}\")\n",
    "print(f\"Pareto = {(paretoB*100/tamanho)}\")\n",
    "print(\"\")\n",
    "print(\"<---------- Produtos C ---------->\")\n",
    "print(f\"Produtos = {produtosC}\")\n",
    "print(f\"Pareto = {paretoC*100/tamanho}\")\n",
    "print(\"\")"
   ]
  },
  {
   "cell_type": "code",
   "execution_count": null,
   "metadata": {},
   "outputs": [],
   "source": []
  },
  {
   "cell_type": "code",
   "execution_count": 5,
   "metadata": {},
   "outputs": [
    {
     "data": {
      "text/plain": [
       "31"
      ]
     },
     "execution_count": 5,
     "metadata": {},
     "output_type": "execute_result"
    }
   ],
   "source": [
    "df1 = products[0].dataset\n",
    "demand = 0\n",
    "for row in df1.Demand:\n",
    "    if row == 0:\n",
    "        demand += 1\n",
    "\n",
    "demand"
   ]
  }
 ],
 "metadata": {
  "interpreter": {
   "hash": "299a4ebd501d73f02436330372354c2b2698d2b56eaf76676afa2b5587f88ae4"
  },
  "kernelspec": {
   "display_name": "Python 3.9.0 ('.env': venv)",
   "language": "python",
   "name": "python3"
  },
  "language_info": {
   "codemirror_mode": {
    "name": "ipython",
    "version": 3
   },
   "file_extension": ".py",
   "mimetype": "text/x-python",
   "name": "python",
   "nbconvert_exporter": "python",
   "pygments_lexer": "ipython3",
   "version": "3.9.0"
  },
  "orig_nbformat": 4
 },
 "nbformat": 4,
 "nbformat_minor": 2
}
